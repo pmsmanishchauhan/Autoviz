{
  "cells": [
    {
      "cell_type": "markdown",
      "metadata": {
        "id": "view-in-github",
        "colab_type": "text"
      },
      "source": [
        "<a href=\"https://colab.research.google.com/github/user-2608/Autoviz/blob/main/techjockey.ipynb\" target=\"_parent\"><img src=\"https://colab.research.google.com/assets/colab-badge.svg\" alt=\"Open In Colab\"/></a>"
      ]
    },
    {
      "cell_type": "code",
      "execution_count": null,
      "metadata": {
        "colab": {
          "base_uri": "https://localhost:8080/"
        },
        "id": "DPE0AxcyqqEV",
        "outputId": "2b57ca66-e898-425c-ade7-4633c500b0c3"
      },
      "outputs": [
        {
          "name": "stdout",
          "output_type": "stream",
          "text": [
            "Executing: /tmp/apt-key-gpghome.XsXFpIAye7/gpg.1.sh --keyserver keyserver.ubuntu.com --recv-keys DCC9EFBF77E11517\n",
            "gpg: key DCC9EFBF77E11517: public key \"Debian Stable Release Key (10/buster) <debian-release@lists.debian.org>\" imported\n",
            "gpg: Total number processed: 1\n",
            "gpg:               imported: 1\n",
            "Executing: /tmp/apt-key-gpghome.GkFXIwSJeA/gpg.1.sh --keyserver keyserver.ubuntu.com --recv-keys 648ACFD622F3D138\n",
            "gpg: key DC30D7C23CBBABEE: public key \"Debian Archive Automatic Signing Key (10/buster) <ftpmaster@debian.org>\" imported\n",
            "gpg: Total number processed: 1\n",
            "gpg:               imported: 1\n",
            "Executing: /tmp/apt-key-gpghome.bYaKQQuWcB/gpg.1.sh --keyserver keyserver.ubuntu.com --recv-keys 112695A0E562B32A\n",
            "gpg: key 4DFAB270CAA96DFA: public key \"Debian Security Archive Automatic Signing Key (10/buster) <ftpmaster@debian.org>\" imported\n",
            "gpg: Total number processed: 1\n",
            "gpg:               imported: 1\n",
            "Warning: apt-key output should not be parsed (stdout is not a terminal)\n",
            "Warning: apt-key output should not be parsed (stdout is not a terminal)\n",
            "Warning: apt-key output should not be parsed (stdout is not a terminal)\n",
            "Get:1 http://deb.debian.org/debian buster InRelease [122 kB]\n",
            "Get:2 http://deb.debian.org/debian buster-updates InRelease [56.6 kB]\n",
            "Get:3 http://deb.debian.org/debian-security buster/updates InRelease [34.8 kB]\n",
            "Hit:4 http://archive.ubuntu.com/ubuntu focal InRelease\n",
            "Get:5 http://archive.ubuntu.com/ubuntu focal-updates InRelease [114 kB]\n",
            "Get:6 https://developer.download.nvidia.com/compute/cuda/repos/ubuntu2004/x86_64  InRelease [1,581 B]\n",
            "Get:7 https://cloud.r-project.org/bin/linux/ubuntu focal-cran40/ InRelease [3,622 B]\n",
            "Get:8 http://deb.debian.org/debian buster/main amd64 Packages [10.7 MB]\n",
            "Hit:9 http://ppa.launchpad.net/c2d4u.team/c2d4u4.0+/ubuntu focal InRelease\n",
            "Get:10 http://security.ubuntu.com/ubuntu focal-security InRelease [114 kB]\n",
            "Get:11 http://archive.ubuntu.com/ubuntu focal-backports InRelease [108 kB]\n",
            "Get:12 http://deb.debian.org/debian buster-updates/main amd64 Packages [9,745 B]\n",
            "Hit:13 http://ppa.launchpad.net/cran/libgit2/ubuntu focal InRelease\n",
            "Get:14 http://deb.debian.org/debian-security buster/updates/main amd64 Packages [692 kB]\n",
            "Hit:15 http://ppa.launchpad.net/deadsnakes/ppa/ubuntu focal InRelease\n",
            "Get:16 https://developer.download.nvidia.com/compute/cuda/repos/ubuntu2004/x86_64  Packages [1,083 kB]\n",
            "Hit:17 http://ppa.launchpad.net/graphics-drivers/ppa/ubuntu focal InRelease\n",
            "Hit:18 http://ppa.launchpad.net/ubuntugis/ppa/ubuntu focal InRelease\n",
            "Get:19 http://archive.ubuntu.com/ubuntu focal-updates/universe amd64 Packages [1,370 kB]\n",
            "Get:20 http://archive.ubuntu.com/ubuntu focal-updates/restricted amd64 Packages [2,677 kB]\n",
            "Get:21 http://archive.ubuntu.com/ubuntu focal-updates/main amd64 Packages [3,347 kB]\n",
            "Get:22 http://archive.ubuntu.com/ubuntu focal-updates/multiverse amd64 Packages [32.0 kB]\n",
            "Get:23 http://security.ubuntu.com/ubuntu focal-security/restricted amd64 Packages [2,536 kB]\n",
            "Get:24 http://security.ubuntu.com/ubuntu focal-security/universe amd64 Packages [1,071 kB]\n",
            "Get:25 http://security.ubuntu.com/ubuntu focal-security/multiverse amd64 Packages [29.3 kB]\n",
            "Get:26 http://security.ubuntu.com/ubuntu focal-security/main amd64 Packages [2,866 kB]\n",
            "Fetched 27.0 MB in 4s (6,486 kB/s)\n",
            "Reading package lists... Done\n",
            "Reading package lists... Done\n",
            "Building dependency tree       \n",
            "Reading state information... Done\n",
            "The following additional packages will be installed:\n",
            "  chromium-common chromium-sandbox libevent-2.1-6 libfontenc1 libicu63\n",
            "  libimobiledevice6 libjpeg62-turbo libplist3 libre2-5 libu2f-udev libudev1\n",
            "  libupower-glib3 libusbmuxd6 libvpx5 libxkbfile1 libxtst6 libxxf86dga1\n",
            "  notification-daemon udev upower usbmuxd x11-utils\n",
            "Suggested packages:\n",
            "  chromium-l10n chromium-shell libusbmuxd-tools mesa-utils\n",
            "The following NEW packages will be installed:\n",
            "  chromium chromium-common chromium-driver chromium-sandbox libevent-2.1-6\n",
            "  libfontenc1 libicu63 libimobiledevice6 libjpeg62-turbo libplist3 libre2-5\n",
            "  libu2f-udev libupower-glib3 libusbmuxd6 libvpx5 libxkbfile1 libxtst6\n",
            "  libxxf86dga1 notification-daemon udev upower usbmuxd x11-utils\n",
            "The following packages will be upgraded:\n",
            "  libudev1\n",
            "1 upgraded, 23 newly installed, 0 to remove and 14 not upgraded.\n",
            "Need to get 76.2 MB of archives.\n",
            "After this operation, 266 MB of additional disk space will be used.\n",
            "Get:1 http://archive.ubuntu.com/ubuntu focal-updates/main amd64 libudev1 amd64 245.4-4ubuntu3.22 [75.4 kB]\n",
            "Get:2 http://deb.debian.org/debian buster/main amd64 libevent-2.1-6 amd64 2.1.8-stable-4 [177 kB]\n",
            "Get:3 http://archive.ubuntu.com/ubuntu focal-updates/main amd64 udev amd64 245.4-4ubuntu3.22 [1,366 kB]\n",
            "Get:4 http://deb.debian.org/debian buster/main amd64 libicu63 amd64 63.1-6+deb10u3 [8,293 kB]\n",
            "Get:5 http://deb.debian.org/debian buster/main amd64 libjpeg62-turbo amd64 1:1.5.2-2+deb10u1 [133 kB]\n",
            "Get:6 http://deb.debian.org/debian buster/main amd64 libvpx5 amd64 1.7.0-3+deb10u1 [800 kB]\n",
            "Get:7 http://deb.debian.org/debian buster/main amd64 chromium-common amd64 90.0.4430.212-1~deb10u1 [1,423 kB]\n",
            "Get:8 http://archive.ubuntu.com/ubuntu focal/main amd64 libre2-5 amd64 20200101+dfsg-1build1 [162 kB]\n",
            "Get:9 http://archive.ubuntu.com/ubuntu focal/main amd64 libfontenc1 amd64 1:1.1.4-0ubuntu1 [14.0 kB]\n",
            "Get:10 http://archive.ubuntu.com/ubuntu focal/main amd64 libxkbfile1 amd64 1:1.1.0-1 [65.3 kB]\n",
            "Get:11 http://deb.debian.org/debian buster/main amd64 chromium amd64 90.0.4430.212-1~deb10u1 [58.3 MB]\n",
            "Get:12 http://archive.ubuntu.com/ubuntu focal/main amd64 libxtst6 amd64 2:1.2.3-1 [12.8 kB]\n",
            "Get:13 http://archive.ubuntu.com/ubuntu focal/main amd64 libxxf86dga1 amd64 2:1.1.5-0ubuntu1 [12.0 kB]\n",
            "Get:14 http://archive.ubuntu.com/ubuntu focal/main amd64 x11-utils amd64 7.7+5 [199 kB]\n",
            "Get:15 http://archive.ubuntu.com/ubuntu focal/main amd64 libplist3 amd64 2.1.0-4build2 [31.6 kB]\n",
            "Get:16 http://archive.ubuntu.com/ubuntu focal/main amd64 libusbmuxd6 amd64 2.0.1-2 [19.1 kB]\n",
            "Get:17 http://archive.ubuntu.com/ubuntu focal/main amd64 libimobiledevice6 amd64 1.2.1~git20191129.9f79242-1build1 [65.2 kB]\n",
            "Get:18 http://archive.ubuntu.com/ubuntu focal/main amd64 libu2f-udev all 1.1.10-1 [6,108 B]\n",
            "Get:19 http://archive.ubuntu.com/ubuntu focal/main amd64 libupower-glib3 amd64 0.99.11-1build2 [43.2 kB]\n",
            "Get:20 http://archive.ubuntu.com/ubuntu focal/universe amd64 notification-daemon amd64 3.20.0-4 [37.0 kB]\n",
            "Get:21 http://archive.ubuntu.com/ubuntu focal/main amd64 upower amd64 0.99.11-1build2 [104 kB]\n",
            "Get:22 http://archive.ubuntu.com/ubuntu focal/main amd64 usbmuxd amd64 1.1.1~git20191130.9af2b12-1 [38.4 kB]\n",
            "Get:23 http://deb.debian.org/debian buster/main amd64 chromium-driver amd64 90.0.4430.212-1~deb10u1 [4,703 kB]\n",
            "Get:24 http://deb.debian.org/debian buster/main amd64 chromium-sandbox amd64 90.0.4430.212-1~deb10u1 [146 kB]\n",
            "Fetched 76.2 MB in 1s (93.4 MB/s)\n",
            "(Reading database ... 123105 files and directories currently installed.)\n",
            "Preparing to unpack .../libudev1_245.4-4ubuntu3.22_amd64.deb ...\n",
            "Unpacking libudev1:amd64 (245.4-4ubuntu3.22) over (245.4-4ubuntu3.21) ...\n",
            "Setting up libudev1:amd64 (245.4-4ubuntu3.22) ...\n",
            "Selecting previously unselected package udev.\n",
            "(Reading database ... 123105 files and directories currently installed.)\n",
            "Preparing to unpack .../00-udev_245.4-4ubuntu3.22_amd64.deb ...\n",
            "Unpacking udev (245.4-4ubuntu3.22) ...\n",
            "Selecting previously unselected package libevent-2.1-6:amd64.\n",
            "Preparing to unpack .../01-libevent-2.1-6_2.1.8-stable-4_amd64.deb ...\n",
            "Unpacking libevent-2.1-6:amd64 (2.1.8-stable-4) ...\n",
            "Selecting previously unselected package libicu63:amd64.\n",
            "Preparing to unpack .../02-libicu63_63.1-6+deb10u3_amd64.deb ...\n",
            "Unpacking libicu63:amd64 (63.1-6+deb10u3) ...\n",
            "Selecting previously unselected package libjpeg62-turbo:amd64.\n",
            "Preparing to unpack .../03-libjpeg62-turbo_1%3a1.5.2-2+deb10u1_amd64.deb ...\n",
            "Unpacking libjpeg62-turbo:amd64 (1:1.5.2-2+deb10u1) ...\n",
            "Selecting previously unselected package libre2-5:amd64.\n",
            "Preparing to unpack .../04-libre2-5_20200101+dfsg-1build1_amd64.deb ...\n",
            "Unpacking libre2-5:amd64 (20200101+dfsg-1build1) ...\n",
            "Selecting previously unselected package libvpx5:amd64.\n",
            "Preparing to unpack .../05-libvpx5_1.7.0-3+deb10u1_amd64.deb ...\n",
            "Unpacking libvpx5:amd64 (1.7.0-3+deb10u1) ...\n",
            "Selecting previously unselected package libfontenc1:amd64.\n",
            "Preparing to unpack .../06-libfontenc1_1%3a1.1.4-0ubuntu1_amd64.deb ...\n",
            "Unpacking libfontenc1:amd64 (1:1.1.4-0ubuntu1) ...\n",
            "Selecting previously unselected package libxkbfile1:amd64.\n",
            "Preparing to unpack .../07-libxkbfile1_1%3a1.1.0-1_amd64.deb ...\n",
            "Unpacking libxkbfile1:amd64 (1:1.1.0-1) ...\n",
            "Selecting previously unselected package libxtst6:amd64.\n",
            "Preparing to unpack .../08-libxtst6_2%3a1.2.3-1_amd64.deb ...\n",
            "Unpacking libxtst6:amd64 (2:1.2.3-1) ...\n",
            "Selecting previously unselected package libxxf86dga1:amd64.\n",
            "Preparing to unpack .../09-libxxf86dga1_2%3a1.1.5-0ubuntu1_amd64.deb ...\n",
            "Unpacking libxxf86dga1:amd64 (2:1.1.5-0ubuntu1) ...\n",
            "Selecting previously unselected package x11-utils.\n",
            "Preparing to unpack .../10-x11-utils_7.7+5_amd64.deb ...\n",
            "Unpacking x11-utils (7.7+5) ...\n",
            "Selecting previously unselected package chromium-common.\n",
            "Preparing to unpack .../11-chromium-common_90.0.4430.212-1~deb10u1_amd64.deb ...\n",
            "Unpacking chromium-common (90.0.4430.212-1~deb10u1) ...\n",
            "Selecting previously unselected package chromium.\n",
            "Preparing to unpack .../12-chromium_90.0.4430.212-1~deb10u1_amd64.deb ...\n",
            "Unpacking chromium (90.0.4430.212-1~deb10u1) ...\n",
            "Selecting previously unselected package chromium-driver.\n",
            "Preparing to unpack .../13-chromium-driver_90.0.4430.212-1~deb10u1_amd64.deb ...\n",
            "Unpacking chromium-driver (90.0.4430.212-1~deb10u1) ...\n",
            "Selecting previously unselected package chromium-sandbox.\n",
            "Preparing to unpack .../14-chromium-sandbox_90.0.4430.212-1~deb10u1_amd64.deb ...\n",
            "Unpacking chromium-sandbox (90.0.4430.212-1~deb10u1) ...\n",
            "Selecting previously unselected package libplist3:amd64.\n",
            "Preparing to unpack .../15-libplist3_2.1.0-4build2_amd64.deb ...\n",
            "Unpacking libplist3:amd64 (2.1.0-4build2) ...\n",
            "Selecting previously unselected package libusbmuxd6:amd64.\n",
            "Preparing to unpack .../16-libusbmuxd6_2.0.1-2_amd64.deb ...\n",
            "Unpacking libusbmuxd6:amd64 (2.0.1-2) ...\n",
            "Selecting previously unselected package libimobiledevice6:amd64.\n",
            "Preparing to unpack .../17-libimobiledevice6_1.2.1~git20191129.9f79242-1build1_amd64.deb ...\n",
            "Unpacking libimobiledevice6:amd64 (1.2.1~git20191129.9f79242-1build1) ...\n",
            "Selecting previously unselected package libu2f-udev.\n",
            "Preparing to unpack .../18-libu2f-udev_1.1.10-1_all.deb ...\n",
            "Unpacking libu2f-udev (1.1.10-1) ...\n",
            "Selecting previously unselected package libupower-glib3:amd64.\n",
            "Preparing to unpack .../19-libupower-glib3_0.99.11-1build2_amd64.deb ...\n",
            "Unpacking libupower-glib3:amd64 (0.99.11-1build2) ...\n",
            "Selecting previously unselected package notification-daemon.\n",
            "Preparing to unpack .../20-notification-daemon_3.20.0-4_amd64.deb ...\n",
            "Unpacking notification-daemon (3.20.0-4) ...\n",
            "Selecting previously unselected package upower.\n",
            "Preparing to unpack .../21-upower_0.99.11-1build2_amd64.deb ...\n",
            "Unpacking upower (0.99.11-1build2) ...\n",
            "Selecting previously unselected package usbmuxd.\n",
            "Preparing to unpack .../22-usbmuxd_1.1.1~git20191130.9af2b12-1_amd64.deb ...\n",
            "Unpacking usbmuxd (1.1.1~git20191130.9af2b12-1) ...\n",
            "Setting up libplist3:amd64 (2.1.0-4build2) ...\n",
            "Setting up libxtst6:amd64 (2:1.2.3-1) ...\n",
            "Setting up libxxf86dga1:amd64 (2:1.1.5-0ubuntu1) ...\n",
            "Setting up chromium-sandbox (90.0.4430.212-1~deb10u1) ...\n",
            "Setting up libicu63:amd64 (63.1-6+deb10u3) ...\n",
            "Setting up notification-daemon (3.20.0-4) ...\n",
            "Setting up libfontenc1:amd64 (1:1.1.4-0ubuntu1) ...\n",
            "Setting up libjpeg62-turbo:amd64 (1:1.5.2-2+deb10u1) ...\n",
            "Setting up udev (245.4-4ubuntu3.22) ...\n",
            "invoke-rc.d: could not determine current runlevel\n",
            "invoke-rc.d: policy-rc.d denied execution of start.\n",
            "Setting up libevent-2.1-6:amd64 (2.1.8-stable-4) ...\n",
            "Setting up libusbmuxd6:amd64 (2.0.1-2) ...\n",
            "Setting up libupower-glib3:amd64 (0.99.11-1build2) ...\n",
            "Setting up libre2-5:amd64 (20200101+dfsg-1build1) ...\n",
            "Setting up libxkbfile1:amd64 (1:1.1.0-1) ...\n",
            "Setting up libimobiledevice6:amd64 (1.2.1~git20191129.9f79242-1build1) ...\n",
            "Setting up libvpx5:amd64 (1.7.0-3+deb10u1) ...\n",
            "Setting up libu2f-udev (1.1.10-1) ...\n",
            "Failed to send reload request: No such file or directory\n",
            "Setting up upower (0.99.11-1build2) ...\n",
            "Setting up usbmuxd (1.1.1~git20191130.9af2b12-1) ...\n",
            "Warning: The home dir /var/lib/usbmux you specified can't be accessed: No such file or directory\n",
            "Adding system user `usbmux' (UID 105) ...\n",
            "Adding new user `usbmux' (UID 105) with group `plugdev' ...\n",
            "Not creating home directory `/var/lib/usbmux'.\n",
            "Setting up x11-utils (7.7+5) ...\n",
            "Setting up chromium-common (90.0.4430.212-1~deb10u1) ...\n",
            "Setting up chromium (90.0.4430.212-1~deb10u1) ...\n",
            "update-alternatives: using /usr/bin/chromium to provide /usr/bin/x-www-browser (x-www-browser) in auto mode\n",
            "update-alternatives: using /usr/bin/chromium to provide /usr/bin/gnome-www-browser (gnome-www-browser) in auto mode\n",
            "Setting up chromium-driver (90.0.4430.212-1~deb10u1) ...\n",
            "Processing triggers for systemd (245.4-4ubuntu3.22) ...\n",
            "Processing triggers for man-db (2.9.1-1) ...\n",
            "Processing triggers for dbus (1.12.16-2ubuntu2.3) ...\n",
            "Processing triggers for mime-support (3.64ubuntu1) ...\n",
            "Processing triggers for hicolor-icon-theme (0.17-2) ...\n",
            "Processing triggers for libc-bin (2.31-0ubuntu9.9) ...\n",
            "Collecting selenium\n",
            "  Downloading selenium-4.10.0-py3-none-any.whl (6.7 MB)\n",
            "\u001b[2K     \u001b[90m━━━━━━━━━━━━━━━━━━━━━━━━━━━━━━━━━━━━━━━━\u001b[0m \u001b[32m6.7/6.7 MB\u001b[0m \u001b[31m47.3 MB/s\u001b[0m eta \u001b[36m0:00:00\u001b[0m\n",
            "\u001b[?25hRequirement already satisfied: urllib3[socks]<3,>=1.26 in /usr/local/lib/python3.10/dist-packages (from selenium) (1.26.16)\n",
            "Collecting trio~=0.17 (from selenium)\n",
            "  Downloading trio-0.22.2-py3-none-any.whl (400 kB)\n",
            "\u001b[2K     \u001b[90m━━━━━━━━━━━━━━━━━━━━━━━━━━━━━━━━━━━━━━\u001b[0m \u001b[32m400.2/400.2 kB\u001b[0m \u001b[31m32.0 MB/s\u001b[0m eta \u001b[36m0:00:00\u001b[0m\n",
            "\u001b[?25hCollecting trio-websocket~=0.9 (from selenium)\n",
            "  Downloading trio_websocket-0.10.3-py3-none-any.whl (17 kB)\n",
            "Requirement already satisfied: certifi>=2021.10.8 in /usr/local/lib/python3.10/dist-packages (from selenium) (2023.5.7)\n",
            "Requirement already satisfied: attrs>=20.1.0 in /usr/local/lib/python3.10/dist-packages (from trio~=0.17->selenium) (23.1.0)\n",
            "Requirement already satisfied: sortedcontainers in /usr/local/lib/python3.10/dist-packages (from trio~=0.17->selenium) (2.4.0)\n",
            "Requirement already satisfied: idna in /usr/local/lib/python3.10/dist-packages (from trio~=0.17->selenium) (3.4)\n",
            "Collecting outcome (from trio~=0.17->selenium)\n",
            "  Downloading outcome-1.2.0-py2.py3-none-any.whl (9.7 kB)\n",
            "Requirement already satisfied: sniffio in /usr/local/lib/python3.10/dist-packages (from trio~=0.17->selenium) (1.3.0)\n",
            "Requirement already satisfied: exceptiongroup>=1.0.0rc9 in /usr/local/lib/python3.10/dist-packages (from trio~=0.17->selenium) (1.1.2)\n",
            "Collecting wsproto>=0.14 (from trio-websocket~=0.9->selenium)\n",
            "  Downloading wsproto-1.2.0-py3-none-any.whl (24 kB)\n",
            "Requirement already satisfied: PySocks!=1.5.7,<2.0,>=1.5.6 in /usr/local/lib/python3.10/dist-packages (from urllib3[socks]<3,>=1.26->selenium) (1.7.1)\n",
            "Collecting h11<1,>=0.9.0 (from wsproto>=0.14->trio-websocket~=0.9->selenium)\n",
            "  Downloading h11-0.14.0-py3-none-any.whl (58 kB)\n",
            "\u001b[2K     \u001b[90m━━━━━━━━━━━━━━━━━━━━━━━━━━━━━━━━━━━━━━━━\u001b[0m \u001b[32m58.3/58.3 kB\u001b[0m \u001b[31m6.1 MB/s\u001b[0m eta \u001b[36m0:00:00\u001b[0m\n",
            "\u001b[?25hInstalling collected packages: outcome, h11, wsproto, trio, trio-websocket, selenium\n",
            "Successfully installed h11-0.14.0 outcome-1.2.0 selenium-4.10.0 trio-0.22.2 trio-websocket-0.10.3 wsproto-1.2.0\n"
          ]
        },
        {
          "data": {
            "text/plain": []
          },
          "execution_count": 1,
          "metadata": {},
          "output_type": "execute_result"
        }
      ],
      "source": [
        "%%shell\n",
        "# Ubuntu no longer distributes chromium-browser outside of snap\n",
        "#\n",
        "# Proposed solution: https://askubuntu.com/questions/1204571/how-to-install-chromium-without-snap\n",
        "\n",
        "# Add debian buster\n",
        "cat > /etc/apt/sources.list.d/debian.list <<'EOF'\n",
        "deb [arch=amd64 signed-by=/usr/share/keyrings/debian-buster.gpg] http://deb.debian.org/debian buster main\n",
        "deb [arch=amd64 signed-by=/usr/share/keyrings/debian-buster-updates.gpg] http://deb.debian.org/debian buster-updates main\n",
        "deb [arch=amd64 signed-by=/usr/share/keyrings/debian-security-buster.gpg] http://deb.debian.org/debian-security buster/updates main\n",
        "EOF\n",
        "\n",
        "# Add keys\n",
        "apt-key adv --keyserver keyserver.ubuntu.com --recv-keys DCC9EFBF77E11517\n",
        "apt-key adv --keyserver keyserver.ubuntu.com --recv-keys 648ACFD622F3D138\n",
        "apt-key adv --keyserver keyserver.ubuntu.com --recv-keys 112695A0E562B32A\n",
        "\n",
        "apt-key export 77E11517 | gpg --dearmour -o /usr/share/keyrings/debian-buster.gpg\n",
        "apt-key export 22F3D138 | gpg --dearmour -o /usr/share/keyrings/debian-buster-updates.gpg\n",
        "apt-key export E562B32A | gpg --dearmour -o /usr/share/keyrings/debian-security-buster.gpg\n",
        "\n",
        "# Prefer debian repo for chromium* packages only\n",
        "# Note the double-blank lines between entries\n",
        "cat > /etc/apt/preferences.d/chromium.pref << 'EOF'\n",
        "Package: *\n",
        "Pin: release a=eoan\n",
        "Pin-Priority: 500\n",
        "\n",
        "\n",
        "Package: *\n",
        "Pin: origin \"deb.debian.org\"\n",
        "Pin-Priority: 300\n",
        "\n",
        "\n",
        "Package: chromium*\n",
        "Pin: origin \"deb.debian.org\"\n",
        "Pin-Priority: 700\n",
        "EOF\n",
        "\n",
        "# Install chromium and chromium-driver\n",
        "apt-get update\n",
        "apt-get install chromium chromium-driver\n",
        "\n",
        "# Install selenium\n",
        "pip install  selenium"
      ]
    },
    {
      "cell_type": "code",
      "execution_count": null,
      "metadata": {
        "id": "Rr7GP2ty2of-"
      },
      "outputs": [],
      "source": [
        "from selenium.webdriver.chrome.service import Service\n",
        "import sys\n",
        "from selenium import webdriver\n"
      ]
    },
    {
      "cell_type": "code",
      "execution_count": null,
      "metadata": {
        "id": "1nuoYYr-81zP"
      },
      "outputs": [],
      "source": [
        "def driver_generator():\n",
        "    sys.path.insert(0,'/usr/lib/chromium-browser/chromedriver')\n",
        "    options = webdriver.ChromeOptions()\n",
        "    service = Service('chromedriver')\n",
        "    options.add_argument('--headless')\n",
        "    options.add_argument('--no-sandbox')\n",
        "    options.add_argument('--disable-dev-shm-usage')\n",
        "    driver = webdriver.Chrome(service=service, options=options)\n",
        "    return driver"
      ]
    },
    {
      "cell_type": "code",
      "execution_count": null,
      "metadata": {
        "id": "oOxFiupCq3lx"
      },
      "outputs": [],
      "source": [
        "from selenium.webdriver.chrome.options import Options\n",
        "from selenium import webdriver\n",
        "from selenium.webdriver.common.keys import Keys\n",
        "from selenium.webdriver.common.by import By\n",
        "from selenium.webdriver.support import expected_conditions as EC\n",
        "from selenium.webdriver.support.wait import WebDriverWait\n",
        "import time"
      ]
    },
    {
      "cell_type": "code",
      "execution_count": null,
      "metadata": {
        "id": "DwDO-GgpmcuS"
      },
      "outputs": [],
      "source": [
        "# url = 'https://www.techjockey.com/search?keyword=jhattse'"
      ]
    },
    {
      "cell_type": "code",
      "execution_count": null,
      "metadata": {
        "colab": {
          "background_save": true,
          "base_uri": "https://localhost:8080/"
        },
        "id": "7-u4JoSa9XE8",
        "outputId": "641c4bef-92e7-45e2-fb50-74241fef221b"
      },
      "outputs": [
        {
          "name": "stdout",
          "output_type": "stream",
          "text": [
            "jhattse Related Best Software Solution | Techjockey.com\n",
            "Jhattse Pricing & Reviews 2023 | Techjockey.com\n"
          ]
        },
        {
          "name": "stderr",
          "output_type": "stream",
          "text": [
            "WARNING:urllib3.connectionpool:Retrying (Retry(total=2, connect=None, read=None, redirect=None, status=None)) after connection broken by 'NewConnectionError('<urllib3.connection.HTTPConnection object at 0x7b3b4f404340>: Failed to establish a new connection: [Errno 111] Connection refused')': /session/c875089ad9c237cafe11386a528fea37\n",
            "WARNING:urllib3.connectionpool:Retrying (Retry(total=1, connect=None, read=None, redirect=None, status=None)) after connection broken by 'NewConnectionError('<urllib3.connection.HTTPConnection object at 0x7b3b4f405b70>: Failed to establish a new connection: [Errno 111] Connection refused')': /session/c875089ad9c237cafe11386a528fea37\n",
            "WARNING:urllib3.connectionpool:Retrying (Retry(total=0, connect=None, read=None, redirect=None, status=None)) after connection broken by 'NewConnectionError('<urllib3.connection.HTTPConnection object at 0x7b3b4e7d94e0>: Failed to establish a new connection: [Errno 111] Connection refused')': /session/c875089ad9c237cafe11386a528fea37\n"
          ]
        },
        {
          "name": "stdout",
          "output_type": "stream",
          "text": [
            "Techjockey\n",
            "jhattse Related Best Software Solution | Techjockey.com\n",
            "Jhattse Pricing & Reviews 2023 | Techjockey.com\n"
          ]
        },
        {
          "name": "stderr",
          "output_type": "stream",
          "text": [
            "WARNING:urllib3.connectionpool:Retrying (Retry(total=2, connect=None, read=None, redirect=None, status=None)) after connection broken by 'NewConnectionError('<urllib3.connection.HTTPConnection object at 0x7b3b4f404220>: Failed to establish a new connection: [Errno 111] Connection refused')': /session/c52f374581ed4b8d2be239e68f43b4a9\n",
            "WARNING:urllib3.connectionpool:Retrying (Retry(total=1, connect=None, read=None, redirect=None, status=None)) after connection broken by 'NewConnectionError('<urllib3.connection.HTTPConnection object at 0x7b3b4f4073d0>: Failed to establish a new connection: [Errno 111] Connection refused')': /session/c52f374581ed4b8d2be239e68f43b4a9\n",
            "WARNING:urllib3.connectionpool:Retrying (Retry(total=0, connect=None, read=None, redirect=None, status=None)) after connection broken by 'NewConnectionError('<urllib3.connection.HTTPConnection object at 0x7b3b4f405bd0>: Failed to establish a new connection: [Errno 111] Connection refused')': /session/c52f374581ed4b8d2be239e68f43b4a9\n"
          ]
        },
        {
          "name": "stdout",
          "output_type": "stream",
          "text": [
            "Techjockey\n",
            "jhattse Related Best Software Solution | Techjockey.com\n",
            "Jhattse Pricing & Reviews 2023 | Techjockey.com\n"
          ]
        },
        {
          "name": "stderr",
          "output_type": "stream",
          "text": [
            "WARNING:urllib3.connectionpool:Retrying (Retry(total=2, connect=None, read=None, redirect=None, status=None)) after connection broken by 'NewConnectionError('<urllib3.connection.HTTPConnection object at 0x7b3b4f406b60>: Failed to establish a new connection: [Errno 111] Connection refused')': /session/bc58d75782c11c4097b58a985f2290e1\n",
            "WARNING:urllib3.connectionpool:Retrying (Retry(total=1, connect=None, read=None, redirect=None, status=None)) after connection broken by 'NewConnectionError('<urllib3.connection.HTTPConnection object at 0x7b3b4f407cd0>: Failed to establish a new connection: [Errno 111] Connection refused')': /session/bc58d75782c11c4097b58a985f2290e1\n",
            "WARNING:urllib3.connectionpool:Retrying (Retry(total=0, connect=None, read=None, redirect=None, status=None)) after connection broken by 'NewConnectionError('<urllib3.connection.HTTPConnection object at 0x7b3b4e7d9450>: Failed to establish a new connection: [Errno 111] Connection refused')': /session/bc58d75782c11c4097b58a985f2290e1\n"
          ]
        },
        {
          "name": "stdout",
          "output_type": "stream",
          "text": [
            "Techjockey\n",
            "jhattse Related Best Software Solution | Techjockey.com\n",
            "Jhattse Pricing & Reviews 2023 | Techjockey.com\n"
          ]
        },
        {
          "name": "stderr",
          "output_type": "stream",
          "text": [
            "WARNING:urllib3.connectionpool:Retrying (Retry(total=2, connect=None, read=None, redirect=None, status=None)) after connection broken by 'NewConnectionError('<urllib3.connection.HTTPConnection object at 0x7b3b4e7d9930>: Failed to establish a new connection: [Errno 111] Connection refused')': /session/d9ecf62c583a46f3207ea9b5bde99c90\n",
            "WARNING:urllib3.connectionpool:Retrying (Retry(total=1, connect=None, read=None, redirect=None, status=None)) after connection broken by 'NewConnectionError('<urllib3.connection.HTTPConnection object at 0x7b3b4e7db5b0>: Failed to establish a new connection: [Errno 111] Connection refused')': /session/d9ecf62c583a46f3207ea9b5bde99c90\n",
            "WARNING:urllib3.connectionpool:Retrying (Retry(total=0, connect=None, read=None, redirect=None, status=None)) after connection broken by 'NewConnectionError('<urllib3.connection.HTTPConnection object at 0x7b3b4e7d8910>: Failed to establish a new connection: [Errno 111] Connection refused')': /session/d9ecf62c583a46f3207ea9b5bde99c90\n"
          ]
        },
        {
          "name": "stdout",
          "output_type": "stream",
          "text": [
            "Techjockey\n",
            "jhattse Related Best Software Solution | Techjockey.com\n",
            "Jhattse Pricing & Reviews 2023 | Techjockey.com\n"
          ]
        },
        {
          "name": "stderr",
          "output_type": "stream",
          "text": [
            "WARNING:urllib3.connectionpool:Retrying (Retry(total=2, connect=None, read=None, redirect=None, status=None)) after connection broken by 'NewConnectionError('<urllib3.connection.HTTPConnection object at 0x7b3b4f405810>: Failed to establish a new connection: [Errno 111] Connection refused')': /session/0ea3ca94eae8c5dfe3835c66622ed16e\n",
            "WARNING:urllib3.connectionpool:Retrying (Retry(total=1, connect=None, read=None, redirect=None, status=None)) after connection broken by 'NewConnectionError('<urllib3.connection.HTTPConnection object at 0x7b3b4f405a80>: Failed to establish a new connection: [Errno 111] Connection refused')': /session/0ea3ca94eae8c5dfe3835c66622ed16e\n",
            "WARNING:urllib3.connectionpool:Retrying (Retry(total=0, connect=None, read=None, redirect=None, status=None)) after connection broken by 'NewConnectionError('<urllib3.connection.HTTPConnection object at 0x7b3b4f4053c0>: Failed to establish a new connection: [Errno 111] Connection refused')': /session/0ea3ca94eae8c5dfe3835c66622ed16e\n"
          ]
        },
        {
          "name": "stdout",
          "output_type": "stream",
          "text": [
            "Techjockey\n",
            "jhattse Related Best Software Solution | Techjockey.com\n",
            "Jhattse Pricing & Reviews 2023 | Techjockey.com\n"
          ]
        },
        {
          "name": "stderr",
          "output_type": "stream",
          "text": [
            "WARNING:urllib3.connectionpool:Retrying (Retry(total=2, connect=None, read=None, redirect=None, status=None)) after connection broken by 'NewConnectionError('<urllib3.connection.HTTPConnection object at 0x7b3b4e7d97b0>: Failed to establish a new connection: [Errno 111] Connection refused')': /session/d1e3b6207daa641e13ae1cc52ab55f43\n",
            "WARNING:urllib3.connectionpool:Retrying (Retry(total=1, connect=None, read=None, redirect=None, status=None)) after connection broken by 'NewConnectionError('<urllib3.connection.HTTPConnection object at 0x7b3b4e7d8070>: Failed to establish a new connection: [Errno 111] Connection refused')': /session/d1e3b6207daa641e13ae1cc52ab55f43\n",
            "WARNING:urllib3.connectionpool:Retrying (Retry(total=0, connect=None, read=None, redirect=None, status=None)) after connection broken by 'NewConnectionError('<urllib3.connection.HTTPConnection object at 0x7b3b4e7d9cc0>: Failed to establish a new connection: [Errno 111] Connection refused')': /session/d1e3b6207daa641e13ae1cc52ab55f43\n"
          ]
        },
        {
          "name": "stdout",
          "output_type": "stream",
          "text": [
            "Techjockey\n",
            "jhattse Related Best Software Solution | Techjockey.com\n",
            "Jhattse Pricing & Reviews 2023 | Techjockey.com\n"
          ]
        },
        {
          "name": "stderr",
          "output_type": "stream",
          "text": [
            "WARNING:urllib3.connectionpool:Retrying (Retry(total=2, connect=None, read=None, redirect=None, status=None)) after connection broken by 'NewConnectionError('<urllib3.connection.HTTPConnection object at 0x7b3b4e7da7a0>: Failed to establish a new connection: [Errno 111] Connection refused')': /session/3651a72765f1bace20a6ad27dc0007a2\n",
            "WARNING:urllib3.connectionpool:Retrying (Retry(total=1, connect=None, read=None, redirect=None, status=None)) after connection broken by 'NewConnectionError('<urllib3.connection.HTTPConnection object at 0x7b3b4e7d91b0>: Failed to establish a new connection: [Errno 111] Connection refused')': /session/3651a72765f1bace20a6ad27dc0007a2\n",
            "WARNING:urllib3.connectionpool:Retrying (Retry(total=0, connect=None, read=None, redirect=None, status=None)) after connection broken by 'NewConnectionError('<urllib3.connection.HTTPConnection object at 0x7b3b4e7d8e80>: Failed to establish a new connection: [Errno 111] Connection refused')': /session/3651a72765f1bace20a6ad27dc0007a2\n"
          ]
        },
        {
          "name": "stdout",
          "output_type": "stream",
          "text": [
            "Techjockey\n",
            "jhattse Related Best Software Solution | Techjockey.com\n",
            "Jhattse Pricing & Reviews 2023 | Techjockey.com\n"
          ]
        },
        {
          "name": "stderr",
          "output_type": "stream",
          "text": [
            "WARNING:urllib3.connectionpool:Retrying (Retry(total=2, connect=None, read=None, redirect=None, status=None)) after connection broken by 'NewConnectionError('<urllib3.connection.HTTPConnection object at 0x7b3b4f407d30>: Failed to establish a new connection: [Errno 111] Connection refused')': /session/a813d917ab24c19dcd02f72e7d16e63e\n",
            "WARNING:urllib3.connectionpool:Retrying (Retry(total=1, connect=None, read=None, redirect=None, status=None)) after connection broken by 'NewConnectionError('<urllib3.connection.HTTPConnection object at 0x7b3b4f407dc0>: Failed to establish a new connection: [Errno 111] Connection refused')': /session/a813d917ab24c19dcd02f72e7d16e63e\n",
            "WARNING:urllib3.connectionpool:Retrying (Retry(total=0, connect=None, read=None, redirect=None, status=None)) after connection broken by 'NewConnectionError('<urllib3.connection.HTTPConnection object at 0x7b3b4f405bd0>: Failed to establish a new connection: [Errno 111] Connection refused')': /session/a813d917ab24c19dcd02f72e7d16e63e\n"
          ]
        },
        {
          "name": "stdout",
          "output_type": "stream",
          "text": [
            "Techjockey\n",
            "jhattse Related Best Software Solution | Techjockey.com\n",
            "Jhattse Pricing & Reviews 2023 | Techjockey.com\n"
          ]
        },
        {
          "name": "stderr",
          "output_type": "stream",
          "text": [
            "WARNING:urllib3.connectionpool:Retrying (Retry(total=2, connect=None, read=None, redirect=None, status=None)) after connection broken by 'NewConnectionError('<urllib3.connection.HTTPConnection object at 0x7b3b4e7db640>: Failed to establish a new connection: [Errno 111] Connection refused')': /session/95c2359d578f8cd4ed21cab5cf1f06f4\n",
            "WARNING:urllib3.connectionpool:Retrying (Retry(total=1, connect=None, read=None, redirect=None, status=None)) after connection broken by 'NewConnectionError('<urllib3.connection.HTTPConnection object at 0x7b3b4e7d94b0>: Failed to establish a new connection: [Errno 111] Connection refused')': /session/95c2359d578f8cd4ed21cab5cf1f06f4\n",
            "WARNING:urllib3.connectionpool:Retrying (Retry(total=0, connect=None, read=None, redirect=None, status=None)) after connection broken by 'NewConnectionError('<urllib3.connection.HTTPConnection object at 0x7b3b4e7daf20>: Failed to establish a new connection: [Errno 111] Connection refused')': /session/95c2359d578f8cd4ed21cab5cf1f06f4\n"
          ]
        },
        {
          "name": "stdout",
          "output_type": "stream",
          "text": [
            "Techjockey\n",
            "jhattse Related Best Software Solution | Techjockey.com\n",
            "Jhattse Pricing & Reviews 2023 | Techjockey.com\n"
          ]
        },
        {
          "name": "stderr",
          "output_type": "stream",
          "text": [
            "WARNING:urllib3.connectionpool:Retrying (Retry(total=2, connect=None, read=None, redirect=None, status=None)) after connection broken by 'NewConnectionError('<urllib3.connection.HTTPConnection object at 0x7b3b4e7d99c0>: Failed to establish a new connection: [Errno 111] Connection refused')': /session/8bea43752268a379805024c8d6b8af21\n",
            "WARNING:urllib3.connectionpool:Retrying (Retry(total=1, connect=None, read=None, redirect=None, status=None)) after connection broken by 'NewConnectionError('<urllib3.connection.HTTPConnection object at 0x7b3b4e7d8070>: Failed to establish a new connection: [Errno 111] Connection refused')': /session/8bea43752268a379805024c8d6b8af21\n",
            "WARNING:urllib3.connectionpool:Retrying (Retry(total=0, connect=None, read=None, redirect=None, status=None)) after connection broken by 'NewConnectionError('<urllib3.connection.HTTPConnection object at 0x7b3b4e7da140>: Failed to establish a new connection: [Errno 111] Connection refused')': /session/8bea43752268a379805024c8d6b8af21\n"
          ]
        },
        {
          "name": "stdout",
          "output_type": "stream",
          "text": [
            "Techjockey\n",
            "jhattse Related Best Software Solution | Techjockey.com\n",
            "Jhattse Pricing & Reviews 2023 | Techjockey.com\n"
          ]
        },
        {
          "name": "stderr",
          "output_type": "stream",
          "text": [
            "WARNING:urllib3.connectionpool:Retrying (Retry(total=2, connect=None, read=None, redirect=None, status=None)) after connection broken by 'NewConnectionError('<urllib3.connection.HTTPConnection object at 0x7b3b4f407ac0>: Failed to establish a new connection: [Errno 111] Connection refused')': /session/c59d7d57043be3aabebc5eadaea89a4a\n",
            "WARNING:urllib3.connectionpool:Retrying (Retry(total=1, connect=None, read=None, redirect=None, status=None)) after connection broken by 'NewConnectionError('<urllib3.connection.HTTPConnection object at 0x7b3b4f406620>: Failed to establish a new connection: [Errno 111] Connection refused')': /session/c59d7d57043be3aabebc5eadaea89a4a\n",
            "WARNING:urllib3.connectionpool:Retrying (Retry(total=0, connect=None, read=None, redirect=None, status=None)) after connection broken by 'NewConnectionError('<urllib3.connection.HTTPConnection object at 0x7b3b4f405de0>: Failed to establish a new connection: [Errno 111] Connection refused')': /session/c59d7d57043be3aabebc5eadaea89a4a\n"
          ]
        },
        {
          "name": "stdout",
          "output_type": "stream",
          "text": [
            "Techjockey\n",
            "jhattse Related Best Software Solution | Techjockey.com\n",
            "Jhattse Pricing & Reviews 2023 | Techjockey.com\n"
          ]
        },
        {
          "name": "stderr",
          "output_type": "stream",
          "text": [
            "WARNING:urllib3.connectionpool:Retrying (Retry(total=2, connect=None, read=None, redirect=None, status=None)) after connection broken by 'NewConnectionError('<urllib3.connection.HTTPConnection object at 0x7b3b4e7dbcd0>: Failed to establish a new connection: [Errno 111] Connection refused')': /session/1e383b2fb76d4056688698fb2aa232ff\n",
            "WARNING:urllib3.connectionpool:Retrying (Retry(total=1, connect=None, read=None, redirect=None, status=None)) after connection broken by 'NewConnectionError('<urllib3.connection.HTTPConnection object at 0x7b3b4e7da710>: Failed to establish a new connection: [Errno 111] Connection refused')': /session/1e383b2fb76d4056688698fb2aa232ff\n",
            "WARNING:urllib3.connectionpool:Retrying (Retry(total=0, connect=None, read=None, redirect=None, status=None)) after connection broken by 'NewConnectionError('<urllib3.connection.HTTPConnection object at 0x7b3b4e7dac50>: Failed to establish a new connection: [Errno 111] Connection refused')': /session/1e383b2fb76d4056688698fb2aa232ff\n"
          ]
        },
        {
          "name": "stdout",
          "output_type": "stream",
          "text": [
            "Techjockey\n",
            "jhattse Related Best Software Solution | Techjockey.com\n",
            "Jhattse Pricing & Reviews 2023 | Techjockey.com\n"
          ]
        },
        {
          "name": "stderr",
          "output_type": "stream",
          "text": [
            "WARNING:urllib3.connectionpool:Retrying (Retry(total=2, connect=None, read=None, redirect=None, status=None)) after connection broken by 'NewConnectionError('<urllib3.connection.HTTPConnection object at 0x7b3b4e7da620>: Failed to establish a new connection: [Errno 111] Connection refused')': /session/6480722a342c8be006ad708ab7b4ab4a\n",
            "WARNING:urllib3.connectionpool:Retrying (Retry(total=1, connect=None, read=None, redirect=None, status=None)) after connection broken by 'NewConnectionError('<urllib3.connection.HTTPConnection object at 0x7b3b4e7d9630>: Failed to establish a new connection: [Errno 111] Connection refused')': /session/6480722a342c8be006ad708ab7b4ab4a\n",
            "WARNING:urllib3.connectionpool:Retrying (Retry(total=0, connect=None, read=None, redirect=None, status=None)) after connection broken by 'NewConnectionError('<urllib3.connection.HTTPConnection object at 0x7b3b4e7dafb0>: Failed to establish a new connection: [Errno 111] Connection refused')': /session/6480722a342c8be006ad708ab7b4ab4a\n"
          ]
        },
        {
          "name": "stdout",
          "output_type": "stream",
          "text": [
            "Techjockey\n",
            "jhattse Related Best Software Solution | Techjockey.com\n",
            "Jhattse Pricing & Reviews 2023 | Techjockey.com\n"
          ]
        },
        {
          "name": "stderr",
          "output_type": "stream",
          "text": [
            "WARNING:urllib3.connectionpool:Retrying (Retry(total=2, connect=None, read=None, redirect=None, status=None)) after connection broken by 'NewConnectionError('<urllib3.connection.HTTPConnection object at 0x7b3b4f406b60>: Failed to establish a new connection: [Errno 111] Connection refused')': /session/b68943305249325733f2af78ef493e21\n",
            "WARNING:urllib3.connectionpool:Retrying (Retry(total=1, connect=None, read=None, redirect=None, status=None)) after connection broken by 'NewConnectionError('<urllib3.connection.HTTPConnection object at 0x7b3b4f404df0>: Failed to establish a new connection: [Errno 111] Connection refused')': /session/b68943305249325733f2af78ef493e21\n",
            "WARNING:urllib3.connectionpool:Retrying (Retry(total=0, connect=None, read=None, redirect=None, status=None)) after connection broken by 'NewConnectionError('<urllib3.connection.HTTPConnection object at 0x7b3b4f405bd0>: Failed to establish a new connection: [Errno 111] Connection refused')': /session/b68943305249325733f2af78ef493e21\n"
          ]
        },
        {
          "name": "stdout",
          "output_type": "stream",
          "text": [
            "Techjockey\n",
            "jhattse Related Best Software Solution | Techjockey.com\n",
            "Jhattse Pricing & Reviews 2023 | Techjockey.com\n"
          ]
        },
        {
          "name": "stderr",
          "output_type": "stream",
          "text": [
            "WARNING:urllib3.connectionpool:Retrying (Retry(total=2, connect=None, read=None, redirect=None, status=None)) after connection broken by 'NewConnectionError('<urllib3.connection.HTTPConnection object at 0x7b3b4e7d9330>: Failed to establish a new connection: [Errno 111] Connection refused')': /session/326625c37ee66a07cc6023178cc82c1d\n",
            "WARNING:urllib3.connectionpool:Retrying (Retry(total=1, connect=None, read=None, redirect=None, status=None)) after connection broken by 'NewConnectionError('<urllib3.connection.HTTPConnection object at 0x7b3b4e7dadd0>: Failed to establish a new connection: [Errno 111] Connection refused')': /session/326625c37ee66a07cc6023178cc82c1d\n",
            "WARNING:urllib3.connectionpool:Retrying (Retry(total=0, connect=None, read=None, redirect=None, status=None)) after connection broken by 'NewConnectionError('<urllib3.connection.HTTPConnection object at 0x7b3b4e7daaa0>: Failed to establish a new connection: [Errno 111] Connection refused')': /session/326625c37ee66a07cc6023178cc82c1d\n"
          ]
        },
        {
          "name": "stdout",
          "output_type": "stream",
          "text": [
            "Techjockey\n",
            "jhattse Related Best Software Solution | Techjockey.com\n",
            "Jhattse Pricing & Reviews 2023 | Techjockey.com\n"
          ]
        },
        {
          "name": "stderr",
          "output_type": "stream",
          "text": [
            "WARNING:urllib3.connectionpool:Retrying (Retry(total=2, connect=None, read=None, redirect=None, status=None)) after connection broken by 'NewConnectionError('<urllib3.connection.HTTPConnection object at 0x7b3b4e7d8a90>: Failed to establish a new connection: [Errno 111] Connection refused')': /session/0e436b06e4457a97a7908a40e9b78263\n",
            "WARNING:urllib3.connectionpool:Retrying (Retry(total=1, connect=None, read=None, redirect=None, status=None)) after connection broken by 'NewConnectionError('<urllib3.connection.HTTPConnection object at 0x7b3b4e7db6d0>: Failed to establish a new connection: [Errno 111] Connection refused')': /session/0e436b06e4457a97a7908a40e9b78263\n",
            "WARNING:urllib3.connectionpool:Retrying (Retry(total=0, connect=None, read=None, redirect=None, status=None)) after connection broken by 'NewConnectionError('<urllib3.connection.HTTPConnection object at 0x7b3b4e7dbf40>: Failed to establish a new connection: [Errno 111] Connection refused')': /session/0e436b06e4457a97a7908a40e9b78263\n"
          ]
        },
        {
          "name": "stdout",
          "output_type": "stream",
          "text": [
            "Techjockey\n",
            "jhattse Related Best Software Solution | Techjockey.com\n",
            "Jhattse Pricing & Reviews 2023 | Techjockey.com\n"
          ]
        },
        {
          "name": "stderr",
          "output_type": "stream",
          "text": [
            "WARNING:urllib3.connectionpool:Retrying (Retry(total=2, connect=None, read=None, redirect=None, status=None)) after connection broken by 'NewConnectionError('<urllib3.connection.HTTPConnection object at 0x7b3b4f407f10>: Failed to establish a new connection: [Errno 111] Connection refused')': /session/c642d093d25817a30754aa2a65b96370\n",
            "WARNING:urllib3.connectionpool:Retrying (Retry(total=1, connect=None, read=None, redirect=None, status=None)) after connection broken by 'NewConnectionError('<urllib3.connection.HTTPConnection object at 0x7b3b4f406860>: Failed to establish a new connection: [Errno 111] Connection refused')': /session/c642d093d25817a30754aa2a65b96370\n",
            "WARNING:urllib3.connectionpool:Retrying (Retry(total=0, connect=None, read=None, redirect=None, status=None)) after connection broken by 'NewConnectionError('<urllib3.connection.HTTPConnection object at 0x7b3b4f4072e0>: Failed to establish a new connection: [Errno 111] Connection refused')': /session/c642d093d25817a30754aa2a65b96370\n"
          ]
        },
        {
          "name": "stdout",
          "output_type": "stream",
          "text": [
            "Techjockey\n",
            "jhattse Related Best Software Solution | Techjockey.com\n",
            "Jhattse Pricing & Reviews 2023 | Techjockey.com\n"
          ]
        },
        {
          "name": "stderr",
          "output_type": "stream",
          "text": [
            "WARNING:urllib3.connectionpool:Retrying (Retry(total=2, connect=None, read=None, redirect=None, status=None)) after connection broken by 'NewConnectionError('<urllib3.connection.HTTPConnection object at 0x7b3b4e77ff40>: Failed to establish a new connection: [Errno 111] Connection refused')': /session/b8dfa707db7207b9a89968277cc5e0e4\n",
            "WARNING:urllib3.connectionpool:Retrying (Retry(total=1, connect=None, read=None, redirect=None, status=None)) after connection broken by 'NewConnectionError('<urllib3.connection.HTTPConnection object at 0x7b3b4e77e020>: Failed to establish a new connection: [Errno 111] Connection refused')': /session/b8dfa707db7207b9a89968277cc5e0e4\n",
            "WARNING:urllib3.connectionpool:Retrying (Retry(total=0, connect=None, read=None, redirect=None, status=None)) after connection broken by 'NewConnectionError('<urllib3.connection.HTTPConnection object at 0x7b3b4e77fdc0>: Failed to establish a new connection: [Errno 111] Connection refused')': /session/b8dfa707db7207b9a89968277cc5e0e4\n"
          ]
        },
        {
          "name": "stdout",
          "output_type": "stream",
          "text": [
            "Techjockey\n",
            "jhattse Related Best Software Solution | Techjockey.com\n",
            "Jhattse Pricing & Reviews 2023 | Techjockey.com\n"
          ]
        },
        {
          "name": "stderr",
          "output_type": "stream",
          "text": [
            "WARNING:urllib3.connectionpool:Retrying (Retry(total=2, connect=None, read=None, redirect=None, status=None)) after connection broken by 'NewConnectionError('<urllib3.connection.HTTPConnection object at 0x7b3b4e7d8820>: Failed to establish a new connection: [Errno 111] Connection refused')': /session/01dc9b4e7e1d66387d0d8b02b5553ac6\n",
            "WARNING:urllib3.connectionpool:Retrying (Retry(total=1, connect=None, read=None, redirect=None, status=None)) after connection broken by 'NewConnectionError('<urllib3.connection.HTTPConnection object at 0x7b3b4e7dbf40>: Failed to establish a new connection: [Errno 111] Connection refused')': /session/01dc9b4e7e1d66387d0d8b02b5553ac6\n",
            "WARNING:urllib3.connectionpool:Retrying (Retry(total=0, connect=None, read=None, redirect=None, status=None)) after connection broken by 'NewConnectionError('<urllib3.connection.HTTPConnection object at 0x7b3b4e7d80d0>: Failed to establish a new connection: [Errno 111] Connection refused')': /session/01dc9b4e7e1d66387d0d8b02b5553ac6\n"
          ]
        },
        {
          "name": "stdout",
          "output_type": "stream",
          "text": [
            "Techjockey\n",
            "jhattse Related Best Software Solution | Techjockey.com\n",
            "Jhattse Pricing & Reviews 2023 | Techjockey.com\n"
          ]
        },
        {
          "name": "stderr",
          "output_type": "stream",
          "text": [
            "WARNING:urllib3.connectionpool:Retrying (Retry(total=2, connect=None, read=None, redirect=None, status=None)) after connection broken by 'NewConnectionError('<urllib3.connection.HTTPConnection object at 0x7b3b4e77ffa0>: Failed to establish a new connection: [Errno 111] Connection refused')': /session/bee4702dcaa5f6adb7481e0c8cbc1a4d\n",
            "WARNING:urllib3.connectionpool:Retrying (Retry(total=1, connect=None, read=None, redirect=None, status=None)) after connection broken by 'NewConnectionError('<urllib3.connection.HTTPConnection object at 0x7b3b4f4042b0>: Failed to establish a new connection: [Errno 111] Connection refused')': /session/bee4702dcaa5f6adb7481e0c8cbc1a4d\n",
            "WARNING:urllib3.connectionpool:Retrying (Retry(total=0, connect=None, read=None, redirect=None, status=None)) after connection broken by 'NewConnectionError('<urllib3.connection.HTTPConnection object at 0x7b3b4f405bd0>: Failed to establish a new connection: [Errno 111] Connection refused')': /session/bee4702dcaa5f6adb7481e0c8cbc1a4d\n"
          ]
        },
        {
          "name": "stdout",
          "output_type": "stream",
          "text": [
            "Techjockey\n",
            "jhattse Related Best Software Solution | Techjockey.com\n",
            "Jhattse Pricing & Reviews 2023 | Techjockey.com\n"
          ]
        },
        {
          "name": "stderr",
          "output_type": "stream",
          "text": [
            "WARNING:urllib3.connectionpool:Retrying (Retry(total=2, connect=None, read=None, redirect=None, status=None)) after connection broken by 'NewConnectionError('<urllib3.connection.HTTPConnection object at 0x7b3b4f406b60>: Failed to establish a new connection: [Errno 111] Connection refused')': /session/d13c0c75629ee2986006cdfc92f94b55\n",
            "WARNING:urllib3.connectionpool:Retrying (Retry(total=1, connect=None, read=None, redirect=None, status=None)) after connection broken by 'NewConnectionError('<urllib3.connection.HTTPConnection object at 0x7b3b4f4053c0>: Failed to establish a new connection: [Errno 111] Connection refused')': /session/d13c0c75629ee2986006cdfc92f94b55\n",
            "WARNING:urllib3.connectionpool:Retrying (Retry(total=0, connect=None, read=None, redirect=None, status=None)) after connection broken by 'NewConnectionError('<urllib3.connection.HTTPConnection object at 0x7b3b4f4056f0>: Failed to establish a new connection: [Errno 111] Connection refused')': /session/d13c0c75629ee2986006cdfc92f94b55\n"
          ]
        },
        {
          "name": "stdout",
          "output_type": "stream",
          "text": [
            "Techjockey\n",
            "jhattse Related Best Software Solution | Techjockey.com\n",
            "Jhattse Pricing & Reviews 2023 | Techjockey.com\n"
          ]
        },
        {
          "name": "stderr",
          "output_type": "stream",
          "text": [
            "WARNING:urllib3.connectionpool:Retrying (Retry(total=2, connect=None, read=None, redirect=None, status=None)) after connection broken by 'NewConnectionError('<urllib3.connection.HTTPConnection object at 0x7b3b4e7dac50>: Failed to establish a new connection: [Errno 111] Connection refused')': /session/d7b05f865e6a3e7ef3685e4f67637180\n",
            "WARNING:urllib3.connectionpool:Retrying (Retry(total=1, connect=None, read=None, redirect=None, status=None)) after connection broken by 'NewConnectionError('<urllib3.connection.HTTPConnection object at 0x7b3b4e7d8250>: Failed to establish a new connection: [Errno 111] Connection refused')': /session/d7b05f865e6a3e7ef3685e4f67637180\n",
            "WARNING:urllib3.connectionpool:Retrying (Retry(total=0, connect=None, read=None, redirect=None, status=None)) after connection broken by 'NewConnectionError('<urllib3.connection.HTTPConnection object at 0x7b3b4e7d8d30>: Failed to establish a new connection: [Errno 111] Connection refused')': /session/d7b05f865e6a3e7ef3685e4f67637180\n"
          ]
        },
        {
          "name": "stdout",
          "output_type": "stream",
          "text": [
            "Techjockey\n",
            "jhattse Related Best Software Solution | Techjockey.com\n",
            "Jhattse Pricing & Reviews 2023 | Techjockey.com\n"
          ]
        },
        {
          "name": "stderr",
          "output_type": "stream",
          "text": [
            "WARNING:urllib3.connectionpool:Retrying (Retry(total=2, connect=None, read=None, redirect=None, status=None)) after connection broken by 'NewConnectionError('<urllib3.connection.HTTPConnection object at 0x7b3b4e77fe20>: Failed to establish a new connection: [Errno 111] Connection refused')': /session/bcf71e6c0c3c250d0d59e4ad8e3c32a6\n",
            "WARNING:urllib3.connectionpool:Retrying (Retry(total=1, connect=None, read=None, redirect=None, status=None)) after connection broken by 'NewConnectionError('<urllib3.connection.HTTPConnection object at 0x7b3b4e77fee0>: Failed to establish a new connection: [Errno 111] Connection refused')': /session/bcf71e6c0c3c250d0d59e4ad8e3c32a6\n",
            "WARNING:urllib3.connectionpool:Retrying (Retry(total=0, connect=None, read=None, redirect=None, status=None)) after connection broken by 'NewConnectionError('<urllib3.connection.HTTPConnection object at 0x7b3b4e77e020>: Failed to establish a new connection: [Errno 111] Connection refused')': /session/bcf71e6c0c3c250d0d59e4ad8e3c32a6\n"
          ]
        },
        {
          "name": "stdout",
          "output_type": "stream",
          "text": [
            "Techjockey\n",
            "jhattse Related Best Software Solution | Techjockey.com\n",
            "Jhattse Pricing & Reviews 2023 | Techjockey.com\n"
          ]
        },
        {
          "name": "stderr",
          "output_type": "stream",
          "text": [
            "WARNING:urllib3.connectionpool:Retrying (Retry(total=2, connect=None, read=None, redirect=None, status=None)) after connection broken by 'NewConnectionError('<urllib3.connection.HTTPConnection object at 0x7b3b4f404370>: Failed to establish a new connection: [Errno 111] Connection refused')': /session/10622f3390ce67e4c134168d2e142505\n",
            "WARNING:urllib3.connectionpool:Retrying (Retry(total=1, connect=None, read=None, redirect=None, status=None)) after connection broken by 'NewConnectionError('<urllib3.connection.HTTPConnection object at 0x7b3b4f405b70>: Failed to establish a new connection: [Errno 111] Connection refused')': /session/10622f3390ce67e4c134168d2e142505\n",
            "WARNING:urllib3.connectionpool:Retrying (Retry(total=0, connect=None, read=None, redirect=None, status=None)) after connection broken by 'NewConnectionError('<urllib3.connection.HTTPConnection object at 0x7b3b4f404520>: Failed to establish a new connection: [Errno 111] Connection refused')': /session/10622f3390ce67e4c134168d2e142505\n"
          ]
        },
        {
          "name": "stdout",
          "output_type": "stream",
          "text": [
            "Techjockey\n",
            "jhattse Related Best Software Solution | Techjockey.com\n",
            "Jhattse Pricing & Reviews 2023 | Techjockey.com\n"
          ]
        },
        {
          "name": "stderr",
          "output_type": "stream",
          "text": [
            "WARNING:urllib3.connectionpool:Retrying (Retry(total=2, connect=None, read=None, redirect=None, status=None)) after connection broken by 'NewConnectionError('<urllib3.connection.HTTPConnection object at 0x7b3b4e7da410>: Failed to establish a new connection: [Errno 111] Connection refused')': /session/ce827925c6738e652805fb40f8b0a594\n",
            "WARNING:urllib3.connectionpool:Retrying (Retry(total=1, connect=None, read=None, redirect=None, status=None)) after connection broken by 'NewConnectionError('<urllib3.connection.HTTPConnection object at 0x7b3b4e7dbf10>: Failed to establish a new connection: [Errno 111] Connection refused')': /session/ce827925c6738e652805fb40f8b0a594\n",
            "WARNING:urllib3.connectionpool:Retrying (Retry(total=0, connect=None, read=None, redirect=None, status=None)) after connection broken by 'NewConnectionError('<urllib3.connection.HTTPConnection object at 0x7b3b4e7db160>: Failed to establish a new connection: [Errno 111] Connection refused')': /session/ce827925c6738e652805fb40f8b0a594\n"
          ]
        },
        {
          "name": "stdout",
          "output_type": "stream",
          "text": [
            "Techjockey\n",
            "jhattse Related Best Software Solution | Techjockey.com\n",
            "Jhattse Pricing & Reviews 2023 | Techjockey.com\n"
          ]
        },
        {
          "name": "stderr",
          "output_type": "stream",
          "text": [
            "WARNING:urllib3.connectionpool:Retrying (Retry(total=2, connect=None, read=None, redirect=None, status=None)) after connection broken by 'NewConnectionError('<urllib3.connection.HTTPConnection object at 0x7b3b4f407be0>: Failed to establish a new connection: [Errno 111] Connection refused')': /session/2ee62c1cbc6f1f482d106bc488aa06ca\n",
            "WARNING:urllib3.connectionpool:Retrying (Retry(total=1, connect=None, read=None, redirect=None, status=None)) after connection broken by 'NewConnectionError('<urllib3.connection.HTTPConnection object at 0x7b3b4f405120>: Failed to establish a new connection: [Errno 111] Connection refused')': /session/2ee62c1cbc6f1f482d106bc488aa06ca\n",
            "WARNING:urllib3.connectionpool:Retrying (Retry(total=0, connect=None, read=None, redirect=None, status=None)) after connection broken by 'NewConnectionError('<urllib3.connection.HTTPConnection object at 0x7b3b4f407d30>: Failed to establish a new connection: [Errno 111] Connection refused')': /session/2ee62c1cbc6f1f482d106bc488aa06ca\n"
          ]
        },
        {
          "name": "stdout",
          "output_type": "stream",
          "text": [
            "Techjockey\n",
            "jhattse Related Best Software Solution | Techjockey.com\n",
            "Jhattse Pricing & Reviews 2023 | Techjockey.com\n"
          ]
        },
        {
          "name": "stderr",
          "output_type": "stream",
          "text": [
            "WARNING:urllib3.connectionpool:Retrying (Retry(total=2, connect=None, read=None, redirect=None, status=None)) after connection broken by 'NewConnectionError('<urllib3.connection.HTTPConnection object at 0x7b3b4f404fa0>: Failed to establish a new connection: [Errno 111] Connection refused')': /session/715eed2f828a6af5dbf3b9007f6c499e\n",
            "WARNING:urllib3.connectionpool:Retrying (Retry(total=1, connect=None, read=None, redirect=None, status=None)) after connection broken by 'NewConnectionError('<urllib3.connection.HTTPConnection object at 0x7b3b4f406b60>: Failed to establish a new connection: [Errno 111] Connection refused')': /session/715eed2f828a6af5dbf3b9007f6c499e\n",
            "WARNING:urllib3.connectionpool:Retrying (Retry(total=0, connect=None, read=None, redirect=None, status=None)) after connection broken by 'NewConnectionError('<urllib3.connection.HTTPConnection object at 0x7b3b4f405b70>: Failed to establish a new connection: [Errno 111] Connection refused')': /session/715eed2f828a6af5dbf3b9007f6c499e\n"
          ]
        },
        {
          "name": "stdout",
          "output_type": "stream",
          "text": [
            "Techjockey\n",
            "jhattse Related Best Software Solution | Techjockey.com\n",
            "Jhattse Pricing & Reviews 2023 | Techjockey.com\n",
            "Techjockey\n"
          ]
        },
        {
          "name": "stderr",
          "output_type": "stream",
          "text": [
            "WARNING:urllib3.connectionpool:Retrying (Retry(total=2, connect=None, read=None, redirect=None, status=None)) after connection broken by 'NewConnectionError('<urllib3.connection.HTTPConnection object at 0x7b3b4e7da260>: Failed to establish a new connection: [Errno 111] Connection refused')': /session/b2a04de7efb1b5e9a4d6ee2230a2de58\n",
            "WARNING:urllib3.connectionpool:Retrying (Retry(total=1, connect=None, read=None, redirect=None, status=None)) after connection broken by 'NewConnectionError('<urllib3.connection.HTTPConnection object at 0x7b3b4e7d8fd0>: Failed to establish a new connection: [Errno 111] Connection refused')': /session/b2a04de7efb1b5e9a4d6ee2230a2de58\n",
            "WARNING:urllib3.connectionpool:Retrying (Retry(total=0, connect=None, read=None, redirect=None, status=None)) after connection broken by 'NewConnectionError('<urllib3.connection.HTTPConnection object at 0x7b3b4e7d9660>: Failed to establish a new connection: [Errno 111] Connection refused')': /session/b2a04de7efb1b5e9a4d6ee2230a2de58\n"
          ]
        },
        {
          "name": "stdout",
          "output_type": "stream",
          "text": [
            "jhattse Related Best Software Solution | Techjockey.com\n",
            "Jhattse Pricing & Reviews 2023 | Techjockey.com\n"
          ]
        },
        {
          "name": "stderr",
          "output_type": "stream",
          "text": [
            "WARNING:urllib3.connectionpool:Retrying (Retry(total=2, connect=None, read=None, redirect=None, status=None)) after connection broken by 'NewConnectionError('<urllib3.connection.HTTPConnection object at 0x7b3b4e7d8d30>: Failed to establish a new connection: [Errno 111] Connection refused')': /session/87ece9546149eb12e45c79cf23305dd3\n",
            "WARNING:urllib3.connectionpool:Retrying (Retry(total=1, connect=None, read=None, redirect=None, status=None)) after connection broken by 'NewConnectionError('<urllib3.connection.HTTPConnection object at 0x7b3b4e77f910>: Failed to establish a new connection: [Errno 111] Connection refused')': /session/87ece9546149eb12e45c79cf23305dd3\n",
            "WARNING:urllib3.connectionpool:Retrying (Retry(total=0, connect=None, read=None, redirect=None, status=None)) after connection broken by 'NewConnectionError('<urllib3.connection.HTTPConnection object at 0x7b3b4e77f670>: Failed to establish a new connection: [Errno 111] Connection refused')': /session/87ece9546149eb12e45c79cf23305dd3\n"
          ]
        },
        {
          "name": "stdout",
          "output_type": "stream",
          "text": [
            "Techjockey\n",
            "jhattse Related Best Software Solution | Techjockey.com\n",
            "Jhattse Pricing & Reviews 2023 | Techjockey.com\n"
          ]
        },
        {
          "name": "stderr",
          "output_type": "stream",
          "text": [
            "WARNING:urllib3.connectionpool:Retrying (Retry(total=2, connect=None, read=None, redirect=None, status=None)) after connection broken by 'NewConnectionError('<urllib3.connection.HTTPConnection object at 0x7b3b4f4073d0>: Failed to establish a new connection: [Errno 111] Connection refused')': /session/855e7d3fa56dae669809ec713873b641\n",
            "WARNING:urllib3.connectionpool:Retrying (Retry(total=1, connect=None, read=None, redirect=None, status=None)) after connection broken by 'NewConnectionError('<urllib3.connection.HTTPConnection object at 0x7b3b4f405300>: Failed to establish a new connection: [Errno 111] Connection refused')': /session/855e7d3fa56dae669809ec713873b641\n",
            "WARNING:urllib3.connectionpool:Retrying (Retry(total=0, connect=None, read=None, redirect=None, status=None)) after connection broken by 'NewConnectionError('<urllib3.connection.HTTPConnection object at 0x7b3b4f406200>: Failed to establish a new connection: [Errno 111] Connection refused')': /session/855e7d3fa56dae669809ec713873b641\n"
          ]
        },
        {
          "name": "stdout",
          "output_type": "stream",
          "text": [
            "Techjockey\n",
            "jhattse Related Best Software Solution | Techjockey.com\n",
            "Jhattse Pricing & Reviews 2023 | Techjockey.com\n"
          ]
        },
        {
          "name": "stderr",
          "output_type": "stream",
          "text": [
            "WARNING:urllib3.connectionpool:Retrying (Retry(total=2, connect=None, read=None, redirect=None, status=None)) after connection broken by 'NewConnectionError('<urllib3.connection.HTTPConnection object at 0x7b3b4f405bd0>: Failed to establish a new connection: [Errno 111] Connection refused')': /session/6f3dd1d076b73ce02aa71bed481d8f5c\n",
            "WARNING:urllib3.connectionpool:Retrying (Retry(total=1, connect=None, read=None, redirect=None, status=None)) after connection broken by 'NewConnectionError('<urllib3.connection.HTTPConnection object at 0x7b3b4f404520>: Failed to establish a new connection: [Errno 111] Connection refused')': /session/6f3dd1d076b73ce02aa71bed481d8f5c\n",
            "WARNING:urllib3.connectionpool:Retrying (Retry(total=0, connect=None, read=None, redirect=None, status=None)) after connection broken by 'NewConnectionError('<urllib3.connection.HTTPConnection object at 0x7b3b4e9c4100>: Failed to establish a new connection: [Errno 111] Connection refused')': /session/6f3dd1d076b73ce02aa71bed481d8f5c\n"
          ]
        },
        {
          "name": "stdout",
          "output_type": "stream",
          "text": [
            "Techjockey\n",
            "jhattse Related Best Software Solution | Techjockey.com\n",
            "Jhattse Pricing & Reviews 2023 | Techjockey.com\n"
          ]
        },
        {
          "name": "stderr",
          "output_type": "stream",
          "text": [
            "WARNING:urllib3.connectionpool:Retrying (Retry(total=2, connect=None, read=None, redirect=None, status=None)) after connection broken by 'NewConnectionError('<urllib3.connection.HTTPConnection object at 0x7b3b4e7db160>: Failed to establish a new connection: [Errno 111] Connection refused')': /session/3540f7882f0ce8c00178f692d5bb586b\n",
            "WARNING:urllib3.connectionpool:Retrying (Retry(total=1, connect=None, read=None, redirect=None, status=None)) after connection broken by 'NewConnectionError('<urllib3.connection.HTTPConnection object at 0x7b3b4e7d93f0>: Failed to establish a new connection: [Errno 111] Connection refused')': /session/3540f7882f0ce8c00178f692d5bb586b\n",
            "WARNING:urllib3.connectionpool:Retrying (Retry(total=0, connect=None, read=None, redirect=None, status=None)) after connection broken by 'NewConnectionError('<urllib3.connection.HTTPConnection object at 0x7b3b4e7d8fd0>: Failed to establish a new connection: [Errno 111] Connection refused')': /session/3540f7882f0ce8c00178f692d5bb586b\n"
          ]
        },
        {
          "name": "stdout",
          "output_type": "stream",
          "text": [
            "Techjockey\n",
            "jhattse Related Best Software Solution | Techjockey.com\n",
            "Jhattse Pricing & Reviews 2023 | Techjockey.com\n"
          ]
        },
        {
          "name": "stderr",
          "output_type": "stream",
          "text": [
            "WARNING:urllib3.connectionpool:Retrying (Retry(total=2, connect=None, read=None, redirect=None, status=None)) after connection broken by 'NewConnectionError('<urllib3.connection.HTTPConnection object at 0x7b3b4f406f20>: Failed to establish a new connection: [Errno 111] Connection refused')': /session/e7f065f379b4d00eb6e341ba4fcdb452\n",
            "WARNING:urllib3.connectionpool:Retrying (Retry(total=1, connect=None, read=None, redirect=None, status=None)) after connection broken by 'NewConnectionError('<urllib3.connection.HTTPConnection object at 0x7b3b4f406740>: Failed to establish a new connection: [Errno 111] Connection refused')': /session/e7f065f379b4d00eb6e341ba4fcdb452\n",
            "WARNING:urllib3.connectionpool:Retrying (Retry(total=0, connect=None, read=None, redirect=None, status=None)) after connection broken by 'NewConnectionError('<urllib3.connection.HTTPConnection object at 0x7b3b4f405120>: Failed to establish a new connection: [Errno 111] Connection refused')': /session/e7f065f379b4d00eb6e341ba4fcdb452\n"
          ]
        },
        {
          "name": "stdout",
          "output_type": "stream",
          "text": [
            "Techjockey\n",
            "jhattse Related Best Software Solution | Techjockey.com\n",
            "Jhattse Pricing & Reviews 2023 | Techjockey.com\n"
          ]
        },
        {
          "name": "stderr",
          "output_type": "stream",
          "text": [
            "WARNING:urllib3.connectionpool:Retrying (Retry(total=2, connect=None, read=None, redirect=None, status=None)) after connection broken by 'NewConnectionError('<urllib3.connection.HTTPConnection object at 0x7b3b4f4077c0>: Failed to establish a new connection: [Errno 111] Connection refused')': /session/1df430c768c5f854eba1a9f13d214d4a\n",
            "WARNING:urllib3.connectionpool:Retrying (Retry(total=1, connect=None, read=None, redirect=None, status=None)) after connection broken by 'NewConnectionError('<urllib3.connection.HTTPConnection object at 0x7b3b4f405ae0>: Failed to establish a new connection: [Errno 111] Connection refused')': /session/1df430c768c5f854eba1a9f13d214d4a\n",
            "WARNING:urllib3.connectionpool:Retrying (Retry(total=0, connect=None, read=None, redirect=None, status=None)) after connection broken by 'NewConnectionError('<urllib3.connection.HTTPConnection object at 0x7b3b4f405b70>: Failed to establish a new connection: [Errno 111] Connection refused')': /session/1df430c768c5f854eba1a9f13d214d4a\n"
          ]
        },
        {
          "name": "stdout",
          "output_type": "stream",
          "text": [
            "Techjockey\n",
            "jhattse Related Best Software Solution | Techjockey.com\n",
            "Jhattse Pricing & Reviews 2023 | Techjockey.com\n"
          ]
        },
        {
          "name": "stderr",
          "output_type": "stream",
          "text": [
            "WARNING:urllib3.connectionpool:Retrying (Retry(total=2, connect=None, read=None, redirect=None, status=None)) after connection broken by 'NewConnectionError('<urllib3.connection.HTTPConnection object at 0x7b3b4e7dae90>: Failed to establish a new connection: [Errno 111] Connection refused')': /session/fa1dcf98ae645336a542ed21a0ffad0f\n",
            "WARNING:urllib3.connectionpool:Retrying (Retry(total=1, connect=None, read=None, redirect=None, status=None)) after connection broken by 'NewConnectionError('<urllib3.connection.HTTPConnection object at 0x7b3b4e7da350>: Failed to establish a new connection: [Errno 111] Connection refused')': /session/fa1dcf98ae645336a542ed21a0ffad0f\n",
            "WARNING:urllib3.connectionpool:Retrying (Retry(total=0, connect=None, read=None, redirect=None, status=None)) after connection broken by 'NewConnectionError('<urllib3.connection.HTTPConnection object at 0x7b3b4e7d9c30>: Failed to establish a new connection: [Errno 111] Connection refused')': /session/fa1dcf98ae645336a542ed21a0ffad0f\n"
          ]
        },
        {
          "name": "stdout",
          "output_type": "stream",
          "text": [
            "Techjockey\n",
            "jhattse Related Best Software Solution | Techjockey.com\n",
            "Jhattse Pricing & Reviews 2023 | Techjockey.com\n"
          ]
        },
        {
          "name": "stderr",
          "output_type": "stream",
          "text": [
            "WARNING:urllib3.connectionpool:Retrying (Retry(total=2, connect=None, read=None, redirect=None, status=None)) after connection broken by 'NewConnectionError('<urllib3.connection.HTTPConnection object at 0x7b3b4e7d8970>: Failed to establish a new connection: [Errno 111] Connection refused')': /session/50d864af419ae2706fff000f8e214712\n",
            "WARNING:urllib3.connectionpool:Retrying (Retry(total=1, connect=None, read=None, redirect=None, status=None)) after connection broken by 'NewConnectionError('<urllib3.connection.HTTPConnection object at 0x7b3b4e77fa30>: Failed to establish a new connection: [Errno 111] Connection refused')': /session/50d864af419ae2706fff000f8e214712\n",
            "WARNING:urllib3.connectionpool:Retrying (Retry(total=0, connect=None, read=None, redirect=None, status=None)) after connection broken by 'NewConnectionError('<urllib3.connection.HTTPConnection object at 0x7b3b4e77f670>: Failed to establish a new connection: [Errno 111] Connection refused')': /session/50d864af419ae2706fff000f8e214712\n"
          ]
        },
        {
          "name": "stdout",
          "output_type": "stream",
          "text": [
            "Techjockey\n",
            "jhattse Related Best Software Solution | Techjockey.com\n",
            "Jhattse Pricing & Reviews 2023 | Techjockey.com\n"
          ]
        },
        {
          "name": "stderr",
          "output_type": "stream",
          "text": [
            "WARNING:urllib3.connectionpool:Retrying (Retry(total=2, connect=None, read=None, redirect=None, status=None)) after connection broken by 'NewConnectionError('<urllib3.connection.HTTPConnection object at 0x7b3b4f404340>: Failed to establish a new connection: [Errno 111] Connection refused')': /session/d08fa8393efb84ed33c910e69e7a935b\n",
            "WARNING:urllib3.connectionpool:Retrying (Retry(total=1, connect=None, read=None, redirect=None, status=None)) after connection broken by 'NewConnectionError('<urllib3.connection.HTTPConnection object at 0x7b3b4f405a80>: Failed to establish a new connection: [Errno 111] Connection refused')': /session/d08fa8393efb84ed33c910e69e7a935b\n",
            "WARNING:urllib3.connectionpool:Retrying (Retry(total=0, connect=None, read=None, redirect=None, status=None)) after connection broken by 'NewConnectionError('<urllib3.connection.HTTPConnection object at 0x7b3b4f405030>: Failed to establish a new connection: [Errno 111] Connection refused')': /session/d08fa8393efb84ed33c910e69e7a935b\n"
          ]
        },
        {
          "name": "stdout",
          "output_type": "stream",
          "text": [
            "Techjockey\n",
            "jhattse Related Best Software Solution | Techjockey.com\n",
            "Jhattse Pricing & Reviews 2023 | Techjockey.com\n"
          ]
        },
        {
          "name": "stderr",
          "output_type": "stream",
          "text": [
            "WARNING:urllib3.connectionpool:Retrying (Retry(total=2, connect=None, read=None, redirect=None, status=None)) after connection broken by 'NewConnectionError('<urllib3.connection.HTTPConnection object at 0x7b3b4f405570>: Failed to establish a new connection: [Errno 111] Connection refused')': /session/2d2d960ca45f8eb6cba08b6f100b740d\n",
            "WARNING:urllib3.connectionpool:Retrying (Retry(total=1, connect=None, read=None, redirect=None, status=None)) after connection broken by 'NewConnectionError('<urllib3.connection.HTTPConnection object at 0x7b3b4f407cd0>: Failed to establish a new connection: [Errno 111] Connection refused')': /session/2d2d960ca45f8eb6cba08b6f100b740d\n",
            "WARNING:urllib3.connectionpool:Retrying (Retry(total=0, connect=None, read=None, redirect=None, status=None)) after connection broken by 'NewConnectionError('<urllib3.connection.HTTPConnection object at 0x7b3b4f406f20>: Failed to establish a new connection: [Errno 111] Connection refused')': /session/2d2d960ca45f8eb6cba08b6f100b740d\n"
          ]
        },
        {
          "name": "stdout",
          "output_type": "stream",
          "text": [
            "Techjockey\n",
            "jhattse Related Best Software Solution | Techjockey.com\n",
            "Jhattse Pricing & Reviews 2023 | Techjockey.com\n"
          ]
        },
        {
          "name": "stderr",
          "output_type": "stream",
          "text": [
            "WARNING:urllib3.connectionpool:Retrying (Retry(total=2, connect=None, read=None, redirect=None, status=None)) after connection broken by 'NewConnectionError('<urllib3.connection.HTTPConnection object at 0x7b3b4e7d9120>: Failed to establish a new connection: [Errno 111] Connection refused')': /session/e92dedc61765f190818117578fa73968\n",
            "WARNING:urllib3.connectionpool:Retrying (Retry(total=1, connect=None, read=None, redirect=None, status=None)) after connection broken by 'NewConnectionError('<urllib3.connection.HTTPConnection object at 0x7b3b4e7d8e50>: Failed to establish a new connection: [Errno 111] Connection refused')': /session/e92dedc61765f190818117578fa73968\n",
            "WARNING:urllib3.connectionpool:Retrying (Retry(total=0, connect=None, read=None, redirect=None, status=None)) after connection broken by 'NewConnectionError('<urllib3.connection.HTTPConnection object at 0x7b3b4e7d9480>: Failed to establish a new connection: [Errno 111] Connection refused')': /session/e92dedc61765f190818117578fa73968\n"
          ]
        },
        {
          "name": "stdout",
          "output_type": "stream",
          "text": [
            "Techjockey\n",
            "jhattse Related Best Software Solution | Techjockey.com\n",
            "Jhattse Pricing & Reviews 2023 | Techjockey.com\n"
          ]
        },
        {
          "name": "stderr",
          "output_type": "stream",
          "text": [
            "WARNING:urllib3.connectionpool:Retrying (Retry(total=2, connect=None, read=None, redirect=None, status=None)) after connection broken by 'NewConnectionError('<urllib3.connection.HTTPConnection object at 0x7b3b4f4055a0>: Failed to establish a new connection: [Errno 111] Connection refused')': /session/5397ad0733a3c684d8e14ddeb645d60f\n",
            "WARNING:urllib3.connectionpool:Retrying (Retry(total=1, connect=None, read=None, redirect=None, status=None)) after connection broken by 'NewConnectionError('<urllib3.connection.HTTPConnection object at 0x7b3b4f4061a0>: Failed to establish a new connection: [Errno 111] Connection refused')': /session/5397ad0733a3c684d8e14ddeb645d60f\n",
            "WARNING:urllib3.connectionpool:Retrying (Retry(total=0, connect=None, read=None, redirect=None, status=None)) after connection broken by 'NewConnectionError('<urllib3.connection.HTTPConnection object at 0x7b3b4f4053c0>: Failed to establish a new connection: [Errno 111] Connection refused')': /session/5397ad0733a3c684d8e14ddeb645d60f\n"
          ]
        },
        {
          "name": "stdout",
          "output_type": "stream",
          "text": [
            "Techjockey\n",
            "jhattse Related Best Software Solution | Techjockey.com\n",
            "Jhattse Pricing & Reviews 2023 | Techjockey.com\n"
          ]
        },
        {
          "name": "stderr",
          "output_type": "stream",
          "text": [
            "WARNING:urllib3.connectionpool:Retrying (Retry(total=2, connect=None, read=None, redirect=None, status=None)) after connection broken by 'NewConnectionError('<urllib3.connection.HTTPConnection object at 0x7b3b4e77e020>: Failed to establish a new connection: [Errno 111] Connection refused')': /session/8af822dc5cb6be4cde9771548b28caf3\n",
            "WARNING:urllib3.connectionpool:Retrying (Retry(total=1, connect=None, read=None, redirect=None, status=None)) after connection broken by 'NewConnectionError('<urllib3.connection.HTTPConnection object at 0x7b3b4e77ee60>: Failed to establish a new connection: [Errno 111] Connection refused')': /session/8af822dc5cb6be4cde9771548b28caf3\n",
            "WARNING:urllib3.connectionpool:Retrying (Retry(total=0, connect=None, read=None, redirect=None, status=None)) after connection broken by 'NewConnectionError('<urllib3.connection.HTTPConnection object at 0x7b3b4e77fe50>: Failed to establish a new connection: [Errno 111] Connection refused')': /session/8af822dc5cb6be4cde9771548b28caf3\n"
          ]
        },
        {
          "name": "stdout",
          "output_type": "stream",
          "text": [
            "Techjockey\n",
            "jhattse Related Best Software Solution | Techjockey.com\n",
            "Jhattse Pricing & Reviews 2023 | Techjockey.com\n"
          ]
        },
        {
          "name": "stderr",
          "output_type": "stream",
          "text": [
            "WARNING:urllib3.connectionpool:Retrying (Retry(total=2, connect=None, read=None, redirect=None, status=None)) after connection broken by 'NewConnectionError('<urllib3.connection.HTTPConnection object at 0x7b3b4e7dab00>: Failed to establish a new connection: [Errno 111] Connection refused')': /session/8d2c4d5c568a5e71fbd2785cf455acef\n",
            "WARNING:urllib3.connectionpool:Retrying (Retry(total=1, connect=None, read=None, redirect=None, status=None)) after connection broken by 'NewConnectionError('<urllib3.connection.HTTPConnection object at 0x7b3b4e7da2c0>: Failed to establish a new connection: [Errno 111] Connection refused')': /session/8d2c4d5c568a5e71fbd2785cf455acef\n",
            "WARNING:urllib3.connectionpool:Retrying (Retry(total=0, connect=None, read=None, redirect=None, status=None)) after connection broken by 'NewConnectionError('<urllib3.connection.HTTPConnection object at 0x7b3b4e7d8430>: Failed to establish a new connection: [Errno 111] Connection refused')': /session/8d2c4d5c568a5e71fbd2785cf455acef\n"
          ]
        },
        {
          "name": "stdout",
          "output_type": "stream",
          "text": [
            "Techjockey\n",
            "jhattse Related Best Software Solution | Techjockey.com\n",
            "Jhattse Pricing & Reviews 2023 | Techjockey.com\n"
          ]
        },
        {
          "name": "stderr",
          "output_type": "stream",
          "text": [
            "WARNING:urllib3.connectionpool:Retrying (Retry(total=2, connect=None, read=None, redirect=None, status=None)) after connection broken by 'NewConnectionError('<urllib3.connection.HTTPConnection object at 0x7b3b4e77faf0>: Failed to establish a new connection: [Errno 111] Connection refused')': /session/413c750681cd7cb16bf275eeaa7cc869\n",
            "WARNING:urllib3.connectionpool:Retrying (Retry(total=1, connect=None, read=None, redirect=None, status=None)) after connection broken by 'NewConnectionError('<urllib3.connection.HTTPConnection object at 0x7b3b4e77f670>: Failed to establish a new connection: [Errno 111] Connection refused')': /session/413c750681cd7cb16bf275eeaa7cc869\n",
            "WARNING:urllib3.connectionpool:Retrying (Retry(total=0, connect=None, read=None, redirect=None, status=None)) after connection broken by 'NewConnectionError('<urllib3.connection.HTTPConnection object at 0x7b3b4e77fbe0>: Failed to establish a new connection: [Errno 111] Connection refused')': /session/413c750681cd7cb16bf275eeaa7cc869\n"
          ]
        },
        {
          "name": "stdout",
          "output_type": "stream",
          "text": [
            "Techjockey\n",
            "jhattse Related Best Software Solution | Techjockey.com\n",
            "Jhattse Pricing & Reviews 2023 | Techjockey.com\n"
          ]
        },
        {
          "name": "stderr",
          "output_type": "stream",
          "text": [
            "WARNING:urllib3.connectionpool:Retrying (Retry(total=2, connect=None, read=None, redirect=None, status=None)) after connection broken by 'NewConnectionError('<urllib3.connection.HTTPConnection object at 0x7b3b4f406740>: Failed to establish a new connection: [Errno 111] Connection refused')': /session/153f26656520a2285340e78f88afddb9\n",
            "WARNING:urllib3.connectionpool:Retrying (Retry(total=1, connect=None, read=None, redirect=None, status=None)) after connection broken by 'NewConnectionError('<urllib3.connection.HTTPConnection object at 0x7b3b4f4056f0>: Failed to establish a new connection: [Errno 111] Connection refused')': /session/153f26656520a2285340e78f88afddb9\n",
            "WARNING:urllib3.connectionpool:Retrying (Retry(total=0, connect=None, read=None, redirect=None, status=None)) after connection broken by 'NewConnectionError('<urllib3.connection.HTTPConnection object at 0x7b3b4f404340>: Failed to establish a new connection: [Errno 111] Connection refused')': /session/153f26656520a2285340e78f88afddb9\n"
          ]
        },
        {
          "name": "stdout",
          "output_type": "stream",
          "text": [
            "Techjockey\n",
            "jhattse Related Best Software Solution | Techjockey.com\n",
            "Jhattse Pricing & Reviews 2023 | Techjockey.com\n"
          ]
        },
        {
          "name": "stderr",
          "output_type": "stream",
          "text": [
            "WARNING:urllib3.connectionpool:Retrying (Retry(total=2, connect=None, read=None, redirect=None, status=None)) after connection broken by 'NewConnectionError('<urllib3.connection.HTTPConnection object at 0x7b3b4e7dbee0>: Failed to establish a new connection: [Errno 111] Connection refused')': /session/d8938ee321eeee6a0adad591dd3c3deb\n",
            "WARNING:urllib3.connectionpool:Retrying (Retry(total=1, connect=None, read=None, redirect=None, status=None)) after connection broken by 'NewConnectionError('<urllib3.connection.HTTPConnection object at 0x7b3b4e7db910>: Failed to establish a new connection: [Errno 111] Connection refused')': /session/d8938ee321eeee6a0adad591dd3c3deb\n",
            "WARNING:urllib3.connectionpool:Retrying (Retry(total=0, connect=None, read=None, redirect=None, status=None)) after connection broken by 'NewConnectionError('<urllib3.connection.HTTPConnection object at 0x7b3b4e7dab30>: Failed to establish a new connection: [Errno 111] Connection refused')': /session/d8938ee321eeee6a0adad591dd3c3deb\n"
          ]
        },
        {
          "name": "stdout",
          "output_type": "stream",
          "text": [
            "Techjockey\n",
            "jhattse Related Best Software Solution | Techjockey.com\n",
            "Jhattse Pricing & Reviews 2023 | Techjockey.com\n"
          ]
        },
        {
          "name": "stderr",
          "output_type": "stream",
          "text": [
            "WARNING:urllib3.connectionpool:Retrying (Retry(total=2, connect=None, read=None, redirect=None, status=None)) after connection broken by 'NewConnectionError('<urllib3.connection.HTTPConnection object at 0x7b3b4e7d97b0>: Failed to establish a new connection: [Errno 111] Connection refused')': /session/1184b2248cb565c78d68653ec4328f38\n",
            "WARNING:urllib3.connectionpool:Retrying (Retry(total=1, connect=None, read=None, redirect=None, status=None)) after connection broken by 'NewConnectionError('<urllib3.connection.HTTPConnection object at 0x7b3b4f404550>: Failed to establish a new connection: [Errno 111] Connection refused')': /session/1184b2248cb565c78d68653ec4328f38\n",
            "WARNING:urllib3.connectionpool:Retrying (Retry(total=0, connect=None, read=None, redirect=None, status=None)) after connection broken by 'NewConnectionError('<urllib3.connection.HTTPConnection object at 0x7b3b4e9c4490>: Failed to establish a new connection: [Errno 111] Connection refused')': /session/1184b2248cb565c78d68653ec4328f38\n"
          ]
        },
        {
          "name": "stdout",
          "output_type": "stream",
          "text": [
            "Techjockey\n",
            "jhattse Related Best Software Solution | Techjockey.com\n",
            "Jhattse Pricing & Reviews 2023 | Techjockey.com\n"
          ]
        },
        {
          "name": "stderr",
          "output_type": "stream",
          "text": [
            "WARNING:urllib3.connectionpool:Retrying (Retry(total=2, connect=None, read=None, redirect=None, status=None)) after connection broken by 'NewConnectionError('<urllib3.connection.HTTPConnection object at 0x7b3b4f4078e0>: Failed to establish a new connection: [Errno 111] Connection refused')': /session/fe03218bc9aed4be4a780d2d32e0ce33\n",
            "WARNING:urllib3.connectionpool:Retrying (Retry(total=1, connect=None, read=None, redirect=None, status=None)) after connection broken by 'NewConnectionError('<urllib3.connection.HTTPConnection object at 0x7b3b4f407eb0>: Failed to establish a new connection: [Errno 111] Connection refused')': /session/fe03218bc9aed4be4a780d2d32e0ce33\n",
            "WARNING:urllib3.connectionpool:Retrying (Retry(total=0, connect=None, read=None, redirect=None, status=None)) after connection broken by 'NewConnectionError('<urllib3.connection.HTTPConnection object at 0x7b3b4f406ad0>: Failed to establish a new connection: [Errno 111] Connection refused')': /session/fe03218bc9aed4be4a780d2d32e0ce33\n"
          ]
        },
        {
          "name": "stdout",
          "output_type": "stream",
          "text": [
            "Techjockey\n",
            "jhattse Related Best Software Solution | Techjockey.com\n",
            "Jhattse Pricing & Reviews 2023 | Techjockey.com\n"
          ]
        },
        {
          "name": "stderr",
          "output_type": "stream",
          "text": [
            "WARNING:urllib3.connectionpool:Retrying (Retry(total=2, connect=None, read=None, redirect=None, status=None)) after connection broken by 'NewConnectionError('<urllib3.connection.HTTPConnection object at 0x7b3b4e77dff0>: Failed to establish a new connection: [Errno 111] Connection refused')': /session/0aeb5912f15259303eb0a89dadbf8f87\n",
            "WARNING:urllib3.connectionpool:Retrying (Retry(total=1, connect=None, read=None, redirect=None, status=None)) after connection broken by 'NewConnectionError('<urllib3.connection.HTTPConnection object at 0x7b3b4e77ff10>: Failed to establish a new connection: [Errno 111] Connection refused')': /session/0aeb5912f15259303eb0a89dadbf8f87\n",
            "WARNING:urllib3.connectionpool:Retrying (Retry(total=0, connect=None, read=None, redirect=None, status=None)) after connection broken by 'NewConnectionError('<urllib3.connection.HTTPConnection object at 0x7b3b4f404370>: Failed to establish a new connection: [Errno 111] Connection refused')': /session/0aeb5912f15259303eb0a89dadbf8f87\n"
          ]
        },
        {
          "name": "stdout",
          "output_type": "stream",
          "text": [
            "Techjockey\n",
            "jhattse Related Best Software Solution | Techjockey.com\n",
            "Jhattse Pricing & Reviews 2023 | Techjockey.com\n"
          ]
        },
        {
          "name": "stderr",
          "output_type": "stream",
          "text": [
            "WARNING:urllib3.connectionpool:Retrying (Retry(total=2, connect=None, read=None, redirect=None, status=None)) after connection broken by 'NewConnectionError('<urllib3.connection.HTTPConnection object at 0x7b3b4e7d8f40>: Failed to establish a new connection: [Errno 111] Connection refused')': /session/e10c6c3c48adaa8798fe47e4324ecc63\n",
            "WARNING:urllib3.connectionpool:Retrying (Retry(total=1, connect=None, read=None, redirect=None, status=None)) after connection broken by 'NewConnectionError('<urllib3.connection.HTTPConnection object at 0x7b3b4e7d9090>: Failed to establish a new connection: [Errno 111] Connection refused')': /session/e10c6c3c48adaa8798fe47e4324ecc63\n",
            "WARNING:urllib3.connectionpool:Retrying (Retry(total=0, connect=None, read=None, redirect=None, status=None)) after connection broken by 'NewConnectionError('<urllib3.connection.HTTPConnection object at 0x7b3b4e7d8f70>: Failed to establish a new connection: [Errno 111] Connection refused')': /session/e10c6c3c48adaa8798fe47e4324ecc63\n"
          ]
        },
        {
          "name": "stdout",
          "output_type": "stream",
          "text": [
            "Techjockey\n",
            "jhattse Related Best Software Solution | Techjockey.com\n",
            "Jhattse Pricing & Reviews 2023 | Techjockey.com\n"
          ]
        },
        {
          "name": "stderr",
          "output_type": "stream",
          "text": [
            "WARNING:urllib3.connectionpool:Retrying (Retry(total=2, connect=None, read=None, redirect=None, status=None)) after connection broken by 'NewConnectionError('<urllib3.connection.HTTPConnection object at 0x7b3b4e77feb0>: Failed to establish a new connection: [Errno 111] Connection refused')': /session/97eb82f94fce03b5b590a99ff496aa9d\n",
            "WARNING:urllib3.connectionpool:Retrying (Retry(total=1, connect=None, read=None, redirect=None, status=None)) after connection broken by 'NewConnectionError('<urllib3.connection.HTTPConnection object at 0x7b3b4e77ee60>: Failed to establish a new connection: [Errno 111] Connection refused')': /session/97eb82f94fce03b5b590a99ff496aa9d\n",
            "WARNING:urllib3.connectionpool:Retrying (Retry(total=0, connect=None, read=None, redirect=None, status=None)) after connection broken by 'NewConnectionError('<urllib3.connection.HTTPConnection object at 0x7b3b4f407d00>: Failed to establish a new connection: [Errno 111] Connection refused')': /session/97eb82f94fce03b5b590a99ff496aa9d\n"
          ]
        },
        {
          "name": "stdout",
          "output_type": "stream",
          "text": [
            "Techjockey\n",
            "jhattse Related Best Software Solution | Techjockey.com\n",
            "Jhattse Pricing & Reviews 2023 | Techjockey.com\n"
          ]
        },
        {
          "name": "stderr",
          "output_type": "stream",
          "text": [
            "WARNING:urllib3.connectionpool:Retrying (Retry(total=2, connect=None, read=None, redirect=None, status=None)) after connection broken by 'NewConnectionError('<urllib3.connection.HTTPConnection object at 0x7b3b4f406740>: Failed to establish a new connection: [Errno 111] Connection refused')': /session/ccbeb79f9f39ef66719c37a1778c5a7f\n",
            "WARNING:urllib3.connectionpool:Retrying (Retry(total=1, connect=None, read=None, redirect=None, status=None)) after connection broken by 'NewConnectionError('<urllib3.connection.HTTPConnection object at 0x7b3b4f4054e0>: Failed to establish a new connection: [Errno 111] Connection refused')': /session/ccbeb79f9f39ef66719c37a1778c5a7f\n",
            "WARNING:urllib3.connectionpool:Retrying (Retry(total=0, connect=None, read=None, redirect=None, status=None)) after connection broken by 'NewConnectionError('<urllib3.connection.HTTPConnection object at 0x7b3b4f405810>: Failed to establish a new connection: [Errno 111] Connection refused')': /session/ccbeb79f9f39ef66719c37a1778c5a7f\n"
          ]
        },
        {
          "name": "stdout",
          "output_type": "stream",
          "text": [
            "Techjockey\n",
            "jhattse Related Best Software Solution | Techjockey.com\n",
            "Jhattse Pricing & Reviews 2023 | Techjockey.com\n"
          ]
        },
        {
          "name": "stderr",
          "output_type": "stream",
          "text": [
            "WARNING:urllib3.connectionpool:Retrying (Retry(total=2, connect=None, read=None, redirect=None, status=None)) after connection broken by 'NewConnectionError('<urllib3.connection.HTTPConnection object at 0x7b3b4e7da080>: Failed to establish a new connection: [Errno 111] Connection refused')': /session/794478c213390448ed08d16245af53da\n",
            "WARNING:urllib3.connectionpool:Retrying (Retry(total=1, connect=None, read=None, redirect=None, status=None)) after connection broken by 'NewConnectionError('<urllib3.connection.HTTPConnection object at 0x7b3b4e7da260>: Failed to establish a new connection: [Errno 111] Connection refused')': /session/794478c213390448ed08d16245af53da\n",
            "WARNING:urllib3.connectionpool:Retrying (Retry(total=0, connect=None, read=None, redirect=None, status=None)) after connection broken by 'NewConnectionError('<urllib3.connection.HTTPConnection object at 0x7b3b4e7dbeb0>: Failed to establish a new connection: [Errno 111] Connection refused')': /session/794478c213390448ed08d16245af53da\n"
          ]
        },
        {
          "name": "stdout",
          "output_type": "stream",
          "text": [
            "Techjockey\n",
            "jhattse Related Best Software Solution | Techjockey.com\n",
            "Jhattse Pricing & Reviews 2023 | Techjockey.com\n"
          ]
        },
        {
          "name": "stderr",
          "output_type": "stream",
          "text": [
            "WARNING:urllib3.connectionpool:Retrying (Retry(total=2, connect=None, read=None, redirect=None, status=None)) after connection broken by 'NewConnectionError('<urllib3.connection.HTTPConnection object at 0x7b3b4f4063e0>: Failed to establish a new connection: [Errno 111] Connection refused')': /session/248e1b7303d31fff6c7c4072eaa63e41\n",
            "WARNING:urllib3.connectionpool:Retrying (Retry(total=1, connect=None, read=None, redirect=None, status=None)) after connection broken by 'NewConnectionError('<urllib3.connection.HTTPConnection object at 0x7b3b4f404550>: Failed to establish a new connection: [Errno 111] Connection refused')': /session/248e1b7303d31fff6c7c4072eaa63e41\n",
            "WARNING:urllib3.connectionpool:Retrying (Retry(total=0, connect=None, read=None, redirect=None, status=None)) after connection broken by 'NewConnectionError('<urllib3.connection.HTTPConnection object at 0x7b3b4f4053c0>: Failed to establish a new connection: [Errno 111] Connection refused')': /session/248e1b7303d31fff6c7c4072eaa63e41\n"
          ]
        },
        {
          "name": "stdout",
          "output_type": "stream",
          "text": [
            "Techjockey\n",
            "jhattse Related Best Software Solution | Techjockey.com\n",
            "Jhattse Pricing & Reviews 2023 | Techjockey.com\n"
          ]
        },
        {
          "name": "stderr",
          "output_type": "stream",
          "text": [
            "WARNING:urllib3.connectionpool:Retrying (Retry(total=2, connect=None, read=None, redirect=None, status=None)) after connection broken by 'NewConnectionError('<urllib3.connection.HTTPConnection object at 0x7b3b4f407d00>: Failed to establish a new connection: [Errno 111] Connection refused')': /session/aa6b033f5df9f7060919aab72f1f15ca\n",
            "WARNING:urllib3.connectionpool:Retrying (Retry(total=1, connect=None, read=None, redirect=None, status=None)) after connection broken by 'NewConnectionError('<urllib3.connection.HTTPConnection object at 0x7b3b4f407eb0>: Failed to establish a new connection: [Errno 111] Connection refused')': /session/aa6b033f5df9f7060919aab72f1f15ca\n",
            "WARNING:urllib3.connectionpool:Retrying (Retry(total=0, connect=None, read=None, redirect=None, status=None)) after connection broken by 'NewConnectionError('<urllib3.connection.HTTPConnection object at 0x7b3b4f404070>: Failed to establish a new connection: [Errno 111] Connection refused')': /session/aa6b033f5df9f7060919aab72f1f15ca\n"
          ]
        },
        {
          "name": "stdout",
          "output_type": "stream",
          "text": [
            "Techjockey\n",
            "jhattse Related Best Software Solution | Techjockey.com\n",
            "Jhattse Pricing & Reviews 2023 | Techjockey.com\n"
          ]
        },
        {
          "name": "stderr",
          "output_type": "stream",
          "text": [
            "WARNING:urllib3.connectionpool:Retrying (Retry(total=2, connect=None, read=None, redirect=None, status=None)) after connection broken by 'NewConnectionError('<urllib3.connection.HTTPConnection object at 0x7b3b4e7d8400>: Failed to establish a new connection: [Errno 111] Connection refused')': /session/aeb8bd201790e8825954e8f18d51fb0f\n",
            "WARNING:urllib3.connectionpool:Retrying (Retry(total=1, connect=None, read=None, redirect=None, status=None)) after connection broken by 'NewConnectionError('<urllib3.connection.HTTPConnection object at 0x7b3b4e7da230>: Failed to establish a new connection: [Errno 111] Connection refused')': /session/aeb8bd201790e8825954e8f18d51fb0f\n",
            "WARNING:urllib3.connectionpool:Retrying (Retry(total=0, connect=None, read=None, redirect=None, status=None)) after connection broken by 'NewConnectionError('<urllib3.connection.HTTPConnection object at 0x7b3b4e7d8af0>: Failed to establish a new connection: [Errno 111] Connection refused')': /session/aeb8bd201790e8825954e8f18d51fb0f\n"
          ]
        },
        {
          "name": "stdout",
          "output_type": "stream",
          "text": [
            "Techjockey\n",
            "jhattse Related Best Software Solution | Techjockey.com\n",
            "Jhattse Pricing & Reviews 2023 | Techjockey.com\n"
          ]
        },
        {
          "name": "stderr",
          "output_type": "stream",
          "text": [
            "WARNING:urllib3.connectionpool:Retrying (Retry(total=2, connect=None, read=None, redirect=None, status=None)) after connection broken by 'NewConnectionError('<urllib3.connection.HTTPConnection object at 0x7b3b4e7d9180>: Failed to establish a new connection: [Errno 111] Connection refused')': /session/f8093f0c89c46e6738d12bcf68319a5f\n",
            "WARNING:urllib3.connectionpool:Retrying (Retry(total=1, connect=None, read=None, redirect=None, status=None)) after connection broken by 'NewConnectionError('<urllib3.connection.HTTPConnection object at 0x7b3b4e77fdc0>: Failed to establish a new connection: [Errno 111] Connection refused')': /session/f8093f0c89c46e6738d12bcf68319a5f\n",
            "WARNING:urllib3.connectionpool:Retrying (Retry(total=0, connect=None, read=None, redirect=None, status=None)) after connection broken by 'NewConnectionError('<urllib3.connection.HTTPConnection object at 0x7b3b4e77e050>: Failed to establish a new connection: [Errno 111] Connection refused')': /session/f8093f0c89c46e6738d12bcf68319a5f\n"
          ]
        },
        {
          "name": "stdout",
          "output_type": "stream",
          "text": [
            "Techjockey\n",
            "jhattse Related Best Software Solution | Techjockey.com\n",
            "Jhattse Pricing & Reviews 2023 | Techjockey.com\n"
          ]
        },
        {
          "name": "stderr",
          "output_type": "stream",
          "text": [
            "WARNING:urllib3.connectionpool:Retrying (Retry(total=2, connect=None, read=None, redirect=None, status=None)) after connection broken by 'NewConnectionError('<urllib3.connection.HTTPConnection object at 0x7b3b4f404c10>: Failed to establish a new connection: [Errno 111] Connection refused')': /session/cef1b791c1f1bf4287664fb758ecee65\n",
            "WARNING:urllib3.connectionpool:Retrying (Retry(total=1, connect=None, read=None, redirect=None, status=None)) after connection broken by 'NewConnectionError('<urllib3.connection.HTTPConnection object at 0x7b3b4f406860>: Failed to establish a new connection: [Errno 111] Connection refused')': /session/cef1b791c1f1bf4287664fb758ecee65\n",
            "WARNING:urllib3.connectionpool:Retrying (Retry(total=0, connect=None, read=None, redirect=None, status=None)) after connection broken by 'NewConnectionError('<urllib3.connection.HTTPConnection object at 0x7b3b4f405540>: Failed to establish a new connection: [Errno 111] Connection refused')': /session/cef1b791c1f1bf4287664fb758ecee65\n"
          ]
        },
        {
          "name": "stdout",
          "output_type": "stream",
          "text": [
            "Techjockey\n",
            "jhattse Related Best Software Solution | Techjockey.com\n",
            "Jhattse Pricing & Reviews 2023 | Techjockey.com\n",
            "Techjockey\n"
          ]
        },
        {
          "name": "stderr",
          "output_type": "stream",
          "text": [
            "WARNING:urllib3.connectionpool:Retrying (Retry(total=2, connect=None, read=None, redirect=None, status=None)) after connection broken by 'NewConnectionError('<urllib3.connection.HTTPConnection object at 0x7b3b4f407cd0>: Failed to establish a new connection: [Errno 111] Connection refused')': /session/c1650f362ce139c2b1c1a7e544e70535\n",
            "WARNING:urllib3.connectionpool:Retrying (Retry(total=1, connect=None, read=None, redirect=None, status=None)) after connection broken by 'NewConnectionError('<urllib3.connection.HTTPConnection object at 0x7b3b4f4069e0>: Failed to establish a new connection: [Errno 111] Connection refused')': /session/c1650f362ce139c2b1c1a7e544e70535\n",
            "WARNING:urllib3.connectionpool:Retrying (Retry(total=0, connect=None, read=None, redirect=None, status=None)) after connection broken by 'NewConnectionError('<urllib3.connection.HTTPConnection object at 0x7b3b4e7d9bd0>: Failed to establish a new connection: [Errno 111] Connection refused')': /session/c1650f362ce139c2b1c1a7e544e70535\n"
          ]
        },
        {
          "name": "stdout",
          "output_type": "stream",
          "text": [
            "jhattse Related Best Software Solution | Techjockey.com\n",
            "Jhattse Pricing & Reviews 2023 | Techjockey.com\n"
          ]
        },
        {
          "name": "stderr",
          "output_type": "stream",
          "text": [
            "WARNING:urllib3.connectionpool:Retrying (Retry(total=2, connect=None, read=None, redirect=None, status=None)) after connection broken by 'NewConnectionError('<urllib3.connection.HTTPConnection object at 0x7b3b4e7d9930>: Failed to establish a new connection: [Errno 111] Connection refused')': /session/fdceb63d3f745c77d2b36e3e9475c72b\n",
            "WARNING:urllib3.connectionpool:Retrying (Retry(total=1, connect=None, read=None, redirect=None, status=None)) after connection broken by 'NewConnectionError('<urllib3.connection.HTTPConnection object at 0x7b3b4e7db730>: Failed to establish a new connection: [Errno 111] Connection refused')': /session/fdceb63d3f745c77d2b36e3e9475c72b\n",
            "WARNING:urllib3.connectionpool:Retrying (Retry(total=0, connect=None, read=None, redirect=None, status=None)) after connection broken by 'NewConnectionError('<urllib3.connection.HTTPConnection object at 0x7b3b4e7d9d20>: Failed to establish a new connection: [Errno 111] Connection refused')': /session/fdceb63d3f745c77d2b36e3e9475c72b\n"
          ]
        },
        {
          "name": "stdout",
          "output_type": "stream",
          "text": [
            "Techjockey\n",
            "jhattse Related Best Software Solution | Techjockey.com\n",
            "Jhattse Pricing & Reviews 2023 | Techjockey.com\n",
            "Techjockey\n"
          ]
        },
        {
          "name": "stderr",
          "output_type": "stream",
          "text": [
            "WARNING:urllib3.connectionpool:Retrying (Retry(total=2, connect=None, read=None, redirect=None, status=None)) after connection broken by 'NewConnectionError('<urllib3.connection.HTTPConnection object at 0x7b3b4f4043d0>: Failed to establish a new connection: [Errno 111] Connection refused')': /session/c59e40d32ca77a700eb31735868d1e67\n",
            "WARNING:urllib3.connectionpool:Retrying (Retry(total=1, connect=None, read=None, redirect=None, status=None)) after connection broken by 'NewConnectionError('<urllib3.connection.HTTPConnection object at 0x7b3b4f407d30>: Failed to establish a new connection: [Errno 111] Connection refused')': /session/c59e40d32ca77a700eb31735868d1e67\n",
            "WARNING:urllib3.connectionpool:Retrying (Retry(total=0, connect=None, read=None, redirect=None, status=None)) after connection broken by 'NewConnectionError('<urllib3.connection.HTTPConnection object at 0x7b3b4f4073d0>: Failed to establish a new connection: [Errno 111] Connection refused')': /session/c59e40d32ca77a700eb31735868d1e67\n"
          ]
        },
        {
          "name": "stdout",
          "output_type": "stream",
          "text": [
            "jhattse Related Best Software Solution | Techjockey.com\n",
            "Jhattse Pricing & Reviews 2023 | Techjockey.com\n"
          ]
        },
        {
          "name": "stderr",
          "output_type": "stream",
          "text": [
            "WARNING:urllib3.connectionpool:Retrying (Retry(total=2, connect=None, read=None, redirect=None, status=None)) after connection broken by 'NewConnectionError('<urllib3.connection.HTTPConnection object at 0x7b3b4f4070a0>: Failed to establish a new connection: [Errno 111] Connection refused')': /session/9f163820c469b9f8667dd480fd5615f8\n",
            "WARNING:urllib3.connectionpool:Retrying (Retry(total=1, connect=None, read=None, redirect=None, status=None)) after connection broken by 'NewConnectionError('<urllib3.connection.HTTPConnection object at 0x7b3b4f405540>: Failed to establish a new connection: [Errno 111] Connection refused')': /session/9f163820c469b9f8667dd480fd5615f8\n",
            "WARNING:urllib3.connectionpool:Retrying (Retry(total=0, connect=None, read=None, redirect=None, status=None)) after connection broken by 'NewConnectionError('<urllib3.connection.HTTPConnection object at 0x7b3b4f404220>: Failed to establish a new connection: [Errno 111] Connection refused')': /session/9f163820c469b9f8667dd480fd5615f8\n"
          ]
        },
        {
          "name": "stdout",
          "output_type": "stream",
          "text": [
            "Techjockey\n",
            "jhattse Related Best Software Solution | Techjockey.com\n",
            "Jhattse Pricing & Reviews 2023 | Techjockey.com\n"
          ]
        },
        {
          "name": "stderr",
          "output_type": "stream",
          "text": [
            "WARNING:urllib3.connectionpool:Retrying (Retry(total=2, connect=None, read=None, redirect=None, status=None)) after connection broken by 'NewConnectionError('<urllib3.connection.HTTPConnection object at 0x7b3b4e5d8190>: Failed to establish a new connection: [Errno 111] Connection refused')': /session/5c285623a48a744247e756de07b5ccaf\n",
            "WARNING:urllib3.connectionpool:Retrying (Retry(total=1, connect=None, read=None, redirect=None, status=None)) after connection broken by 'NewConnectionError('<urllib3.connection.HTTPConnection object at 0x7b3b4e5d83a0>: Failed to establish a new connection: [Errno 111] Connection refused')': /session/5c285623a48a744247e756de07b5ccaf\n",
            "WARNING:urllib3.connectionpool:Retrying (Retry(total=0, connect=None, read=None, redirect=None, status=None)) after connection broken by 'NewConnectionError('<urllib3.connection.HTTPConnection object at 0x7b3b4e5d8400>: Failed to establish a new connection: [Errno 111] Connection refused')': /session/5c285623a48a744247e756de07b5ccaf\n"
          ]
        },
        {
          "name": "stdout",
          "output_type": "stream",
          "text": [
            "Techjockey\n",
            "jhattse Related Best Software Solution | Techjockey.com\n",
            "Jhattse Pricing & Reviews 2023 | Techjockey.com\n"
          ]
        },
        {
          "name": "stderr",
          "output_type": "stream",
          "text": [
            "WARNING:urllib3.connectionpool:Retrying (Retry(total=2, connect=None, read=None, redirect=None, status=None)) after connection broken by 'NewConnectionError('<urllib3.connection.HTTPConnection object at 0x7b3b4f4041f0>: Failed to establish a new connection: [Errno 111] Connection refused')': /session/482cc659995859c10acb970a84a318b1\n",
            "WARNING:urllib3.connectionpool:Retrying (Retry(total=1, connect=None, read=None, redirect=None, status=None)) after connection broken by 'NewConnectionError('<urllib3.connection.HTTPConnection object at 0x7b3b4f404520>: Failed to establish a new connection: [Errno 111] Connection refused')': /session/482cc659995859c10acb970a84a318b1\n",
            "WARNING:urllib3.connectionpool:Retrying (Retry(total=0, connect=None, read=None, redirect=None, status=None)) after connection broken by 'NewConnectionError('<urllib3.connection.HTTPConnection object at 0x7b3b4f4068c0>: Failed to establish a new connection: [Errno 111] Connection refused')': /session/482cc659995859c10acb970a84a318b1\n"
          ]
        },
        {
          "name": "stdout",
          "output_type": "stream",
          "text": [
            "Techjockey\n",
            "jhattse Related Best Software Solution | Techjockey.com\n",
            "Jhattse Pricing & Reviews 2023 | Techjockey.com\n"
          ]
        },
        {
          "name": "stderr",
          "output_type": "stream",
          "text": [
            "WARNING:urllib3.connectionpool:Retrying (Retry(total=2, connect=None, read=None, redirect=None, status=None)) after connection broken by 'NewConnectionError('<urllib3.connection.HTTPConnection object at 0x7b3b4f407bb0>: Failed to establish a new connection: [Errno 111] Connection refused')': /session/281ab36b14c36ab08ef496bc5a08d1bc\n",
            "WARNING:urllib3.connectionpool:Retrying (Retry(total=1, connect=None, read=None, redirect=None, status=None)) after connection broken by 'NewConnectionError('<urllib3.connection.HTTPConnection object at 0x7b3b4f404250>: Failed to establish a new connection: [Errno 111] Connection refused')': /session/281ab36b14c36ab08ef496bc5a08d1bc\n",
            "WARNING:urllib3.connectionpool:Retrying (Retry(total=0, connect=None, read=None, redirect=None, status=None)) after connection broken by 'NewConnectionError('<urllib3.connection.HTTPConnection object at 0x7b3b4f407be0>: Failed to establish a new connection: [Errno 111] Connection refused')': /session/281ab36b14c36ab08ef496bc5a08d1bc\n"
          ]
        },
        {
          "name": "stdout",
          "output_type": "stream",
          "text": [
            "Techjockey\n",
            "jhattse Related Best Software Solution | Techjockey.com\n",
            "Jhattse Pricing & Reviews 2023 | Techjockey.com\n"
          ]
        },
        {
          "name": "stderr",
          "output_type": "stream",
          "text": [
            "WARNING:urllib3.connectionpool:Retrying (Retry(total=2, connect=None, read=None, redirect=None, status=None)) after connection broken by 'NewConnectionError('<urllib3.connection.HTTPConnection object at 0x7b3b4e7dba00>: Failed to establish a new connection: [Errno 111] Connection refused')': /session/8b8597bd870bafdd7e5ceb9a9290d3c5\n",
            "WARNING:urllib3.connectionpool:Retrying (Retry(total=1, connect=None, read=None, redirect=None, status=None)) after connection broken by 'NewConnectionError('<urllib3.connection.HTTPConnection object at 0x7b3b4e7d8940>: Failed to establish a new connection: [Errno 111] Connection refused')': /session/8b8597bd870bafdd7e5ceb9a9290d3c5\n",
            "WARNING:urllib3.connectionpool:Retrying (Retry(total=0, connect=None, read=None, redirect=None, status=None)) after connection broken by 'NewConnectionError('<urllib3.connection.HTTPConnection object at 0x7b3b4e7da9e0>: Failed to establish a new connection: [Errno 111] Connection refused')': /session/8b8597bd870bafdd7e5ceb9a9290d3c5\n"
          ]
        },
        {
          "name": "stdout",
          "output_type": "stream",
          "text": [
            "Techjockey\n",
            "jhattse Related Best Software Solution | Techjockey.com\n",
            "Jhattse Pricing & Reviews 2023 | Techjockey.com\n"
          ]
        },
        {
          "name": "stderr",
          "output_type": "stream",
          "text": [
            "WARNING:urllib3.connectionpool:Retrying (Retry(total=2, connect=None, read=None, redirect=None, status=None)) after connection broken by 'NewConnectionError('<urllib3.connection.HTTPConnection object at 0x7b3b4e7d8ee0>: Failed to establish a new connection: [Errno 111] Connection refused')': /session/a197cab74a8167644a87f8f35a464278\n"
          ]
        },
        {
          "name": "stdout",
          "output_type": "stream",
          "text": [
            "Techjockey\n"
          ]
        },
        {
          "name": "stderr",
          "output_type": "stream",
          "text": [
            "WARNING:urllib3.connectionpool:Retrying (Retry(total=1, connect=None, read=None, redirect=None, status=None)) after connection broken by 'NewConnectionError('<urllib3.connection.HTTPConnection object at 0x7b3b4e77ea40>: Failed to establish a new connection: [Errno 111] Connection refused')': /session/a197cab74a8167644a87f8f35a464278\n",
            "WARNING:urllib3.connectionpool:Retrying (Retry(total=0, connect=None, read=None, redirect=None, status=None)) after connection broken by 'NewConnectionError('<urllib3.connection.HTTPConnection object at 0x7b3b4e728bb0>: Failed to establish a new connection: [Errno 111] Connection refused')': /session/a197cab74a8167644a87f8f35a464278\n"
          ]
        },
        {
          "name": "stdout",
          "output_type": "stream",
          "text": [
            "jhattse Related Best Software Solution | Techjockey.com\n",
            "Jhattse Pricing & Reviews 2023 | Techjockey.com\n"
          ]
        },
        {
          "name": "stderr",
          "output_type": "stream",
          "text": [
            "WARNING:urllib3.connectionpool:Retrying (Retry(total=2, connect=None, read=None, redirect=None, status=None)) after connection broken by 'NewConnectionError('<urllib3.connection.HTTPConnection object at 0x7b3b4e77ee00>: Failed to establish a new connection: [Errno 111] Connection refused')': /session/345ba743eed36986e81119a7bf024fca\n",
            "WARNING:urllib3.connectionpool:Retrying (Retry(total=1, connect=None, read=None, redirect=None, status=None)) after connection broken by 'NewConnectionError('<urllib3.connection.HTTPConnection object at 0x7b3b4e77fa00>: Failed to establish a new connection: [Errno 111] Connection refused')': /session/345ba743eed36986e81119a7bf024fca\n",
            "WARNING:urllib3.connectionpool:Retrying (Retry(total=0, connect=None, read=None, redirect=None, status=None)) after connection broken by 'NewConnectionError('<urllib3.connection.HTTPConnection object at 0x7b3b4f406cb0>: Failed to establish a new connection: [Errno 111] Connection refused')': /session/345ba743eed36986e81119a7bf024fca\n"
          ]
        },
        {
          "name": "stdout",
          "output_type": "stream",
          "text": [
            "Techjockey\n",
            "jhattse Related Best Software Solution | Techjockey.com\n",
            "Jhattse Pricing & Reviews 2023 | Techjockey.com\n"
          ]
        },
        {
          "name": "stderr",
          "output_type": "stream",
          "text": [
            "WARNING:urllib3.connectionpool:Retrying (Retry(total=2, connect=None, read=None, redirect=None, status=None)) after connection broken by 'NewConnectionError('<urllib3.connection.HTTPConnection object at 0x7b3b4f4079a0>: Failed to establish a new connection: [Errno 111] Connection refused')': /session/990abec3a99980b70c10a9f71968f04c\n",
            "WARNING:urllib3.connectionpool:Retrying (Retry(total=1, connect=None, read=None, redirect=None, status=None)) after connection broken by 'NewConnectionError('<urllib3.connection.HTTPConnection object at 0x7b3b4f405630>: Failed to establish a new connection: [Errno 111] Connection refused')': /session/990abec3a99980b70c10a9f71968f04c\n",
            "WARNING:urllib3.connectionpool:Retrying (Retry(total=0, connect=None, read=None, redirect=None, status=None)) after connection broken by 'NewConnectionError('<urllib3.connection.HTTPConnection object at 0x7b3b4e77f490>: Failed to establish a new connection: [Errno 111] Connection refused')': /session/990abec3a99980b70c10a9f71968f04c\n"
          ]
        },
        {
          "name": "stdout",
          "output_type": "stream",
          "text": [
            "Techjockey\n",
            "jhattse Related Best Software Solution | Techjockey.com\n",
            "Jhattse Pricing & Reviews 2023 | Techjockey.com\n"
          ]
        },
        {
          "name": "stderr",
          "output_type": "stream",
          "text": [
            "WARNING:urllib3.connectionpool:Retrying (Retry(total=2, connect=None, read=None, redirect=None, status=None)) after connection broken by 'NewConnectionError('<urllib3.connection.HTTPConnection object at 0x7b3b4e77e9b0>: Failed to establish a new connection: [Errno 111] Connection refused')': /session/5b90dc09227817a26db0f163180ab34c\n",
            "WARNING:urllib3.connectionpool:Retrying (Retry(total=1, connect=None, read=None, redirect=None, status=None)) after connection broken by 'NewConnectionError('<urllib3.connection.HTTPConnection object at 0x7b3b4e77ea40>: Failed to establish a new connection: [Errno 111] Connection refused')': /session/5b90dc09227817a26db0f163180ab34c\n",
            "WARNING:urllib3.connectionpool:Retrying (Retry(total=0, connect=None, read=None, redirect=None, status=None)) after connection broken by 'NewConnectionError('<urllib3.connection.HTTPConnection object at 0x7b3b4e77fbe0>: Failed to establish a new connection: [Errno 111] Connection refused')': /session/5b90dc09227817a26db0f163180ab34c\n"
          ]
        },
        {
          "name": "stdout",
          "output_type": "stream",
          "text": [
            "Techjockey\n",
            "jhattse Related Best Software Solution | Techjockey.com\n",
            "Jhattse Pricing & Reviews 2023 | Techjockey.com\n"
          ]
        },
        {
          "name": "stderr",
          "output_type": "stream",
          "text": [
            "WARNING:urllib3.connectionpool:Retrying (Retry(total=2, connect=None, read=None, redirect=None, status=None)) after connection broken by 'NewConnectionError('<urllib3.connection.HTTPConnection object at 0x7b3b4e9c6e60>: Failed to establish a new connection: [Errno 111] Connection refused')': /session/870ac8db2392eaa19b0a0b26e7f87b78\n",
            "WARNING:urllib3.connectionpool:Retrying (Retry(total=1, connect=None, read=None, redirect=None, status=None)) after connection broken by 'NewConnectionError('<urllib3.connection.HTTPConnection object at 0x7b3b4e9c55a0>: Failed to establish a new connection: [Errno 111] Connection refused')': /session/870ac8db2392eaa19b0a0b26e7f87b78\n",
            "WARNING:urllib3.connectionpool:Retrying (Retry(total=0, connect=None, read=None, redirect=None, status=None)) after connection broken by 'NewConnectionError('<urllib3.connection.HTTPConnection object at 0x7b3b4e9c4d00>: Failed to establish a new connection: [Errno 111] Connection refused')': /session/870ac8db2392eaa19b0a0b26e7f87b78\n"
          ]
        },
        {
          "name": "stdout",
          "output_type": "stream",
          "text": [
            "Techjockey\n",
            "jhattse Related Best Software Solution | Techjockey.com\n",
            "Jhattse Pricing & Reviews 2023 | Techjockey.com\n"
          ]
        },
        {
          "name": "stderr",
          "output_type": "stream",
          "text": [
            "WARNING:urllib3.connectionpool:Retrying (Retry(total=2, connect=None, read=None, redirect=None, status=None)) after connection broken by 'NewConnectionError('<urllib3.connection.HTTPConnection object at 0x7b3b4f5a8340>: Failed to establish a new connection: [Errno 111] Connection refused')': /session/4138ab107f049daf61244cd2387f3e63\n",
            "WARNING:urllib3.connectionpool:Retrying (Retry(total=1, connect=None, read=None, redirect=None, status=None)) after connection broken by 'NewConnectionError('<urllib3.connection.HTTPConnection object at 0x7b3b4e7da920>: Failed to establish a new connection: [Errno 111] Connection refused')': /session/4138ab107f049daf61244cd2387f3e63\n",
            "WARNING:urllib3.connectionpool:Retrying (Retry(total=0, connect=None, read=None, redirect=None, status=None)) after connection broken by 'NewConnectionError('<urllib3.connection.HTTPConnection object at 0x7b3b4e9c72b0>: Failed to establish a new connection: [Errno 111] Connection refused')': /session/4138ab107f049daf61244cd2387f3e63\n"
          ]
        },
        {
          "name": "stdout",
          "output_type": "stream",
          "text": [
            "Techjockey\n",
            "jhattse Related Best Software Solution | Techjockey.com\n",
            "Jhattse Pricing & Reviews 2023 | Techjockey.com\n"
          ]
        },
        {
          "name": "stderr",
          "output_type": "stream",
          "text": [
            "WARNING:urllib3.connectionpool:Retrying (Retry(total=2, connect=None, read=None, redirect=None, status=None)) after connection broken by 'NewConnectionError('<urllib3.connection.HTTPConnection object at 0x7b3b4e77f700>: Failed to establish a new connection: [Errno 111] Connection refused')': /session/ff48f9f3daa2aaf20d9d821f3de94c48\n",
            "WARNING:urllib3.connectionpool:Retrying (Retry(total=1, connect=None, read=None, redirect=None, status=None)) after connection broken by 'NewConnectionError('<urllib3.connection.HTTPConnection object at 0x7b3b4e77c400>: Failed to establish a new connection: [Errno 111] Connection refused')': /session/ff48f9f3daa2aaf20d9d821f3de94c48\n",
            "WARNING:urllib3.connectionpool:Retrying (Retry(total=0, connect=None, read=None, redirect=None, status=None)) after connection broken by 'NewConnectionError('<urllib3.connection.HTTPConnection object at 0x7b3b4e77ea40>: Failed to establish a new connection: [Errno 111] Connection refused')': /session/ff48f9f3daa2aaf20d9d821f3de94c48\n"
          ]
        },
        {
          "name": "stdout",
          "output_type": "stream",
          "text": [
            "Techjockey\n",
            "jhattse Related Best Software Solution | Techjockey.com\n",
            "Jhattse Pricing & Reviews 2023 | Techjockey.com\n"
          ]
        },
        {
          "name": "stderr",
          "output_type": "stream",
          "text": [
            "WARNING:urllib3.connectionpool:Retrying (Retry(total=2, connect=None, read=None, redirect=None, status=None)) after connection broken by 'NewConnectionError('<urllib3.connection.HTTPConnection object at 0x7b3b4f404370>: Failed to establish a new connection: [Errno 111] Connection refused')': /session/c816b7e7228d9b0485174d6ea9a294e8\n",
            "WARNING:urllib3.connectionpool:Retrying (Retry(total=1, connect=None, read=None, redirect=None, status=None)) after connection broken by 'NewConnectionError('<urllib3.connection.HTTPConnection object at 0x7b3b4f4070a0>: Failed to establish a new connection: [Errno 111] Connection refused')': /session/c816b7e7228d9b0485174d6ea9a294e8\n",
            "WARNING:urllib3.connectionpool:Retrying (Retry(total=0, connect=None, read=None, redirect=None, status=None)) after connection broken by 'NewConnectionError('<urllib3.connection.HTTPConnection object at 0x7b3b4f406200>: Failed to establish a new connection: [Errno 111] Connection refused')': /session/c816b7e7228d9b0485174d6ea9a294e8\n"
          ]
        },
        {
          "name": "stdout",
          "output_type": "stream",
          "text": [
            "Techjockey\n",
            "jhattse Related Best Software Solution | Techjockey.com\n",
            "Jhattse Pricing & Reviews 2023 | Techjockey.com\n"
          ]
        },
        {
          "name": "stderr",
          "output_type": "stream",
          "text": [
            "WARNING:urllib3.connectionpool:Retrying (Retry(total=2, connect=None, read=None, redirect=None, status=None)) after connection broken by 'NewConnectionError('<urllib3.connection.HTTPConnection object at 0x7b3b4e7d9990>: Failed to establish a new connection: [Errno 111] Connection refused')': /session/19e687ef7bc156f5efd3b0a17b11da75\n",
            "WARNING:urllib3.connectionpool:Retrying (Retry(total=1, connect=None, read=None, redirect=None, status=None)) after connection broken by 'NewConnectionError('<urllib3.connection.HTTPConnection object at 0x7b3b4e7da9e0>: Failed to establish a new connection: [Errno 111] Connection refused')': /session/19e687ef7bc156f5efd3b0a17b11da75\n",
            "WARNING:urllib3.connectionpool:Retrying (Retry(total=0, connect=None, read=None, redirect=None, status=None)) after connection broken by 'NewConnectionError('<urllib3.connection.HTTPConnection object at 0x7b3b4e7d9810>: Failed to establish a new connection: [Errno 111] Connection refused')': /session/19e687ef7bc156f5efd3b0a17b11da75\n"
          ]
        },
        {
          "name": "stdout",
          "output_type": "stream",
          "text": [
            "Techjockey\n",
            "jhattse Related Best Software Solution | Techjockey.com\n",
            "Jhattse Pricing & Reviews 2023 | Techjockey.com\n"
          ]
        },
        {
          "name": "stderr",
          "output_type": "stream",
          "text": [
            "WARNING:urllib3.connectionpool:Retrying (Retry(total=2, connect=None, read=None, redirect=None, status=None)) after connection broken by 'NewConnectionError('<urllib3.connection.HTTPConnection object at 0x7b3b4e77e110>: Failed to establish a new connection: [Errno 111] Connection refused')': /session/f1cd459f1b46c0b4e7e628a976ddb17c\n",
            "WARNING:urllib3.connectionpool:Retrying (Retry(total=1, connect=None, read=None, redirect=None, status=None)) after connection broken by 'NewConnectionError('<urllib3.connection.HTTPConnection object at 0x7b3b4e77f910>: Failed to establish a new connection: [Errno 111] Connection refused')': /session/f1cd459f1b46c0b4e7e628a976ddb17c\n",
            "WARNING:urllib3.connectionpool:Retrying (Retry(total=0, connect=None, read=None, redirect=None, status=None)) after connection broken by 'NewConnectionError('<urllib3.connection.HTTPConnection object at 0x7b3b4e77f700>: Failed to establish a new connection: [Errno 111] Connection refused')': /session/f1cd459f1b46c0b4e7e628a976ddb17c\n"
          ]
        },
        {
          "name": "stdout",
          "output_type": "stream",
          "text": [
            "Techjockey\n",
            "jhattse Related Best Software Solution | Techjockey.com\n",
            "Jhattse Pricing & Reviews 2023 | Techjockey.com\n"
          ]
        },
        {
          "name": "stderr",
          "output_type": "stream",
          "text": [
            "WARNING:urllib3.connectionpool:Retrying (Retry(total=2, connect=None, read=None, redirect=None, status=None)) after connection broken by 'NewConnectionError('<urllib3.connection.HTTPConnection object at 0x7b3b4f4052d0>: Failed to establish a new connection: [Errno 111] Connection refused')': /session/04539cc908d7830a4757c0a782b8d557\n",
            "WARNING:urllib3.connectionpool:Retrying (Retry(total=1, connect=None, read=None, redirect=None, status=None)) after connection broken by 'NewConnectionError('<urllib3.connection.HTTPConnection object at 0x7b3b4f405de0>: Failed to establish a new connection: [Errno 111] Connection refused')': /session/04539cc908d7830a4757c0a782b8d557\n",
            "WARNING:urllib3.connectionpool:Retrying (Retry(total=0, connect=None, read=None, redirect=None, status=None)) after connection broken by 'NewConnectionError('<urllib3.connection.HTTPConnection object at 0x7b3b4f4070a0>: Failed to establish a new connection: [Errno 111] Connection refused')': /session/04539cc908d7830a4757c0a782b8d557\n"
          ]
        },
        {
          "name": "stdout",
          "output_type": "stream",
          "text": [
            "Techjockey\n",
            "jhattse Related Best Software Solution | Techjockey.com\n",
            "Jhattse Pricing & Reviews 2023 | Techjockey.com\n",
            "Techjockey\n"
          ]
        },
        {
          "name": "stderr",
          "output_type": "stream",
          "text": [
            "WARNING:urllib3.connectionpool:Retrying (Retry(total=2, connect=None, read=None, redirect=None, status=None)) after connection broken by 'NewConnectionError('<urllib3.connection.HTTPConnection object at 0x7b3b4e7da110>: Failed to establish a new connection: [Errno 111] Connection refused')': /session/c42866695e6f77385ba6eeac1b76a373\n",
            "WARNING:urllib3.connectionpool:Retrying (Retry(total=1, connect=None, read=None, redirect=None, status=None)) after connection broken by 'NewConnectionError('<urllib3.connection.HTTPConnection object at 0x7b3b4e7d8730>: Failed to establish a new connection: [Errno 111] Connection refused')': /session/c42866695e6f77385ba6eeac1b76a373\n",
            "WARNING:urllib3.connectionpool:Retrying (Retry(total=0, connect=None, read=None, redirect=None, status=None)) after connection broken by 'NewConnectionError('<urllib3.connection.HTTPConnection object at 0x7b3b4e7d8bb0>: Failed to establish a new connection: [Errno 111] Connection refused')': /session/c42866695e6f77385ba6eeac1b76a373\n"
          ]
        },
        {
          "name": "stdout",
          "output_type": "stream",
          "text": [
            "jhattse Related Best Software Solution | Techjockey.com\n",
            "Jhattse Pricing & Reviews 2023 | Techjockey.com\n"
          ]
        },
        {
          "name": "stderr",
          "output_type": "stream",
          "text": [
            "WARNING:urllib3.connectionpool:Retrying (Retry(total=2, connect=None, read=None, redirect=None, status=None)) after connection broken by 'NewConnectionError('<urllib3.connection.HTTPConnection object at 0x7b3b4f405540>: Failed to establish a new connection: [Errno 111] Connection refused')': /session/8d2fa9dd07c55eec39bfbba76c3c6aec\n",
            "WARNING:urllib3.connectionpool:Retrying (Retry(total=1, connect=None, read=None, redirect=None, status=None)) after connection broken by 'NewConnectionError('<urllib3.connection.HTTPConnection object at 0x7b3b4f4043a0>: Failed to establish a new connection: [Errno 111] Connection refused')': /session/8d2fa9dd07c55eec39bfbba76c3c6aec\n",
            "WARNING:urllib3.connectionpool:Retrying (Retry(total=0, connect=None, read=None, redirect=None, status=None)) after connection broken by 'NewConnectionError('<urllib3.connection.HTTPConnection object at 0x7b3b4f405660>: Failed to establish a new connection: [Errno 111] Connection refused')': /session/8d2fa9dd07c55eec39bfbba76c3c6aec\n"
          ]
        },
        {
          "name": "stdout",
          "output_type": "stream",
          "text": [
            "Techjockey\n",
            "jhattse Related Best Software Solution | Techjockey.com\n",
            "Jhattse Pricing & Reviews 2023 | Techjockey.com\n"
          ]
        },
        {
          "name": "stderr",
          "output_type": "stream",
          "text": [
            "WARNING:urllib3.connectionpool:Retrying (Retry(total=2, connect=None, read=None, redirect=None, status=None)) after connection broken by 'NewConnectionError('<urllib3.connection.HTTPConnection object at 0x7b3b4e77ffa0>: Failed to establish a new connection: [Errno 111] Connection refused')': /session/fcad6c60acf31a9112604c245f3b6447\n",
            "WARNING:urllib3.connectionpool:Retrying (Retry(total=1, connect=None, read=None, redirect=None, status=None)) after connection broken by 'NewConnectionError('<urllib3.connection.HTTPConnection object at 0x7b3b4e77f940>: Failed to establish a new connection: [Errno 111] Connection refused')': /session/fcad6c60acf31a9112604c245f3b6447\n",
            "WARNING:urllib3.connectionpool:Retrying (Retry(total=0, connect=None, read=None, redirect=None, status=None)) after connection broken by 'NewConnectionError('<urllib3.connection.HTTPConnection object at 0x7b3b4e77fdc0>: Failed to establish a new connection: [Errno 111] Connection refused')': /session/fcad6c60acf31a9112604c245f3b6447\n"
          ]
        },
        {
          "name": "stdout",
          "output_type": "stream",
          "text": [
            "Techjockey\n",
            "jhattse Related Best Software Solution | Techjockey.com\n",
            "Jhattse Pricing & Reviews 2023 | Techjockey.com\n"
          ]
        },
        {
          "name": "stderr",
          "output_type": "stream",
          "text": [
            "WARNING:urllib3.connectionpool:Retrying (Retry(total=2, connect=None, read=None, redirect=None, status=None)) after connection broken by 'NewConnectionError('<urllib3.connection.HTTPConnection object at 0x7b3b4e7d81c0>: Failed to establish a new connection: [Errno 111] Connection refused')': /session/c64523f33a2a43925e80deca05a0a672\n",
            "WARNING:urllib3.connectionpool:Retrying (Retry(total=1, connect=None, read=None, redirect=None, status=None)) after connection broken by 'NewConnectionError('<urllib3.connection.HTTPConnection object at 0x7b3b4e7da260>: Failed to establish a new connection: [Errno 111] Connection refused')': /session/c64523f33a2a43925e80deca05a0a672\n",
            "WARNING:urllib3.connectionpool:Retrying (Retry(total=0, connect=None, read=None, redirect=None, status=None)) after connection broken by 'NewConnectionError('<urllib3.connection.HTTPConnection object at 0x7b3b4e7da020>: Failed to establish a new connection: [Errno 111] Connection refused')': /session/c64523f33a2a43925e80deca05a0a672\n"
          ]
        },
        {
          "name": "stdout",
          "output_type": "stream",
          "text": [
            "Techjockey\n",
            "jhattse Related Best Software Solution | Techjockey.com\n",
            "Jhattse Pricing & Reviews 2023 | Techjockey.com\n"
          ]
        },
        {
          "name": "stderr",
          "output_type": "stream",
          "text": [
            "WARNING:urllib3.connectionpool:Retrying (Retry(total=2, connect=None, read=None, redirect=None, status=None)) after connection broken by 'NewConnectionError('<urllib3.connection.HTTPConnection object at 0x7b3b4e7db910>: Failed to establish a new connection: [Errno 111] Connection refused')': /session/4900dadd87240463d310c6ad3c37c73d\n",
            "WARNING:urllib3.connectionpool:Retrying (Retry(total=1, connect=None, read=None, redirect=None, status=None)) after connection broken by 'NewConnectionError('<urllib3.connection.HTTPConnection object at 0x7b3b4e77e1d0>: Failed to establish a new connection: [Errno 111] Connection refused')': /session/4900dadd87240463d310c6ad3c37c73d\n",
            "WARNING:urllib3.connectionpool:Retrying (Retry(total=0, connect=None, read=None, redirect=None, status=None)) after connection broken by 'NewConnectionError('<urllib3.connection.HTTPConnection object at 0x7b3b4e77f8b0>: Failed to establish a new connection: [Errno 111] Connection refused')': /session/4900dadd87240463d310c6ad3c37c73d\n"
          ]
        },
        {
          "name": "stdout",
          "output_type": "stream",
          "text": [
            "Techjockey\n",
            "jhattse Related Best Software Solution | Techjockey.com\n",
            "Jhattse Pricing & Reviews 2023 | Techjockey.com\n"
          ]
        },
        {
          "name": "stderr",
          "output_type": "stream",
          "text": [
            "WARNING:urllib3.connectionpool:Retrying (Retry(total=2, connect=None, read=None, redirect=None, status=None)) after connection broken by 'NewConnectionError('<urllib3.connection.HTTPConnection object at 0x7b3b4e77c400>: Failed to establish a new connection: [Errno 111] Connection refused')': /session/781ae428f65420a48c6d9b9f47da30c8\n",
            "WARNING:urllib3.connectionpool:Retrying (Retry(total=1, connect=None, read=None, redirect=None, status=None)) after connection broken by 'NewConnectionError('<urllib3.connection.HTTPConnection object at 0x7b3b4e77e110>: Failed to establish a new connection: [Errno 111] Connection refused')': /session/781ae428f65420a48c6d9b9f47da30c8\n",
            "WARNING:urllib3.connectionpool:Retrying (Retry(total=0, connect=None, read=None, redirect=None, status=None)) after connection broken by 'NewConnectionError('<urllib3.connection.HTTPConnection object at 0x7b3b4e9c71c0>: Failed to establish a new connection: [Errno 111] Connection refused')': /session/781ae428f65420a48c6d9b9f47da30c8\n"
          ]
        },
        {
          "name": "stdout",
          "output_type": "stream",
          "text": [
            "Techjockey\n",
            "jhattse Related Best Software Solution | Techjockey.com\n",
            "Jhattse Pricing & Reviews 2023 | Techjockey.com\n"
          ]
        },
        {
          "name": "stderr",
          "output_type": "stream",
          "text": [
            "WARNING:urllib3.connectionpool:Retrying (Retry(total=2, connect=None, read=None, redirect=None, status=None)) after connection broken by 'NewConnectionError('<urllib3.connection.HTTPConnection object at 0x7b3b4f405960>: Failed to establish a new connection: [Errno 111] Connection refused')': /session/5aa2d0831afbe17bc057f4e215fe1736\n",
            "WARNING:urllib3.connectionpool:Retrying (Retry(total=1, connect=None, read=None, redirect=None, status=None)) after connection broken by 'NewConnectionError('<urllib3.connection.HTTPConnection object at 0x7b3b4f406980>: Failed to establish a new connection: [Errno 111] Connection refused')': /session/5aa2d0831afbe17bc057f4e215fe1736\n",
            "WARNING:urllib3.connectionpool:Retrying (Retry(total=0, connect=None, read=None, redirect=None, status=None)) after connection broken by 'NewConnectionError('<urllib3.connection.HTTPConnection object at 0x7b3b4e7da8f0>: Failed to establish a new connection: [Errno 111] Connection refused')': /session/5aa2d0831afbe17bc057f4e215fe1736\n"
          ]
        },
        {
          "name": "stdout",
          "output_type": "stream",
          "text": [
            "Techjockey\n",
            "jhattse Related Best Software Solution | Techjockey.com\n",
            "Jhattse Pricing & Reviews 2023 | Techjockey.com\n"
          ]
        },
        {
          "name": "stderr",
          "output_type": "stream",
          "text": [
            "WARNING:urllib3.connectionpool:Retrying (Retry(total=2, connect=None, read=None, redirect=None, status=None)) after connection broken by 'NewConnectionError('<urllib3.connection.HTTPConnection object at 0x7b3b4e7daaa0>: Failed to establish a new connection: [Errno 111] Connection refused')': /session/83781a73587c3eb3f4537eb2efe9e62e\n",
            "WARNING:urllib3.connectionpool:Retrying (Retry(total=1, connect=None, read=None, redirect=None, status=None)) after connection broken by 'NewConnectionError('<urllib3.connection.HTTPConnection object at 0x7b3b4e7d9390>: Failed to establish a new connection: [Errno 111] Connection refused')': /session/83781a73587c3eb3f4537eb2efe9e62e\n",
            "WARNING:urllib3.connectionpool:Retrying (Retry(total=0, connect=None, read=None, redirect=None, status=None)) after connection broken by 'NewConnectionError('<urllib3.connection.HTTPConnection object at 0x7b3b4e7dbdf0>: Failed to establish a new connection: [Errno 111] Connection refused')': /session/83781a73587c3eb3f4537eb2efe9e62e\n"
          ]
        },
        {
          "name": "stdout",
          "output_type": "stream",
          "text": [
            "Techjockey\n",
            "jhattse Related Best Software Solution | Techjockey.com\n",
            "Jhattse Pricing & Reviews 2023 | Techjockey.com\n"
          ]
        },
        {
          "name": "stderr",
          "output_type": "stream",
          "text": [
            "WARNING:urllib3.connectionpool:Retrying (Retry(total=2, connect=None, read=None, redirect=None, status=None)) after connection broken by 'NewConnectionError('<urllib3.connection.HTTPConnection object at 0x7b3b4e77ed10>: Failed to establish a new connection: [Errno 111] Connection refused')': /session/b761bfa5a41b39033a4dc5c7ef8d0961\n",
            "WARNING:urllib3.connectionpool:Retrying (Retry(total=1, connect=None, read=None, redirect=None, status=None)) after connection broken by 'NewConnectionError('<urllib3.connection.HTTPConnection object at 0x7b3b4e77f940>: Failed to establish a new connection: [Errno 111] Connection refused')': /session/b761bfa5a41b39033a4dc5c7ef8d0961\n",
            "WARNING:urllib3.connectionpool:Retrying (Retry(total=0, connect=None, read=None, redirect=None, status=None)) after connection broken by 'NewConnectionError('<urllib3.connection.HTTPConnection object at 0x7b3b4e77ebc0>: Failed to establish a new connection: [Errno 111] Connection refused')': /session/b761bfa5a41b39033a4dc5c7ef8d0961\n"
          ]
        },
        {
          "name": "stdout",
          "output_type": "stream",
          "text": [
            "Techjockey\n",
            "jhattse Related Best Software Solution | Techjockey.com\n",
            "Jhattse Pricing & Reviews 2023 | Techjockey.com\n"
          ]
        },
        {
          "name": "stderr",
          "output_type": "stream",
          "text": [
            "WARNING:urllib3.connectionpool:Retrying (Retry(total=2, connect=None, read=None, redirect=None, status=None)) after connection broken by 'NewConnectionError('<urllib3.connection.HTTPConnection object at 0x7b3b4f405870>: Failed to establish a new connection: [Errno 111] Connection refused')': /session/744ac3676f617af6d010a35682dfd848\n",
            "WARNING:urllib3.connectionpool:Retrying (Retry(total=1, connect=None, read=None, redirect=None, status=None)) after connection broken by 'NewConnectionError('<urllib3.connection.HTTPConnection object at 0x7b3b4f405ba0>: Failed to establish a new connection: [Errno 111] Connection refused')': /session/744ac3676f617af6d010a35682dfd848\n",
            "WARNING:urllib3.connectionpool:Retrying (Retry(total=0, connect=None, read=None, redirect=None, status=None)) after connection broken by 'NewConnectionError('<urllib3.connection.HTTPConnection object at 0x7b3b4f407d00>: Failed to establish a new connection: [Errno 111] Connection refused')': /session/744ac3676f617af6d010a35682dfd848\n"
          ]
        },
        {
          "name": "stdout",
          "output_type": "stream",
          "text": [
            "Techjockey\n",
            "jhattse Related Best Software Solution | Techjockey.com\n",
            "Jhattse Pricing & Reviews 2023 | Techjockey.com\n"
          ]
        },
        {
          "name": "stderr",
          "output_type": "stream",
          "text": [
            "WARNING:urllib3.connectionpool:Retrying (Retry(total=2, connect=None, read=None, redirect=None, status=None)) after connection broken by 'NewConnectionError('<urllib3.connection.HTTPConnection object at 0x7b3b4e7da6b0>: Failed to establish a new connection: [Errno 111] Connection refused')': /session/1a9e567cf7a928e449d14861b1b4f4fb\n",
            "WARNING:urllib3.connectionpool:Retrying (Retry(total=1, connect=None, read=None, redirect=None, status=None)) after connection broken by 'NewConnectionError('<urllib3.connection.HTTPConnection object at 0x7b3b4e7dad70>: Failed to establish a new connection: [Errno 111] Connection refused')': /session/1a9e567cf7a928e449d14861b1b4f4fb\n",
            "WARNING:urllib3.connectionpool:Retrying (Retry(total=0, connect=None, read=None, redirect=None, status=None)) after connection broken by 'NewConnectionError('<urllib3.connection.HTTPConnection object at 0x7b3b4e7da980>: Failed to establish a new connection: [Errno 111] Connection refused')': /session/1a9e567cf7a928e449d14861b1b4f4fb\n"
          ]
        },
        {
          "name": "stdout",
          "output_type": "stream",
          "text": [
            "Techjockey\n",
            "jhattse Related Best Software Solution | Techjockey.com\n",
            "Jhattse Pricing & Reviews 2023 | Techjockey.com\n"
          ]
        },
        {
          "name": "stderr",
          "output_type": "stream",
          "text": [
            "WARNING:urllib3.connectionpool:Retrying (Retry(total=2, connect=None, read=None, redirect=None, status=None)) after connection broken by 'NewConnectionError('<urllib3.connection.HTTPConnection object at 0x7b3b4f405660>: Failed to establish a new connection: [Errno 111] Connection refused')': /session/2c97f57796e6d69b9012c53663762742\n",
            "WARNING:urllib3.connectionpool:Retrying (Retry(total=1, connect=None, read=None, redirect=None, status=None)) after connection broken by 'NewConnectionError('<urllib3.connection.HTTPConnection object at 0x7b3b4e77fca0>: Failed to establish a new connection: [Errno 111] Connection refused')': /session/2c97f57796e6d69b9012c53663762742\n",
            "WARNING:urllib3.connectionpool:Retrying (Retry(total=0, connect=None, read=None, redirect=None, status=None)) after connection broken by 'NewConnectionError('<urllib3.connection.HTTPConnection object at 0x7b3b4e77f670>: Failed to establish a new connection: [Errno 111] Connection refused')': /session/2c97f57796e6d69b9012c53663762742\n"
          ]
        },
        {
          "name": "stdout",
          "output_type": "stream",
          "text": [
            "Techjockey\n",
            "jhattse Related Best Software Solution | Techjockey.com\n",
            "Jhattse Pricing & Reviews 2023 | Techjockey.com\n"
          ]
        },
        {
          "name": "stderr",
          "output_type": "stream",
          "text": [
            "WARNING:urllib3.connectionpool:Retrying (Retry(total=2, connect=None, read=None, redirect=None, status=None)) after connection broken by 'NewConnectionError('<urllib3.connection.HTTPConnection object at 0x7b3b4e77f9d0>: Failed to establish a new connection: [Errno 111] Connection refused')': /session/bd63d31838bae546ef3c0e128a109110\n",
            "WARNING:urllib3.connectionpool:Retrying (Retry(total=1, connect=None, read=None, redirect=None, status=None)) after connection broken by 'NewConnectionError('<urllib3.connection.HTTPConnection object at 0x7b3b4e9c47c0>: Failed to establish a new connection: [Errno 111] Connection refused')': /session/bd63d31838bae546ef3c0e128a109110\n",
            "WARNING:urllib3.connectionpool:Retrying (Retry(total=0, connect=None, read=None, redirect=None, status=None)) after connection broken by 'NewConnectionError('<urllib3.connection.HTTPConnection object at 0x7b3b4e9c4100>: Failed to establish a new connection: [Errno 111] Connection refused')': /session/bd63d31838bae546ef3c0e128a109110\n"
          ]
        },
        {
          "name": "stdout",
          "output_type": "stream",
          "text": [
            "Techjockey\n",
            "jhattse Related Best Software Solution | Techjockey.com\n",
            "Jhattse Pricing & Reviews 2023 | Techjockey.com\n"
          ]
        },
        {
          "name": "stderr",
          "output_type": "stream",
          "text": [
            "WARNING:urllib3.connectionpool:Retrying (Retry(total=2, connect=None, read=None, redirect=None, status=None)) after connection broken by 'NewConnectionError('<urllib3.connection.HTTPConnection object at 0x7b3b4e7d9330>: Failed to establish a new connection: [Errno 111] Connection refused')': /session/5b39b0090c6806c9477f3f9ac0f9f7ba\n",
            "WARNING:urllib3.connectionpool:Retrying (Retry(total=1, connect=None, read=None, redirect=None, status=None)) after connection broken by 'NewConnectionError('<urllib3.connection.HTTPConnection object at 0x7b3b4e7dac50>: Failed to establish a new connection: [Errno 111] Connection refused')': /session/5b39b0090c6806c9477f3f9ac0f9f7ba\n",
            "WARNING:urllib3.connectionpool:Retrying (Retry(total=0, connect=None, read=None, redirect=None, status=None)) after connection broken by 'NewConnectionError('<urllib3.connection.HTTPConnection object at 0x7b3b4e7d9480>: Failed to establish a new connection: [Errno 111] Connection refused')': /session/5b39b0090c6806c9477f3f9ac0f9f7ba\n"
          ]
        },
        {
          "name": "stdout",
          "output_type": "stream",
          "text": [
            "Techjockey\n",
            "jhattse Related Best Software Solution | Techjockey.com\n",
            "Jhattse Pricing & Reviews 2023 | Techjockey.com\n"
          ]
        },
        {
          "name": "stderr",
          "output_type": "stream",
          "text": [
            "WARNING:urllib3.connectionpool:Retrying (Retry(total=2, connect=None, read=None, redirect=None, status=None)) after connection broken by 'NewConnectionError('<urllib3.connection.HTTPConnection object at 0x7b3b4e9c6e60>: Failed to establish a new connection: [Errno 111] Connection refused')': /session/4164d2d472cba49839f6571014e05d73\n",
            "WARNING:urllib3.connectionpool:Retrying (Retry(total=1, connect=None, read=None, redirect=None, status=None)) after connection broken by 'NewConnectionError('<urllib3.connection.HTTPConnection object at 0x7b3b4e9c6ce0>: Failed to establish a new connection: [Errno 111] Connection refused')': /session/4164d2d472cba49839f6571014e05d73\n",
            "WARNING:urllib3.connectionpool:Retrying (Retry(total=0, connect=None, read=None, redirect=None, status=None)) after connection broken by 'NewConnectionError('<urllib3.connection.HTTPConnection object at 0x7b3b4e77e050>: Failed to establish a new connection: [Errno 111] Connection refused')': /session/4164d2d472cba49839f6571014e05d73\n"
          ]
        },
        {
          "name": "stdout",
          "output_type": "stream",
          "text": [
            "Techjockey\n",
            "jhattse Related Best Software Solution | Techjockey.com\n",
            "Jhattse Pricing & Reviews 2023 | Techjockey.com\n"
          ]
        },
        {
          "name": "stderr",
          "output_type": "stream",
          "text": [
            "WARNING:urllib3.connectionpool:Retrying (Retry(total=2, connect=None, read=None, redirect=None, status=None)) after connection broken by 'NewConnectionError('<urllib3.connection.HTTPConnection object at 0x7b3b4e77fa60>: Failed to establish a new connection: [Errno 111] Connection refused')': /session/80cb448e1c6b9e6d56717cc575b31ef4\n",
            "WARNING:urllib3.connectionpool:Retrying (Retry(total=1, connect=None, read=None, redirect=None, status=None)) after connection broken by 'NewConnectionError('<urllib3.connection.HTTPConnection object at 0x7b3b4e77f910>: Failed to establish a new connection: [Errno 111] Connection refused')': /session/80cb448e1c6b9e6d56717cc575b31ef4\n",
            "WARNING:urllib3.connectionpool:Retrying (Retry(total=0, connect=None, read=None, redirect=None, status=None)) after connection broken by 'NewConnectionError('<urllib3.connection.HTTPConnection object at 0x7b3b4f4078e0>: Failed to establish a new connection: [Errno 111] Connection refused')': /session/80cb448e1c6b9e6d56717cc575b31ef4\n"
          ]
        },
        {
          "name": "stdout",
          "output_type": "stream",
          "text": [
            "Techjockey\n",
            "jhattse Related Best Software Solution | Techjockey.com\n",
            "Jhattse Pricing & Reviews 2023 | Techjockey.com\n"
          ]
        },
        {
          "name": "stderr",
          "output_type": "stream",
          "text": [
            "WARNING:urllib3.connectionpool:Retrying (Retry(total=2, connect=None, read=None, redirect=None, status=None)) after connection broken by 'NewConnectionError('<urllib3.connection.HTTPConnection object at 0x7b3b4e7d8970>: Failed to establish a new connection: [Errno 111] Connection refused')': /session/afc29618320ce01d3f2a4baf075b6727\n",
            "WARNING:urllib3.connectionpool:Retrying (Retry(total=1, connect=None, read=None, redirect=None, status=None)) after connection broken by 'NewConnectionError('<urllib3.connection.HTTPConnection object at 0x7b3b4e7da380>: Failed to establish a new connection: [Errno 111] Connection refused')': /session/afc29618320ce01d3f2a4baf075b6727\n",
            "WARNING:urllib3.connectionpool:Retrying (Retry(total=0, connect=None, read=None, redirect=None, status=None)) after connection broken by 'NewConnectionError('<urllib3.connection.HTTPConnection object at 0x7b3b4e7d9120>: Failed to establish a new connection: [Errno 111] Connection refused')': /session/afc29618320ce01d3f2a4baf075b6727\n"
          ]
        },
        {
          "name": "stdout",
          "output_type": "stream",
          "text": [
            "Techjockey\n",
            "jhattse Related Best Software Solution | Techjockey.com\n",
            "Jhattse Pricing & Reviews 2023 | Techjockey.com\n"
          ]
        },
        {
          "name": "stderr",
          "output_type": "stream",
          "text": [
            "WARNING:urllib3.connectionpool:Retrying (Retry(total=2, connect=None, read=None, redirect=None, status=None)) after connection broken by 'NewConnectionError('<urllib3.connection.HTTPConnection object at 0x7b3b4e7d96f0>: Failed to establish a new connection: [Errno 111] Connection refused')': /session/aa551ccfd68bc787124f1492cbe03f63\n",
            "WARNING:urllib3.connectionpool:Retrying (Retry(total=1, connect=None, read=None, redirect=None, status=None)) after connection broken by 'NewConnectionError('<urllib3.connection.HTTPConnection object at 0x7b3b4f405ba0>: Failed to establish a new connection: [Errno 111] Connection refused')': /session/aa551ccfd68bc787124f1492cbe03f63\n",
            "WARNING:urllib3.connectionpool:Retrying (Retry(total=0, connect=None, read=None, redirect=None, status=None)) after connection broken by 'NewConnectionError('<urllib3.connection.HTTPConnection object at 0x7b3b4f4063e0>: Failed to establish a new connection: [Errno 111] Connection refused')': /session/aa551ccfd68bc787124f1492cbe03f63\n"
          ]
        },
        {
          "name": "stdout",
          "output_type": "stream",
          "text": [
            "Techjockey\n",
            "jhattse Related Best Software Solution | Techjockey.com\n",
            "Jhattse Pricing & Reviews 2023 | Techjockey.com\n"
          ]
        },
        {
          "name": "stderr",
          "output_type": "stream",
          "text": [
            "WARNING:urllib3.connectionpool:Retrying (Retry(total=2, connect=None, read=None, redirect=None, status=None)) after connection broken by 'NewConnectionError('<urllib3.connection.HTTPConnection object at 0x7b3b4e9c4640>: Failed to establish a new connection: [Errno 111] Connection refused')': /session/f2a7bf50a2e4ef21255e2080f06d61c2\n",
            "WARNING:urllib3.connectionpool:Retrying (Retry(total=1, connect=None, read=None, redirect=None, status=None)) after connection broken by 'NewConnectionError('<urllib3.connection.HTTPConnection object at 0x7b3b4e9c5840>: Failed to establish a new connection: [Errno 111] Connection refused')': /session/f2a7bf50a2e4ef21255e2080f06d61c2\n",
            "WARNING:urllib3.connectionpool:Retrying (Retry(total=0, connect=None, read=None, redirect=None, status=None)) after connection broken by 'NewConnectionError('<urllib3.connection.HTTPConnection object at 0x7b3b4e77e1d0>: Failed to establish a new connection: [Errno 111] Connection refused')': /session/f2a7bf50a2e4ef21255e2080f06d61c2\n"
          ]
        },
        {
          "name": "stdout",
          "output_type": "stream",
          "text": [
            "Techjockey\n",
            "jhattse Related Best Software Solution | Techjockey.com\n",
            "Jhattse Pricing & Reviews 2023 | Techjockey.com\n"
          ]
        },
        {
          "name": "stderr",
          "output_type": "stream",
          "text": [
            "WARNING:urllib3.connectionpool:Retrying (Retry(total=2, connect=None, read=None, redirect=None, status=None)) after connection broken by 'NewConnectionError('<urllib3.connection.HTTPConnection object at 0x7b3b4e77fca0>: Failed to establish a new connection: [Errno 111] Connection refused')': /session/0c66dc06fa045315a5191cfa64d7e857\n",
            "WARNING:urllib3.connectionpool:Retrying (Retry(total=1, connect=None, read=None, redirect=None, status=None)) after connection broken by 'NewConnectionError('<urllib3.connection.HTTPConnection object at 0x7b3b4e77f8b0>: Failed to establish a new connection: [Errno 111] Connection refused')': /session/0c66dc06fa045315a5191cfa64d7e857\n",
            "WARNING:urllib3.connectionpool:Retrying (Retry(total=0, connect=None, read=None, redirect=None, status=None)) after connection broken by 'NewConnectionError('<urllib3.connection.HTTPConnection object at 0x7b3b4e7dbcd0>: Failed to establish a new connection: [Errno 111] Connection refused')': /session/0c66dc06fa045315a5191cfa64d7e857\n"
          ]
        },
        {
          "name": "stdout",
          "output_type": "stream",
          "text": [
            "Techjockey\n",
            "jhattse Related Best Software Solution | Techjockey.com\n",
            "Jhattse Pricing & Reviews 2023 | Techjockey.com\n"
          ]
        },
        {
          "name": "stderr",
          "output_type": "stream",
          "text": [
            "WARNING:urllib3.connectionpool:Retrying (Retry(total=2, connect=None, read=None, redirect=None, status=None)) after connection broken by 'NewConnectionError('<urllib3.connection.HTTPConnection object at 0x7b3b4e7db4c0>: Failed to establish a new connection: [Errno 111] Connection refused')': /session/fcd616b50568efb6c2c053c30f644602\n",
            "WARNING:urllib3.connectionpool:Retrying (Retry(total=1, connect=None, read=None, redirect=None, status=None)) after connection broken by 'NewConnectionError('<urllib3.connection.HTTPConnection object at 0x7b3b4e7dac50>: Failed to establish a new connection: [Errno 111] Connection refused')': /session/fcd616b50568efb6c2c053c30f644602\n",
            "WARNING:urllib3.connectionpool:Retrying (Retry(total=0, connect=None, read=None, redirect=None, status=None)) after connection broken by 'NewConnectionError('<urllib3.connection.HTTPConnection object at 0x7b3b4e7d9240>: Failed to establish a new connection: [Errno 111] Connection refused')': /session/fcd616b50568efb6c2c053c30f644602\n"
          ]
        },
        {
          "name": "stdout",
          "output_type": "stream",
          "text": [
            "Techjockey\n",
            "jhattse Related Best Software Solution | Techjockey.com\n",
            "Jhattse Pricing & Reviews 2023 | Techjockey.com\n"
          ]
        },
        {
          "name": "stderr",
          "output_type": "stream",
          "text": [
            "WARNING:urllib3.connectionpool:Retrying (Retry(total=2, connect=None, read=None, redirect=None, status=None)) after connection broken by 'NewConnectionError('<urllib3.connection.HTTPConnection object at 0x7b3b4e77ea40>: Failed to establish a new connection: [Errno 111] Connection refused')': /session/ed8313228e2defb45dda8c0ba284f1b3\n",
            "WARNING:urllib3.connectionpool:Retrying (Retry(total=1, connect=None, read=None, redirect=None, status=None)) after connection broken by 'NewConnectionError('<urllib3.connection.HTTPConnection object at 0x7b3b4e77f700>: Failed to establish a new connection: [Errno 111] Connection refused')': /session/ed8313228e2defb45dda8c0ba284f1b3\n",
            "WARNING:urllib3.connectionpool:Retrying (Retry(total=0, connect=None, read=None, redirect=None, status=None)) after connection broken by 'NewConnectionError('<urllib3.connection.HTTPConnection object at 0x7b3b4e77fdc0>: Failed to establish a new connection: [Errno 111] Connection refused')': /session/ed8313228e2defb45dda8c0ba284f1b3\n"
          ]
        },
        {
          "name": "stdout",
          "output_type": "stream",
          "text": [
            "Techjockey\n",
            "jhattse Related Best Software Solution | Techjockey.com\n",
            "Jhattse Pricing & Reviews 2023 | Techjockey.com\n"
          ]
        },
        {
          "name": "stderr",
          "output_type": "stream",
          "text": [
            "WARNING:urllib3.connectionpool:Retrying (Retry(total=2, connect=None, read=None, redirect=None, status=None)) after connection broken by 'NewConnectionError('<urllib3.connection.HTTPConnection object at 0x7b3b4e9c4640>: Failed to establish a new connection: [Errno 111] Connection refused')': /session/97468cf904f2b5f058610a2c68e9612b\n",
            "WARNING:urllib3.connectionpool:Retrying (Retry(total=1, connect=None, read=None, redirect=None, status=None)) after connection broken by 'NewConnectionError('<urllib3.connection.HTTPConnection object at 0x7b3b4e77dff0>: Failed to establish a new connection: [Errno 111] Connection refused')': /session/97468cf904f2b5f058610a2c68e9612b\n",
            "WARNING:urllib3.connectionpool:Retrying (Retry(total=0, connect=None, read=None, redirect=None, status=None)) after connection broken by 'NewConnectionError('<urllib3.connection.HTTPConnection object at 0x7b3b732392d0>: Failed to establish a new connection: [Errno 111] Connection refused')': /session/97468cf904f2b5f058610a2c68e9612b\n"
          ]
        },
        {
          "name": "stdout",
          "output_type": "stream",
          "text": [
            "Techjockey\n",
            "jhattse Related Best Software Solution | Techjockey.com\n",
            "Jhattse Pricing & Reviews 2023 | Techjockey.com\n"
          ]
        },
        {
          "name": "stderr",
          "output_type": "stream",
          "text": [
            "WARNING:urllib3.connectionpool:Retrying (Retry(total=2, connect=None, read=None, redirect=None, status=None)) after connection broken by 'NewConnectionError('<urllib3.connection.HTTPConnection object at 0x7b3b4e5d8430>: Failed to establish a new connection: [Errno 111] Connection refused')': /session/0e285281bc0de87bd0b8efebb36ddf87\n",
            "WARNING:urllib3.connectionpool:Retrying (Retry(total=1, connect=None, read=None, redirect=None, status=None)) after connection broken by 'NewConnectionError('<urllib3.connection.HTTPConnection object at 0x7b3b4e5d83a0>: Failed to establish a new connection: [Errno 111] Connection refused')': /session/0e285281bc0de87bd0b8efebb36ddf87\n",
            "WARNING:urllib3.connectionpool:Retrying (Retry(total=0, connect=None, read=None, redirect=None, status=None)) after connection broken by 'NewConnectionError('<urllib3.connection.HTTPConnection object at 0x7b3b4e5d84c0>: Failed to establish a new connection: [Errno 111] Connection refused')': /session/0e285281bc0de87bd0b8efebb36ddf87\n"
          ]
        },
        {
          "name": "stdout",
          "output_type": "stream",
          "text": [
            "Techjockey\n",
            "jhattse Related Best Software Solution | Techjockey.com\n",
            "Jhattse Pricing & Reviews 2023 | Techjockey.com\n"
          ]
        },
        {
          "name": "stderr",
          "output_type": "stream",
          "text": [
            "WARNING:urllib3.connectionpool:Retrying (Retry(total=2, connect=None, read=None, redirect=None, status=None)) after connection broken by 'NewConnectionError('<urllib3.connection.HTTPConnection object at 0x7b3b4f406980>: Failed to establish a new connection: [Errno 111] Connection refused')': /session/f565ee72f5a5ce313bb865fee85cefc5\n",
            "WARNING:urllib3.connectionpool:Retrying (Retry(total=1, connect=None, read=None, redirect=None, status=None)) after connection broken by 'NewConnectionError('<urllib3.connection.HTTPConnection object at 0x7b3b4f405810>: Failed to establish a new connection: [Errno 111] Connection refused')': /session/f565ee72f5a5ce313bb865fee85cefc5\n",
            "WARNING:urllib3.connectionpool:Retrying (Retry(total=0, connect=None, read=None, redirect=None, status=None)) after connection broken by 'NewConnectionError('<urllib3.connection.HTTPConnection object at 0x7b3b4f4063e0>: Failed to establish a new connection: [Errno 111] Connection refused')': /session/f565ee72f5a5ce313bb865fee85cefc5\n"
          ]
        },
        {
          "name": "stdout",
          "output_type": "stream",
          "text": [
            "Techjockey\n",
            "jhattse Related Best Software Solution | Techjockey.com\n",
            "Jhattse Pricing & Reviews 2023 | Techjockey.com\n"
          ]
        },
        {
          "name": "stderr",
          "output_type": "stream",
          "text": [
            "WARNING:urllib3.connectionpool:Retrying (Retry(total=2, connect=None, read=None, redirect=None, status=None)) after connection broken by 'NewConnectionError('<urllib3.connection.HTTPConnection object at 0x7b3b4e77fdf0>: Failed to establish a new connection: [Errno 111] Connection refused')': /session/9a1abf2a28fde8fee1a020194b6ed365\n",
            "WARNING:urllib3.connectionpool:Retrying (Retry(total=1, connect=None, read=None, redirect=None, status=None)) after connection broken by 'NewConnectionError('<urllib3.connection.HTTPConnection object at 0x7b3b4e77f940>: Failed to establish a new connection: [Errno 111] Connection refused')': /session/9a1abf2a28fde8fee1a020194b6ed365\n",
            "WARNING:urllib3.connectionpool:Retrying (Retry(total=0, connect=None, read=None, redirect=None, status=None)) after connection broken by 'NewConnectionError('<urllib3.connection.HTTPConnection object at 0x7b3b4e77ece0>: Failed to establish a new connection: [Errno 111] Connection refused')': /session/9a1abf2a28fde8fee1a020194b6ed365\n"
          ]
        },
        {
          "name": "stdout",
          "output_type": "stream",
          "text": [
            "Techjockey\n",
            "jhattse Related Best Software Solution | Techjockey.com\n",
            "Jhattse Pricing & Reviews 2023 | Techjockey.com\n"
          ]
        },
        {
          "name": "stderr",
          "output_type": "stream",
          "text": [
            "WARNING:urllib3.connectionpool:Retrying (Retry(total=2, connect=None, read=None, redirect=None, status=None)) after connection broken by 'NewConnectionError('<urllib3.connection.HTTPConnection object at 0x7b3b4e77f490>: Failed to establish a new connection: [Errno 111] Connection refused')': /session/1dced6d0ef4a5a291d043cf2a813238d\n",
            "WARNING:urllib3.connectionpool:Retrying (Retry(total=1, connect=None, read=None, redirect=None, status=None)) after connection broken by 'NewConnectionError('<urllib3.connection.HTTPConnection object at 0x7b3b4e5d8520>: Failed to establish a new connection: [Errno 111] Connection refused')': /session/1dced6d0ef4a5a291d043cf2a813238d\n",
            "WARNING:urllib3.connectionpool:Retrying (Retry(total=0, connect=None, read=None, redirect=None, status=None)) after connection broken by 'NewConnectionError('<urllib3.connection.HTTPConnection object at 0x7b3b4e5d8340>: Failed to establish a new connection: [Errno 111] Connection refused')': /session/1dced6d0ef4a5a291d043cf2a813238d\n"
          ]
        },
        {
          "name": "stdout",
          "output_type": "stream",
          "text": [
            "Techjockey\n",
            "jhattse Related Best Software Solution | Techjockey.com\n",
            "Jhattse Pricing & Reviews 2023 | Techjockey.com\n"
          ]
        },
        {
          "name": "stderr",
          "output_type": "stream",
          "text": [
            "WARNING:urllib3.connectionpool:Retrying (Retry(total=2, connect=None, read=None, redirect=None, status=None)) after connection broken by 'NewConnectionError('<urllib3.connection.HTTPConnection object at 0x7b3b4e5d8fd0>: Failed to establish a new connection: [Errno 111] Connection refused')': /session/e991f42c1a6ffa6f8e8c5959e216c080\n",
            "WARNING:urllib3.connectionpool:Retrying (Retry(total=1, connect=None, read=None, redirect=None, status=None)) after connection broken by 'NewConnectionError('<urllib3.connection.HTTPConnection object at 0x7b3b732392d0>: Failed to establish a new connection: [Errno 111] Connection refused')': /session/e991f42c1a6ffa6f8e8c5959e216c080\n",
            "WARNING:urllib3.connectionpool:Retrying (Retry(total=0, connect=None, read=None, redirect=None, status=None)) after connection broken by 'NewConnectionError('<urllib3.connection.HTTPConnection object at 0x7b3b4e7dab90>: Failed to establish a new connection: [Errno 111] Connection refused')': /session/e991f42c1a6ffa6f8e8c5959e216c080\n"
          ]
        },
        {
          "name": "stdout",
          "output_type": "stream",
          "text": [
            "Techjockey\n",
            "jhattse Related Best Software Solution | Techjockey.com\n",
            "Jhattse Pricing & Reviews 2023 | Techjockey.com\n",
            "Techjockey\n"
          ]
        },
        {
          "name": "stderr",
          "output_type": "stream",
          "text": [
            "WARNING:urllib3.connectionpool:Retrying (Retry(total=2, connect=None, read=None, redirect=None, status=None)) after connection broken by 'NewConnectionError('<urllib3.connection.HTTPConnection object at 0x7b3b4e7da620>: Failed to establish a new connection: [Errno 111] Connection refused')': /session/0afdc88c422827dc58f048b4ee0491c7\n",
            "WARNING:urllib3.connectionpool:Retrying (Retry(total=1, connect=None, read=None, redirect=None, status=None)) after connection broken by 'NewConnectionError('<urllib3.connection.HTTPConnection object at 0x7b3b4e7d8a30>: Failed to establish a new connection: [Errno 111] Connection refused')': /session/0afdc88c422827dc58f048b4ee0491c7\n",
            "WARNING:urllib3.connectionpool:Retrying (Retry(total=0, connect=None, read=None, redirect=None, status=None)) after connection broken by 'NewConnectionError('<urllib3.connection.HTTPConnection object at 0x7b3b4e7da7d0>: Failed to establish a new connection: [Errno 111] Connection refused')': /session/0afdc88c422827dc58f048b4ee0491c7\n"
          ]
        },
        {
          "name": "stdout",
          "output_type": "stream",
          "text": [
            "jhattse Related Best Software Solution | Techjockey.com\n",
            "Jhattse Pricing & Reviews 2023 | Techjockey.com\n"
          ]
        },
        {
          "name": "stderr",
          "output_type": "stream",
          "text": [
            "WARNING:urllib3.connectionpool:Retrying (Retry(total=2, connect=None, read=None, redirect=None, status=None)) after connection broken by 'NewConnectionError('<urllib3.connection.HTTPConnection object at 0x7b3b4e7daf20>: Failed to establish a new connection: [Errno 111] Connection refused')': /session/3750e775bfaa57d09968348944d31a5f\n",
            "WARNING:urllib3.connectionpool:Retrying (Retry(total=1, connect=None, read=None, redirect=None, status=None)) after connection broken by 'NewConnectionError('<urllib3.connection.HTTPConnection object at 0x7b3b4e7db8e0>: Failed to establish a new connection: [Errno 111] Connection refused')': /session/3750e775bfaa57d09968348944d31a5f\n",
            "WARNING:urllib3.connectionpool:Retrying (Retry(total=0, connect=None, read=None, redirect=None, status=None)) after connection broken by 'NewConnectionError('<urllib3.connection.HTTPConnection object at 0x7b3b4e7db520>: Failed to establish a new connection: [Errno 111] Connection refused')': /session/3750e775bfaa57d09968348944d31a5f\n"
          ]
        },
        {
          "name": "stdout",
          "output_type": "stream",
          "text": [
            "Techjockey\n",
            "jhattse Related Best Software Solution | Techjockey.com\n",
            "Jhattse Pricing & Reviews 2023 | Techjockey.com\n"
          ]
        },
        {
          "name": "stderr",
          "output_type": "stream",
          "text": [
            "WARNING:urllib3.connectionpool:Retrying (Retry(total=2, connect=None, read=None, redirect=None, status=None)) after connection broken by 'NewConnectionError('<urllib3.connection.HTTPConnection object at 0x7b3b4e7da5c0>: Failed to establish a new connection: [Errno 111] Connection refused')': /session/dff3a25b8496755848d741b3fb6fd11e\n",
            "WARNING:urllib3.connectionpool:Retrying (Retry(total=1, connect=None, read=None, redirect=None, status=None)) after connection broken by 'NewConnectionError('<urllib3.connection.HTTPConnection object at 0x7b3b4e7d8880>: Failed to establish a new connection: [Errno 111] Connection refused')': /session/dff3a25b8496755848d741b3fb6fd11e\n",
            "WARNING:urllib3.connectionpool:Retrying (Retry(total=0, connect=None, read=None, redirect=None, status=None)) after connection broken by 'NewConnectionError('<urllib3.connection.HTTPConnection object at 0x7b3b4e7db430>: Failed to establish a new connection: [Errno 111] Connection refused')': /session/dff3a25b8496755848d741b3fb6fd11e\n"
          ]
        },
        {
          "name": "stdout",
          "output_type": "stream",
          "text": [
            "Techjockey\n",
            "jhattse Related Best Software Solution | Techjockey.com\n",
            "Jhattse Pricing & Reviews 2023 | Techjockey.com\n"
          ]
        },
        {
          "name": "stderr",
          "output_type": "stream",
          "text": [
            "WARNING:urllib3.connectionpool:Retrying (Retry(total=2, connect=None, read=None, redirect=None, status=None)) after connection broken by 'NewConnectionError('<urllib3.connection.HTTPConnection object at 0x7b3b4e7d8eb0>: Failed to establish a new connection: [Errno 111] Connection refused')': /session/22be007b8ccf1df16cc7a6a121cf2626\n",
            "WARNING:urllib3.connectionpool:Retrying (Retry(total=1, connect=None, read=None, redirect=None, status=None)) after connection broken by 'NewConnectionError('<urllib3.connection.HTTPConnection object at 0x7b3b4e7db6a0>: Failed to establish a new connection: [Errno 111] Connection refused')': /session/22be007b8ccf1df16cc7a6a121cf2626\n",
            "WARNING:urllib3.connectionpool:Retrying (Retry(total=0, connect=None, read=None, redirect=None, status=None)) after connection broken by 'NewConnectionError('<urllib3.connection.HTTPConnection object at 0x7b3b4e7da2c0>: Failed to establish a new connection: [Errno 111] Connection refused')': /session/22be007b8ccf1df16cc7a6a121cf2626\n"
          ]
        },
        {
          "name": "stdout",
          "output_type": "stream",
          "text": [
            "Techjockey\n",
            "jhattse Related Best Software Solution | Techjockey.com\n",
            "Jhattse Pricing & Reviews 2023 | Techjockey.com\n"
          ]
        },
        {
          "name": "stderr",
          "output_type": "stream",
          "text": [
            "WARNING:urllib3.connectionpool:Retrying (Retry(total=2, connect=None, read=None, redirect=None, status=None)) after connection broken by 'NewConnectionError('<urllib3.connection.HTTPConnection object at 0x7b3b4e7db340>: Failed to establish a new connection: [Errno 111] Connection refused')': /session/36e9b85e99a1b6a21abcee936d77cec1\n",
            "WARNING:urllib3.connectionpool:Retrying (Retry(total=1, connect=None, read=None, redirect=None, status=None)) after connection broken by 'NewConnectionError('<urllib3.connection.HTTPConnection object at 0x7b3b4e7d9960>: Failed to establish a new connection: [Errno 111] Connection refused')': /session/36e9b85e99a1b6a21abcee936d77cec1\n",
            "WARNING:urllib3.connectionpool:Retrying (Retry(total=0, connect=None, read=None, redirect=None, status=None)) after connection broken by 'NewConnectionError('<urllib3.connection.HTTPConnection object at 0x7b3b4e7da7d0>: Failed to establish a new connection: [Errno 111] Connection refused')': /session/36e9b85e99a1b6a21abcee936d77cec1\n"
          ]
        },
        {
          "name": "stdout",
          "output_type": "stream",
          "text": [
            "Techjockey\n",
            "jhattse Related Best Software Solution | Techjockey.com\n",
            "Jhattse Pricing & Reviews 2023 | Techjockey.com\n"
          ]
        },
        {
          "name": "stderr",
          "output_type": "stream",
          "text": [
            "WARNING:urllib3.connectionpool:Retrying (Retry(total=2, connect=None, read=None, redirect=None, status=None)) after connection broken by 'NewConnectionError('<urllib3.connection.HTTPConnection object at 0x7b3b4e7d8a60>: Failed to establish a new connection: [Errno 111] Connection refused')': /session/f916883f0629ee08c55a159f81356df1\n",
            "WARNING:urllib3.connectionpool:Retrying (Retry(total=1, connect=None, read=None, redirect=None, status=None)) after connection broken by 'NewConnectionError('<urllib3.connection.HTTPConnection object at 0x7b3b4e7d8520>: Failed to establish a new connection: [Errno 111] Connection refused')': /session/f916883f0629ee08c55a159f81356df1\n",
            "WARNING:urllib3.connectionpool:Retrying (Retry(total=0, connect=None, read=None, redirect=None, status=None)) after connection broken by 'NewConnectionError('<urllib3.connection.HTTPConnection object at 0x7b3b4e7dac20>: Failed to establish a new connection: [Errno 111] Connection refused')': /session/f916883f0629ee08c55a159f81356df1\n"
          ]
        },
        {
          "name": "stdout",
          "output_type": "stream",
          "text": [
            "Techjockey\n",
            "jhattse Related Best Software Solution | Techjockey.com\n",
            "Jhattse Pricing & Reviews 2023 | Techjockey.com\n"
          ]
        },
        {
          "name": "stderr",
          "output_type": "stream",
          "text": [
            "WARNING:urllib3.connectionpool:Retrying (Retry(total=2, connect=None, read=None, redirect=None, status=None)) after connection broken by 'NewConnectionError('<urllib3.connection.HTTPConnection object at 0x7b3b4e7db0a0>: Failed to establish a new connection: [Errno 111] Connection refused')': /session/90b721a0e2d5c1ffe66897b5a3b7fdbb\n",
            "WARNING:urllib3.connectionpool:Retrying (Retry(total=1, connect=None, read=None, redirect=None, status=None)) after connection broken by 'NewConnectionError('<urllib3.connection.HTTPConnection object at 0x7b3b4e7dae90>: Failed to establish a new connection: [Errno 111] Connection refused')': /session/90b721a0e2d5c1ffe66897b5a3b7fdbb\n",
            "WARNING:urllib3.connectionpool:Retrying (Retry(total=0, connect=None, read=None, redirect=None, status=None)) after connection broken by 'NewConnectionError('<urllib3.connection.HTTPConnection object at 0x7b3b4e7d9210>: Failed to establish a new connection: [Errno 111] Connection refused')': /session/90b721a0e2d5c1ffe66897b5a3b7fdbb\n"
          ]
        },
        {
          "name": "stdout",
          "output_type": "stream",
          "text": [
            "Techjockey\n",
            "jhattse Related Best Software Solution | Techjockey.com\n",
            "Jhattse Pricing & Reviews 2023 | Techjockey.com\n",
            "Techjockey\n"
          ]
        },
        {
          "name": "stderr",
          "output_type": "stream",
          "text": [
            "WARNING:urllib3.connectionpool:Retrying (Retry(total=2, connect=None, read=None, redirect=None, status=None)) after connection broken by 'NewConnectionError('<urllib3.connection.HTTPConnection object at 0x7b3b4e7d8a60>: Failed to establish a new connection: [Errno 111] Connection refused')': /session/42f05025dcbb5464607efecd56078b7f\n",
            "WARNING:urllib3.connectionpool:Retrying (Retry(total=1, connect=None, read=None, redirect=None, status=None)) after connection broken by 'NewConnectionError('<urllib3.connection.HTTPConnection object at 0x7b3b4e7d8040>: Failed to establish a new connection: [Errno 111] Connection refused')': /session/42f05025dcbb5464607efecd56078b7f\n",
            "WARNING:urllib3.connectionpool:Retrying (Retry(total=0, connect=None, read=None, redirect=None, status=None)) after connection broken by 'NewConnectionError('<urllib3.connection.HTTPConnection object at 0x7b3b4e7dbcd0>: Failed to establish a new connection: [Errno 111] Connection refused')': /session/42f05025dcbb5464607efecd56078b7f\n"
          ]
        },
        {
          "name": "stdout",
          "output_type": "stream",
          "text": [
            "jhattse Related Best Software Solution | Techjockey.com\n",
            "Jhattse Pricing & Reviews 2023 | Techjockey.com\n"
          ]
        },
        {
          "name": "stderr",
          "output_type": "stream",
          "text": [
            "WARNING:urllib3.connectionpool:Retrying (Retry(total=2, connect=None, read=None, redirect=None, status=None)) after connection broken by 'NewConnectionError('<urllib3.connection.HTTPConnection object at 0x7b3b4e7da0b0>: Failed to establish a new connection: [Errno 111] Connection refused')': /session/43fe336754656a994680c3fd5328226d\n",
            "WARNING:urllib3.connectionpool:Retrying (Retry(total=1, connect=None, read=None, redirect=None, status=None)) after connection broken by 'NewConnectionError('<urllib3.connection.HTTPConnection object at 0x7b3b4e7dbe80>: Failed to establish a new connection: [Errno 111] Connection refused')': /session/43fe336754656a994680c3fd5328226d\n",
            "WARNING:urllib3.connectionpool:Retrying (Retry(total=0, connect=None, read=None, redirect=None, status=None)) after connection broken by 'NewConnectionError('<urllib3.connection.HTTPConnection object at 0x7b3b4e7da740>: Failed to establish a new connection: [Errno 111] Connection refused')': /session/43fe336754656a994680c3fd5328226d\n"
          ]
        },
        {
          "name": "stdout",
          "output_type": "stream",
          "text": [
            "Techjockey\n",
            "jhattse Related Best Software Solution | Techjockey.com\n",
            "Jhattse Pricing & Reviews 2023 | Techjockey.com\n"
          ]
        },
        {
          "name": "stderr",
          "output_type": "stream",
          "text": [
            "WARNING:urllib3.connectionpool:Retrying (Retry(total=2, connect=None, read=None, redirect=None, status=None)) after connection broken by 'NewConnectionError('<urllib3.connection.HTTPConnection object at 0x7b3b4e7d8f10>: Failed to establish a new connection: [Errno 111] Connection refused')': /session/34f2fa4f25bd8c740dd6eb3235ecf10d\n",
            "WARNING:urllib3.connectionpool:Retrying (Retry(total=1, connect=None, read=None, redirect=None, status=None)) after connection broken by 'NewConnectionError('<urllib3.connection.HTTPConnection object at 0x7b3b732392d0>: Failed to establish a new connection: [Errno 111] Connection refused')': /session/34f2fa4f25bd8c740dd6eb3235ecf10d\n",
            "WARNING:urllib3.connectionpool:Retrying (Retry(total=0, connect=None, read=None, redirect=None, status=None)) after connection broken by 'NewConnectionError('<urllib3.connection.HTTPConnection object at 0x7b3b4e7dbeb0>: Failed to establish a new connection: [Errno 111] Connection refused')': /session/34f2fa4f25bd8c740dd6eb3235ecf10d\n"
          ]
        },
        {
          "name": "stdout",
          "output_type": "stream",
          "text": [
            "Techjockey\n",
            "jhattse Related Best Software Solution | Techjockey.com\n",
            "Jhattse Pricing & Reviews 2023 | Techjockey.com\n"
          ]
        },
        {
          "name": "stderr",
          "output_type": "stream",
          "text": [
            "WARNING:urllib3.connectionpool:Retrying (Retry(total=2, connect=None, read=None, redirect=None, status=None)) after connection broken by 'NewConnectionError('<urllib3.connection.HTTPConnection object at 0x7b3b4e7d96f0>: Failed to establish a new connection: [Errno 111] Connection refused')': /session/7a4f5ebc7c7c7a1b203d0ae5cde6b658\n",
            "WARNING:urllib3.connectionpool:Retrying (Retry(total=1, connect=None, read=None, redirect=None, status=None)) after connection broken by 'NewConnectionError('<urllib3.connection.HTTPConnection object at 0x7b3b4e7db6d0>: Failed to establish a new connection: [Errno 111] Connection refused')': /session/7a4f5ebc7c7c7a1b203d0ae5cde6b658\n",
            "WARNING:urllib3.connectionpool:Retrying (Retry(total=0, connect=None, read=None, redirect=None, status=None)) after connection broken by 'NewConnectionError('<urllib3.connection.HTTPConnection object at 0x7b3b4e7d9450>: Failed to establish a new connection: [Errno 111] Connection refused')': /session/7a4f5ebc7c7c7a1b203d0ae5cde6b658\n"
          ]
        },
        {
          "name": "stdout",
          "output_type": "stream",
          "text": [
            "Techjockey\n",
            "jhattse Related Best Software Solution | Techjockey.com\n",
            "Jhattse Pricing & Reviews 2023 | Techjockey.com\n"
          ]
        },
        {
          "name": "stderr",
          "output_type": "stream",
          "text": [
            "WARNING:urllib3.connectionpool:Retrying (Retry(total=2, connect=None, read=None, redirect=None, status=None)) after connection broken by 'NewConnectionError('<urllib3.connection.HTTPConnection object at 0x7b3b4e7d9690>: Failed to establish a new connection: [Errno 111] Connection refused')': /session/eeeb595336d75fd64d0c6fa13372ec4e\n",
            "WARNING:urllib3.connectionpool:Retrying (Retry(total=1, connect=None, read=None, redirect=None, status=None)) after connection broken by 'NewConnectionError('<urllib3.connection.HTTPConnection object at 0x7b3b4e7d82e0>: Failed to establish a new connection: [Errno 111] Connection refused')': /session/eeeb595336d75fd64d0c6fa13372ec4e\n",
            "WARNING:urllib3.connectionpool:Retrying (Retry(total=0, connect=None, read=None, redirect=None, status=None)) after connection broken by 'NewConnectionError('<urllib3.connection.HTTPConnection object at 0x7b3b4e7dbfd0>: Failed to establish a new connection: [Errno 111] Connection refused')': /session/eeeb595336d75fd64d0c6fa13372ec4e\n"
          ]
        },
        {
          "name": "stdout",
          "output_type": "stream",
          "text": [
            "Techjockey\n",
            "jhattse Related Best Software Solution | Techjockey.com\n",
            "Jhattse Pricing & Reviews 2023 | Techjockey.com\n"
          ]
        },
        {
          "name": "stderr",
          "output_type": "stream",
          "text": [
            "WARNING:urllib3.connectionpool:Retrying (Retry(total=2, connect=None, read=None, redirect=None, status=None)) after connection broken by 'NewConnectionError('<urllib3.connection.HTTPConnection object at 0x7b3b4e7d83d0>: Failed to establish a new connection: [Errno 111] Connection refused')': /session/384b907ef84895b430aaa73ca35e627d\n",
            "WARNING:urllib3.connectionpool:Retrying (Retry(total=1, connect=None, read=None, redirect=None, status=None)) after connection broken by 'NewConnectionError('<urllib3.connection.HTTPConnection object at 0x7b3b4e7da650>: Failed to establish a new connection: [Errno 111] Connection refused')': /session/384b907ef84895b430aaa73ca35e627d\n",
            "WARNING:urllib3.connectionpool:Retrying (Retry(total=0, connect=None, read=None, redirect=None, status=None)) after connection broken by 'NewConnectionError('<urllib3.connection.HTTPConnection object at 0x7b3b4e7d9a80>: Failed to establish a new connection: [Errno 111] Connection refused')': /session/384b907ef84895b430aaa73ca35e627d\n"
          ]
        },
        {
          "name": "stdout",
          "output_type": "stream",
          "text": [
            "Techjockey\n",
            "jhattse Related Best Software Solution | Techjockey.com\n",
            "Jhattse Pricing & Reviews 2023 | Techjockey.com\n"
          ]
        },
        {
          "name": "stderr",
          "output_type": "stream",
          "text": [
            "WARNING:urllib3.connectionpool:Retrying (Retry(total=2, connect=None, read=None, redirect=None, status=None)) after connection broken by 'NewConnectionError('<urllib3.connection.HTTPConnection object at 0x7b3b4e7d88b0>: Failed to establish a new connection: [Errno 111] Connection refused')': /session/d75cff3a9cf90fd7a6d5e373695c4d15\n",
            "WARNING:urllib3.connectionpool:Retrying (Retry(total=1, connect=None, read=None, redirect=None, status=None)) after connection broken by 'NewConnectionError('<urllib3.connection.HTTPConnection object at 0x7b3b4e7d85e0>: Failed to establish a new connection: [Errno 111] Connection refused')': /session/d75cff3a9cf90fd7a6d5e373695c4d15\n",
            "WARNING:urllib3.connectionpool:Retrying (Retry(total=0, connect=None, read=None, redirect=None, status=None)) after connection broken by 'NewConnectionError('<urllib3.connection.HTTPConnection object at 0x7b3b4e7d9240>: Failed to establish a new connection: [Errno 111] Connection refused')': /session/d75cff3a9cf90fd7a6d5e373695c4d15\n"
          ]
        },
        {
          "name": "stdout",
          "output_type": "stream",
          "text": [
            "Techjockey\n",
            "jhattse Related Best Software Solution | Techjockey.com\n",
            "Jhattse Pricing & Reviews 2023 | Techjockey.com\n"
          ]
        },
        {
          "name": "stderr",
          "output_type": "stream",
          "text": [
            "WARNING:urllib3.connectionpool:Retrying (Retry(total=2, connect=None, read=None, redirect=None, status=None)) after connection broken by 'NewConnectionError('<urllib3.connection.HTTPConnection object at 0x7b3b4e7d8760>: Failed to establish a new connection: [Errno 111] Connection refused')': /session/f1fa977c8db7ce1554511feb9705e5dc\n",
            "WARNING:urllib3.connectionpool:Retrying (Retry(total=1, connect=None, read=None, redirect=None, status=None)) after connection broken by 'NewConnectionError('<urllib3.connection.HTTPConnection object at 0x7b3b4e7db790>: Failed to establish a new connection: [Errno 111] Connection refused')': /session/f1fa977c8db7ce1554511feb9705e5dc\n",
            "WARNING:urllib3.connectionpool:Retrying (Retry(total=0, connect=None, read=None, redirect=None, status=None)) after connection broken by 'NewConnectionError('<urllib3.connection.HTTPConnection object at 0x7b3b4e7dabc0>: Failed to establish a new connection: [Errno 111] Connection refused')': /session/f1fa977c8db7ce1554511feb9705e5dc\n"
          ]
        },
        {
          "name": "stdout",
          "output_type": "stream",
          "text": [
            "Techjockey\n",
            "jhattse Related Best Software Solution | Techjockey.com\n",
            "Jhattse Pricing & Reviews 2023 | Techjockey.com\n"
          ]
        },
        {
          "name": "stderr",
          "output_type": "stream",
          "text": [
            "WARNING:urllib3.connectionpool:Retrying (Retry(total=2, connect=None, read=None, redirect=None, status=None)) after connection broken by 'NewConnectionError('<urllib3.connection.HTTPConnection object at 0x7b3b4e7dbd90>: Failed to establish a new connection: [Errno 111] Connection refused')': /session/0d63ef9f0e3224f0fa94871d73e3d020\n",
            "WARNING:urllib3.connectionpool:Retrying (Retry(total=1, connect=None, read=None, redirect=None, status=None)) after connection broken by 'NewConnectionError('<urllib3.connection.HTTPConnection object at 0x7b3b4e9c6e60>: Failed to establish a new connection: [Errno 111] Connection refused')': /session/0d63ef9f0e3224f0fa94871d73e3d020\n",
            "WARNING:urllib3.connectionpool:Retrying (Retry(total=0, connect=None, read=None, redirect=None, status=None)) after connection broken by 'NewConnectionError('<urllib3.connection.HTTPConnection object at 0x7b3b4e9c74c0>: Failed to establish a new connection: [Errno 111] Connection refused')': /session/0d63ef9f0e3224f0fa94871d73e3d020\n"
          ]
        },
        {
          "name": "stdout",
          "output_type": "stream",
          "text": [
            "Techjockey\n",
            "jhattse Related Best Software Solution | Techjockey.com\n",
            "Jhattse Pricing & Reviews 2023 | Techjockey.com\n"
          ]
        },
        {
          "name": "stderr",
          "output_type": "stream",
          "text": [
            "WARNING:urllib3.connectionpool:Retrying (Retry(total=2, connect=None, read=None, redirect=None, status=None)) after connection broken by 'NewConnectionError('<urllib3.connection.HTTPConnection object at 0x7b3b4e9c6e60>: Failed to establish a new connection: [Errno 111] Connection refused')': /session/d8a55d5ff40258dd6008cea583202d66\n",
            "WARNING:urllib3.connectionpool:Retrying (Retry(total=1, connect=None, read=None, redirect=None, status=None)) after connection broken by 'NewConnectionError('<urllib3.connection.HTTPConnection object at 0x7b3b4e9c4f10>: Failed to establish a new connection: [Errno 111] Connection refused')': /session/d8a55d5ff40258dd6008cea583202d66\n",
            "WARNING:urllib3.connectionpool:Retrying (Retry(total=0, connect=None, read=None, redirect=None, status=None)) after connection broken by 'NewConnectionError('<urllib3.connection.HTTPConnection object at 0x7b3b4e7d89a0>: Failed to establish a new connection: [Errno 111] Connection refused')': /session/d8a55d5ff40258dd6008cea583202d66\n"
          ]
        },
        {
          "name": "stdout",
          "output_type": "stream",
          "text": [
            "Techjockey\n",
            "jhattse Related Best Software Solution | Techjockey.com\n",
            "Jhattse Pricing & Reviews 2023 | Techjockey.com\n"
          ]
        },
        {
          "name": "stderr",
          "output_type": "stream",
          "text": [
            "WARNING:urllib3.connectionpool:Retrying (Retry(total=2, connect=None, read=None, redirect=None, status=None)) after connection broken by 'NewConnectionError('<urllib3.connection.HTTPConnection object at 0x7b3b4e7db340>: Failed to establish a new connection: [Errno 111] Connection refused')': /session/455a1321191fbe5cf261b53f8e150345\n",
            "WARNING:urllib3.connectionpool:Retrying (Retry(total=1, connect=None, read=None, redirect=None, status=None)) after connection broken by 'NewConnectionError('<urllib3.connection.HTTPConnection object at 0x7b3b4e7d9ff0>: Failed to establish a new connection: [Errno 111] Connection refused')': /session/455a1321191fbe5cf261b53f8e150345\n",
            "WARNING:urllib3.connectionpool:Retrying (Retry(total=0, connect=None, read=None, redirect=None, status=None)) after connection broken by 'NewConnectionError('<urllib3.connection.HTTPConnection object at 0x7b3b4e7da6b0>: Failed to establish a new connection: [Errno 111] Connection refused')': /session/455a1321191fbe5cf261b53f8e150345\n"
          ]
        },
        {
          "name": "stdout",
          "output_type": "stream",
          "text": [
            "Techjockey\n",
            "jhattse Related Best Software Solution | Techjockey.com\n",
            "Jhattse Pricing & Reviews 2023 | Techjockey.com\n"
          ]
        },
        {
          "name": "stderr",
          "output_type": "stream",
          "text": [
            "WARNING:urllib3.connectionpool:Retrying (Retry(total=2, connect=None, read=None, redirect=None, status=None)) after connection broken by 'NewConnectionError('<urllib3.connection.HTTPConnection object at 0x7b3b4e7db460>: Failed to establish a new connection: [Errno 111] Connection refused')': /session/6dbfa9c8e704b1baff732a1164047e91\n",
            "WARNING:urllib3.connectionpool:Retrying (Retry(total=1, connect=None, read=None, redirect=None, status=None)) after connection broken by 'NewConnectionError('<urllib3.connection.HTTPConnection object at 0x7b3b4e7da320>: Failed to establish a new connection: [Errno 111] Connection refused')': /session/6dbfa9c8e704b1baff732a1164047e91\n",
            "WARNING:urllib3.connectionpool:Retrying (Retry(total=0, connect=None, read=None, redirect=None, status=None)) after connection broken by 'NewConnectionError('<urllib3.connection.HTTPConnection object at 0x7b3b4e7da890>: Failed to establish a new connection: [Errno 111] Connection refused')': /session/6dbfa9c8e704b1baff732a1164047e91\n"
          ]
        },
        {
          "name": "stdout",
          "output_type": "stream",
          "text": [
            "Techjockey\n",
            "jhattse Related Best Software Solution | Techjockey.com\n",
            "Jhattse Pricing & Reviews 2023 | Techjockey.com\n"
          ]
        },
        {
          "name": "stderr",
          "output_type": "stream",
          "text": [
            "WARNING:urllib3.connectionpool:Retrying (Retry(total=2, connect=None, read=None, redirect=None, status=None)) after connection broken by 'NewConnectionError('<urllib3.connection.HTTPConnection object at 0x7b3b4e7dbe20>: Failed to establish a new connection: [Errno 111] Connection refused')': /session/7223532e567b683a950d8d0c39b1cd71\n",
            "WARNING:urllib3.connectionpool:Retrying (Retry(total=1, connect=None, read=None, redirect=None, status=None)) after connection broken by 'NewConnectionError('<urllib3.connection.HTTPConnection object at 0x7b3b4f5a98d0>: Failed to establish a new connection: [Errno 111] Connection refused')': /session/7223532e567b683a950d8d0c39b1cd71\n",
            "WARNING:urllib3.connectionpool:Retrying (Retry(total=0, connect=None, read=None, redirect=None, status=None)) after connection broken by 'NewConnectionError('<urllib3.connection.HTTPConnection object at 0x7b3b4f5aa410>: Failed to establish a new connection: [Errno 111] Connection refused')': /session/7223532e567b683a950d8d0c39b1cd71\n"
          ]
        },
        {
          "name": "stdout",
          "output_type": "stream",
          "text": [
            "Techjockey\n",
            "jhattse Related Best Software Solution | Techjockey.com\n",
            "Jhattse Pricing & Reviews 2023 | Techjockey.com\n"
          ]
        },
        {
          "name": "stderr",
          "output_type": "stream",
          "text": [
            "WARNING:urllib3.connectionpool:Retrying (Retry(total=2, connect=None, read=None, redirect=None, status=None)) after connection broken by 'NewConnectionError('<urllib3.connection.HTTPConnection object at 0x7b3b4e7d8b50>: Failed to establish a new connection: [Errno 111] Connection refused')': /session/ab9c8c9cf167c9dcc73f48e0a6ee928d\n",
            "WARNING:urllib3.connectionpool:Retrying (Retry(total=1, connect=None, read=None, redirect=None, status=None)) after connection broken by 'NewConnectionError('<urllib3.connection.HTTPConnection object at 0x7b3b4e7d8c70>: Failed to establish a new connection: [Errno 111] Connection refused')': /session/ab9c8c9cf167c9dcc73f48e0a6ee928d\n",
            "WARNING:urllib3.connectionpool:Retrying (Retry(total=0, connect=None, read=None, redirect=None, status=None)) after connection broken by 'NewConnectionError('<urllib3.connection.HTTPConnection object at 0x7b3b4e7d8e20>: Failed to establish a new connection: [Errno 111] Connection refused')': /session/ab9c8c9cf167c9dcc73f48e0a6ee928d\n"
          ]
        },
        {
          "name": "stdout",
          "output_type": "stream",
          "text": [
            "Techjockey\n",
            "jhattse Related Best Software Solution | Techjockey.com\n",
            "Jhattse Pricing & Reviews 2023 | Techjockey.com\n"
          ]
        },
        {
          "name": "stderr",
          "output_type": "stream",
          "text": [
            "WARNING:urllib3.connectionpool:Retrying (Retry(total=2, connect=None, read=None, redirect=None, status=None)) after connection broken by 'NewConnectionError('<urllib3.connection.HTTPConnection object at 0x7b3b4e7dbd90>: Failed to establish a new connection: [Errno 111] Connection refused')': /session/2d1ebd9d7e620db207f85d1d28dc5a0b\n",
            "WARNING:urllib3.connectionpool:Retrying (Retry(total=1, connect=None, read=None, redirect=None, status=None)) after connection broken by 'NewConnectionError('<urllib3.connection.HTTPConnection object at 0x7b3b4e7da350>: Failed to establish a new connection: [Errno 111] Connection refused')': /session/2d1ebd9d7e620db207f85d1d28dc5a0b\n",
            "WARNING:urllib3.connectionpool:Retrying (Retry(total=0, connect=None, read=None, redirect=None, status=None)) after connection broken by 'NewConnectionError('<urllib3.connection.HTTPConnection object at 0x7b3b4e7d82e0>: Failed to establish a new connection: [Errno 111] Connection refused')': /session/2d1ebd9d7e620db207f85d1d28dc5a0b\n"
          ]
        },
        {
          "name": "stdout",
          "output_type": "stream",
          "text": [
            "Techjockey\n",
            "jhattse Related Best Software Solution | Techjockey.com\n",
            "Jhattse Pricing & Reviews 2023 | Techjockey.com\n"
          ]
        },
        {
          "name": "stderr",
          "output_type": "stream",
          "text": [
            "WARNING:urllib3.connectionpool:Retrying (Retry(total=2, connect=None, read=None, redirect=None, status=None)) after connection broken by 'NewConnectionError('<urllib3.connection.HTTPConnection object at 0x7b3b4e9c4f10>: Failed to establish a new connection: [Errno 111] Connection refused')': /session/1659caf035e369fcff65a1bedf557651\n",
            "WARNING:urllib3.connectionpool:Retrying (Retry(total=1, connect=None, read=None, redirect=None, status=None)) after connection broken by 'NewConnectionError('<urllib3.connection.HTTPConnection object at 0x7b3b4e728520>: Failed to establish a new connection: [Errno 111] Connection refused')': /session/1659caf035e369fcff65a1bedf557651\n",
            "WARNING:urllib3.connectionpool:Retrying (Retry(total=0, connect=None, read=None, redirect=None, status=None)) after connection broken by 'NewConnectionError('<urllib3.connection.HTTPConnection object at 0x7b3b4e77f490>: Failed to establish a new connection: [Errno 111] Connection refused')': /session/1659caf035e369fcff65a1bedf557651\n"
          ]
        },
        {
          "name": "stdout",
          "output_type": "stream",
          "text": [
            "Techjockey\n",
            "jhattse Related Best Software Solution | Techjockey.com\n",
            "Jhattse Pricing & Reviews 2023 | Techjockey.com\n"
          ]
        },
        {
          "name": "stderr",
          "output_type": "stream",
          "text": [
            "WARNING:urllib3.connectionpool:Retrying (Retry(total=2, connect=None, read=None, redirect=None, status=None)) after connection broken by 'NewConnectionError('<urllib3.connection.HTTPConnection object at 0x7b3b4e7db220>: Failed to establish a new connection: [Errno 111] Connection refused')': /session/7704788f7599df03cb5446bb78477b13\n",
            "WARNING:urllib3.connectionpool:Retrying (Retry(total=1, connect=None, read=None, redirect=None, status=None)) after connection broken by 'NewConnectionError('<urllib3.connection.HTTPConnection object at 0x7b3b4e7d80d0>: Failed to establish a new connection: [Errno 111] Connection refused')': /session/7704788f7599df03cb5446bb78477b13\n",
            "WARNING:urllib3.connectionpool:Retrying (Retry(total=0, connect=None, read=None, redirect=None, status=None)) after connection broken by 'NewConnectionError('<urllib3.connection.HTTPConnection object at 0x7b3b4e7d99c0>: Failed to establish a new connection: [Errno 111] Connection refused')': /session/7704788f7599df03cb5446bb78477b13\n"
          ]
        },
        {
          "name": "stdout",
          "output_type": "stream",
          "text": [
            "Techjockey\n",
            "jhattse Related Best Software Solution | Techjockey.com\n",
            "Jhattse Pricing & Reviews 2023 | Techjockey.com\n"
          ]
        },
        {
          "name": "stderr",
          "output_type": "stream",
          "text": [
            "WARNING:urllib3.connectionpool:Retrying (Retry(total=2, connect=None, read=None, redirect=None, status=None)) after connection broken by 'NewConnectionError('<urllib3.connection.HTTPConnection object at 0x7b3b4e7d90c0>: Failed to establish a new connection: [Errno 111] Connection refused')': /session/4faec97a6f027af66860dac2f092521e\n",
            "WARNING:urllib3.connectionpool:Retrying (Retry(total=1, connect=None, read=None, redirect=None, status=None)) after connection broken by 'NewConnectionError('<urllib3.connection.HTTPConnection object at 0x7b3b4e7d95a0>: Failed to establish a new connection: [Errno 111] Connection refused')': /session/4faec97a6f027af66860dac2f092521e\n",
            "WARNING:urllib3.connectionpool:Retrying (Retry(total=0, connect=None, read=None, redirect=None, status=None)) after connection broken by 'NewConnectionError('<urllib3.connection.HTTPConnection object at 0x7b3b4e7dbeb0>: Failed to establish a new connection: [Errno 111] Connection refused')': /session/4faec97a6f027af66860dac2f092521e\n"
          ]
        },
        {
          "name": "stdout",
          "output_type": "stream",
          "text": [
            "Techjockey\n",
            "jhattse Related Best Software Solution | Techjockey.com\n",
            "Jhattse Pricing & Reviews 2023 | Techjockey.com\n"
          ]
        },
        {
          "name": "stderr",
          "output_type": "stream",
          "text": [
            "WARNING:urllib3.connectionpool:Retrying (Retry(total=2, connect=None, read=None, redirect=None, status=None)) after connection broken by 'NewConnectionError('<urllib3.connection.HTTPConnection object at 0x7b3b4e77ec50>: Failed to establish a new connection: [Errno 111] Connection refused')': /session/12c8b217dd9b3043e3b424dc04effd5d\n",
            "WARNING:urllib3.connectionpool:Retrying (Retry(total=1, connect=None, read=None, redirect=None, status=None)) after connection broken by 'NewConnectionError('<urllib3.connection.HTTPConnection object at 0x7b3b4e77ffa0>: Failed to establish a new connection: [Errno 111] Connection refused')': /session/12c8b217dd9b3043e3b424dc04effd5d\n",
            "WARNING:urllib3.connectionpool:Retrying (Retry(total=0, connect=None, read=None, redirect=None, status=None)) after connection broken by 'NewConnectionError('<urllib3.connection.HTTPConnection object at 0x7b3b4e77ea40>: Failed to establish a new connection: [Errno 111] Connection refused')': /session/12c8b217dd9b3043e3b424dc04effd5d\n"
          ]
        },
        {
          "name": "stdout",
          "output_type": "stream",
          "text": [
            "Techjockey\n",
            "jhattse Related Best Software Solution | Techjockey.com\n",
            "Jhattse Pricing & Reviews 2023 | Techjockey.com\n"
          ]
        },
        {
          "name": "stderr",
          "output_type": "stream",
          "text": [
            "WARNING:urllib3.connectionpool:Retrying (Retry(total=2, connect=None, read=None, redirect=None, status=None)) after connection broken by 'NewConnectionError('<urllib3.connection.HTTPConnection object at 0x7b3b4e77ebc0>: Failed to establish a new connection: [Errno 111] Connection refused')': /session/746897454edeb980e07a3fb541bf0ee7\n",
            "WARNING:urllib3.connectionpool:Retrying (Retry(total=1, connect=None, read=None, redirect=None, status=None)) after connection broken by 'NewConnectionError('<urllib3.connection.HTTPConnection object at 0x7b3b4e77f9d0>: Failed to establish a new connection: [Errno 111] Connection refused')': /session/746897454edeb980e07a3fb541bf0ee7\n",
            "WARNING:urllib3.connectionpool:Retrying (Retry(total=0, connect=None, read=None, redirect=None, status=None)) after connection broken by 'NewConnectionError('<urllib3.connection.HTTPConnection object at 0x7b3b4e77e9b0>: Failed to establish a new connection: [Errno 111] Connection refused')': /session/746897454edeb980e07a3fb541bf0ee7\n"
          ]
        },
        {
          "name": "stdout",
          "output_type": "stream",
          "text": [
            "Techjockey\n",
            "jhattse Related Best Software Solution | Techjockey.com\n",
            "Jhattse Pricing & Reviews 2023 | Techjockey.com\n"
          ]
        },
        {
          "name": "stderr",
          "output_type": "stream",
          "text": [
            "WARNING:urllib3.connectionpool:Retrying (Retry(total=2, connect=None, read=None, redirect=None, status=None)) after connection broken by 'NewConnectionError('<urllib3.connection.HTTPConnection object at 0x7b3b4e7da9b0>: Failed to establish a new connection: [Errno 111] Connection refused')': /session/c0a74369dd812f9fd28e6895bfa59af7\n",
            "WARNING:urllib3.connectionpool:Retrying (Retry(total=1, connect=None, read=None, redirect=None, status=None)) after connection broken by 'NewConnectionError('<urllib3.connection.HTTPConnection object at 0x7b3b4e7d9c60>: Failed to establish a new connection: [Errno 111] Connection refused')': /session/c0a74369dd812f9fd28e6895bfa59af7\n",
            "WARNING:urllib3.connectionpool:Retrying (Retry(total=0, connect=None, read=None, redirect=None, status=None)) after connection broken by 'NewConnectionError('<urllib3.connection.HTTPConnection object at 0x7b3b4e7d9240>: Failed to establish a new connection: [Errno 111] Connection refused')': /session/c0a74369dd812f9fd28e6895bfa59af7\n"
          ]
        },
        {
          "name": "stdout",
          "output_type": "stream",
          "text": [
            "Techjockey\n",
            "jhattse Related Best Software Solution | Techjockey.com\n",
            "Jhattse Pricing & Reviews 2023 | Techjockey.com\n"
          ]
        },
        {
          "name": "stderr",
          "output_type": "stream",
          "text": [
            "WARNING:urllib3.connectionpool:Retrying (Retry(total=2, connect=None, read=None, redirect=None, status=None)) after connection broken by 'NewConnectionError('<urllib3.connection.HTTPConnection object at 0x7b3b4e7d8070>: Failed to establish a new connection: [Errno 111] Connection refused')': /session/d3fa43bb6df37bf11f6ecae764c5f5a4\n",
            "WARNING:urllib3.connectionpool:Retrying (Retry(total=1, connect=None, read=None, redirect=None, status=None)) after connection broken by 'NewConnectionError('<urllib3.connection.HTTPConnection object at 0x7b3b4e7d96f0>: Failed to establish a new connection: [Errno 111] Connection refused')': /session/d3fa43bb6df37bf11f6ecae764c5f5a4\n",
            "WARNING:urllib3.connectionpool:Retrying (Retry(total=0, connect=None, read=None, redirect=None, status=None)) after connection broken by 'NewConnectionError('<urllib3.connection.HTTPConnection object at 0x7b3b4e7d80d0>: Failed to establish a new connection: [Errno 111] Connection refused')': /session/d3fa43bb6df37bf11f6ecae764c5f5a4\n"
          ]
        },
        {
          "name": "stdout",
          "output_type": "stream",
          "text": [
            "Techjockey\n",
            "jhattse Related Best Software Solution | Techjockey.com\n",
            "Jhattse Pricing & Reviews 2023 | Techjockey.com\n"
          ]
        },
        {
          "name": "stderr",
          "output_type": "stream",
          "text": [
            "WARNING:urllib3.connectionpool:Retrying (Retry(total=2, connect=None, read=None, redirect=None, status=None)) after connection broken by 'NewConnectionError('<urllib3.connection.HTTPConnection object at 0x7b3b4f405120>: Failed to establish a new connection: [Errno 111] Connection refused')': /session/5b4cdbfee72603f55392a0563afa4ac3\n",
            "WARNING:urllib3.connectionpool:Retrying (Retry(total=1, connect=None, read=None, redirect=None, status=None)) after connection broken by 'NewConnectionError('<urllib3.connection.HTTPConnection object at 0x7b3b732382b0>: Failed to establish a new connection: [Errno 111] Connection refused')': /session/5b4cdbfee72603f55392a0563afa4ac3\n",
            "WARNING:urllib3.connectionpool:Retrying (Retry(total=0, connect=None, read=None, redirect=None, status=None)) after connection broken by 'NewConnectionError('<urllib3.connection.HTTPConnection object at 0x7b3b4e7dbd30>: Failed to establish a new connection: [Errno 111] Connection refused')': /session/5b4cdbfee72603f55392a0563afa4ac3\n"
          ]
        },
        {
          "name": "stdout",
          "output_type": "stream",
          "text": [
            "Techjockey\n",
            "jhattse Related Best Software Solution | Techjockey.com\n",
            "Jhattse Pricing & Reviews 2023 | Techjockey.com\n"
          ]
        },
        {
          "name": "stderr",
          "output_type": "stream",
          "text": [
            "WARNING:urllib3.connectionpool:Retrying (Retry(total=2, connect=None, read=None, redirect=None, status=None)) after connection broken by 'NewConnectionError('<urllib3.connection.HTTPConnection object at 0x7b3b4e7d9c30>: Failed to establish a new connection: [Errno 111] Connection refused')': /session/32ae7d0e043b00904b54c50ab488a086\n",
            "WARNING:urllib3.connectionpool:Retrying (Retry(total=1, connect=None, read=None, redirect=None, status=None)) after connection broken by 'NewConnectionError('<urllib3.connection.HTTPConnection object at 0x7b3b4e7d8e20>: Failed to establish a new connection: [Errno 111] Connection refused')': /session/32ae7d0e043b00904b54c50ab488a086\n",
            "WARNING:urllib3.connectionpool:Retrying (Retry(total=0, connect=None, read=None, redirect=None, status=None)) after connection broken by 'NewConnectionError('<urllib3.connection.HTTPConnection object at 0x7b3b4e7da6b0>: Failed to establish a new connection: [Errno 111] Connection refused')': /session/32ae7d0e043b00904b54c50ab488a086\n"
          ]
        },
        {
          "name": "stdout",
          "output_type": "stream",
          "text": [
            "Techjockey\n",
            "jhattse Related Best Software Solution | Techjockey.com\n",
            "Jhattse Pricing & Reviews 2023 | Techjockey.com\n"
          ]
        },
        {
          "name": "stderr",
          "output_type": "stream",
          "text": [
            "WARNING:urllib3.connectionpool:Retrying (Retry(total=2, connect=None, read=None, redirect=None, status=None)) after connection broken by 'NewConnectionError('<urllib3.connection.HTTPConnection object at 0x7b3b4f5aae90>: Failed to establish a new connection: [Errno 111] Connection refused')': /session/0335069c173ce1daa77547418f8ce928\n",
            "WARNING:urllib3.connectionpool:Retrying (Retry(total=1, connect=None, read=None, redirect=None, status=None)) after connection broken by 'NewConnectionError('<urllib3.connection.HTTPConnection object at 0x7b3b4e77f6d0>: Failed to establish a new connection: [Errno 111] Connection refused')': /session/0335069c173ce1daa77547418f8ce928\n",
            "WARNING:urllib3.connectionpool:Retrying (Retry(total=0, connect=None, read=None, redirect=None, status=None)) after connection broken by 'NewConnectionError('<urllib3.connection.HTTPConnection object at 0x7b3b4e77ed40>: Failed to establish a new connection: [Errno 111] Connection refused')': /session/0335069c173ce1daa77547418f8ce928\n"
          ]
        },
        {
          "name": "stdout",
          "output_type": "stream",
          "text": [
            "Techjockey\n",
            "jhattse Related Best Software Solution | Techjockey.com\n",
            "Jhattse Pricing & Reviews 2023 | Techjockey.com\n"
          ]
        },
        {
          "name": "stderr",
          "output_type": "stream",
          "text": [
            "WARNING:urllib3.connectionpool:Retrying (Retry(total=2, connect=None, read=None, redirect=None, status=None)) after connection broken by 'NewConnectionError('<urllib3.connection.HTTPConnection object at 0x7b3b4e77fd00>: Failed to establish a new connection: [Errno 111] Connection refused')': /session/6152808e0e88ae97ed5f185cf7ce4b7f\n",
            "WARNING:urllib3.connectionpool:Retrying (Retry(total=1, connect=None, read=None, redirect=None, status=None)) after connection broken by 'NewConnectionError('<urllib3.connection.HTTPConnection object at 0x7b3b4f405960>: Failed to establish a new connection: [Errno 111] Connection refused')': /session/6152808e0e88ae97ed5f185cf7ce4b7f\n",
            "WARNING:urllib3.connectionpool:Retrying (Retry(total=0, connect=None, read=None, redirect=None, status=None)) after connection broken by 'NewConnectionError('<urllib3.connection.HTTPConnection object at 0x7b3b4f405b70>: Failed to establish a new connection: [Errno 111] Connection refused')': /session/6152808e0e88ae97ed5f185cf7ce4b7f\n"
          ]
        },
        {
          "name": "stdout",
          "output_type": "stream",
          "text": [
            "Techjockey\n",
            "jhattse Related Best Software Solution | Techjockey.com\n",
            "Jhattse Pricing & Reviews 2023 | Techjockey.com\n"
          ]
        },
        {
          "name": "stderr",
          "output_type": "stream",
          "text": [
            "WARNING:urllib3.connectionpool:Retrying (Retry(total=2, connect=None, read=None, redirect=None, status=None)) after connection broken by 'NewConnectionError('<urllib3.connection.HTTPConnection object at 0x7b3b4f5aa260>: Failed to establish a new connection: [Errno 111] Connection refused')': /session/d29978f2814e7db8917048666a0d650f\n",
            "WARNING:urllib3.connectionpool:Retrying (Retry(total=1, connect=None, read=None, redirect=None, status=None)) after connection broken by 'NewConnectionError('<urllib3.connection.HTTPConnection object at 0x7b3b4f5a9750>: Failed to establish a new connection: [Errno 111] Connection refused')': /session/d29978f2814e7db8917048666a0d650f\n",
            "WARNING:urllib3.connectionpool:Retrying (Retry(total=0, connect=None, read=None, redirect=None, status=None)) after connection broken by 'NewConnectionError('<urllib3.connection.HTTPConnection object at 0x7b3b4e7d9030>: Failed to establish a new connection: [Errno 111] Connection refused')': /session/d29978f2814e7db8917048666a0d650f\n"
          ]
        },
        {
          "name": "stdout",
          "output_type": "stream",
          "text": [
            "Techjockey\n",
            "jhattse Related Best Software Solution | Techjockey.com\n",
            "Jhattse Pricing & Reviews 2023 | Techjockey.com\n"
          ]
        },
        {
          "name": "stderr",
          "output_type": "stream",
          "text": [
            "WARNING:urllib3.connectionpool:Retrying (Retry(total=2, connect=None, read=None, redirect=None, status=None)) after connection broken by 'NewConnectionError('<urllib3.connection.HTTPConnection object at 0x7b3b4e7da890>: Failed to establish a new connection: [Errno 111] Connection refused')': /session/4e0db236bc253ba99075b6c84ea4f332\n",
            "WARNING:urllib3.connectionpool:Retrying (Retry(total=1, connect=None, read=None, redirect=None, status=None)) after connection broken by 'NewConnectionError('<urllib3.connection.HTTPConnection object at 0x7b3b4e7d99c0>: Failed to establish a new connection: [Errno 111] Connection refused')': /session/4e0db236bc253ba99075b6c84ea4f332\n",
            "WARNING:urllib3.connectionpool:Retrying (Retry(total=0, connect=None, read=None, redirect=None, status=None)) after connection broken by 'NewConnectionError('<urllib3.connection.HTTPConnection object at 0x7b3b4e7d8070>: Failed to establish a new connection: [Errno 111] Connection refused')': /session/4e0db236bc253ba99075b6c84ea4f332\n"
          ]
        },
        {
          "name": "stdout",
          "output_type": "stream",
          "text": [
            "Techjockey\n",
            "jhattse Related Best Software Solution | Techjockey.com\n",
            "Jhattse Pricing & Reviews 2023 | Techjockey.com\n"
          ]
        },
        {
          "name": "stderr",
          "output_type": "stream",
          "text": [
            "WARNING:urllib3.connectionpool:Retrying (Retry(total=2, connect=None, read=None, redirect=None, status=None)) after connection broken by 'NewConnectionError('<urllib3.connection.HTTPConnection object at 0x7b3b4f406860>: Failed to establish a new connection: [Errno 111] Connection refused')': /session/5dd8f6409b61b8af831921ea56370865\n",
            "WARNING:urllib3.connectionpool:Retrying (Retry(total=1, connect=None, read=None, redirect=None, status=None)) after connection broken by 'NewConnectionError('<urllib3.connection.HTTPConnection object at 0x7b3b4f407ac0>: Failed to establish a new connection: [Errno 111] Connection refused')': /session/5dd8f6409b61b8af831921ea56370865\n",
            "WARNING:urllib3.connectionpool:Retrying (Retry(total=0, connect=None, read=None, redirect=None, status=None)) after connection broken by 'NewConnectionError('<urllib3.connection.HTTPConnection object at 0x7b3b4f405900>: Failed to establish a new connection: [Errno 111] Connection refused')': /session/5dd8f6409b61b8af831921ea56370865\n"
          ]
        },
        {
          "name": "stdout",
          "output_type": "stream",
          "text": [
            "Techjockey\n",
            "jhattse Related Best Software Solution | Techjockey.com\n",
            "Jhattse Pricing & Reviews 2023 | Techjockey.com\n"
          ]
        },
        {
          "name": "stderr",
          "output_type": "stream",
          "text": [
            "WARNING:urllib3.connectionpool:Retrying (Retry(total=2, connect=None, read=None, redirect=None, status=None)) after connection broken by 'NewConnectionError('<urllib3.connection.HTTPConnection object at 0x7b3b4f404520>: Failed to establish a new connection: [Errno 111] Connection refused')': /session/046b15478c4d5def3cb133778b1dbb52\n",
            "WARNING:urllib3.connectionpool:Retrying (Retry(total=1, connect=None, read=None, redirect=None, status=None)) after connection broken by 'NewConnectionError('<urllib3.connection.HTTPConnection object at 0x7b3b4f406740>: Failed to establish a new connection: [Errno 111] Connection refused')': /session/046b15478c4d5def3cb133778b1dbb52\n",
            "WARNING:urllib3.connectionpool:Retrying (Retry(total=0, connect=None, read=None, redirect=None, status=None)) after connection broken by 'NewConnectionError('<urllib3.connection.HTTPConnection object at 0x7b3b4f406860>: Failed to establish a new connection: [Errno 111] Connection refused')': /session/046b15478c4d5def3cb133778b1dbb52\n"
          ]
        },
        {
          "name": "stdout",
          "output_type": "stream",
          "text": [
            "Techjockey\n",
            "jhattse Related Best Software Solution | Techjockey.com\n",
            "Jhattse Pricing & Reviews 2023 | Techjockey.com\n"
          ]
        },
        {
          "name": "stderr",
          "output_type": "stream",
          "text": [
            "WARNING:urllib3.connectionpool:Retrying (Retry(total=2, connect=None, read=None, redirect=None, status=None)) after connection broken by 'NewConnectionError('<urllib3.connection.HTTPConnection object at 0x7b3b4e7d8c70>: Failed to establish a new connection: [Errno 111] Connection refused')': /session/21b88abae367438255f66829b1db5023\n",
            "WARNING:urllib3.connectionpool:Retrying (Retry(total=1, connect=None, read=None, redirect=None, status=None)) after connection broken by 'NewConnectionError('<urllib3.connection.HTTPConnection object at 0x7b3b4e7d8a60>: Failed to establish a new connection: [Errno 111] Connection refused')': /session/21b88abae367438255f66829b1db5023\n",
            "WARNING:urllib3.connectionpool:Retrying (Retry(total=0, connect=None, read=None, redirect=None, status=None)) after connection broken by 'NewConnectionError('<urllib3.connection.HTTPConnection object at 0x7b3b4e7dbcd0>: Failed to establish a new connection: [Errno 111] Connection refused')': /session/21b88abae367438255f66829b1db5023\n"
          ]
        },
        {
          "name": "stdout",
          "output_type": "stream",
          "text": [
            "Techjockey\n",
            "jhattse Related Best Software Solution | Techjockey.com\n",
            "Jhattse Pricing & Reviews 2023 | Techjockey.com\n"
          ]
        },
        {
          "name": "stderr",
          "output_type": "stream",
          "text": [
            "WARNING:urllib3.connectionpool:Retrying (Retry(total=2, connect=None, read=None, redirect=None, status=None)) after connection broken by 'NewConnectionError('<urllib3.connection.HTTPConnection object at 0x7b3b4e7da560>: Failed to establish a new connection: [Errno 111] Connection refused')': /session/f56441b33094d79dd31a67ffa4ea4e24\n",
            "WARNING:urllib3.connectionpool:Retrying (Retry(total=1, connect=None, read=None, redirect=None, status=None)) after connection broken by 'NewConnectionError('<urllib3.connection.HTTPConnection object at 0x7b3b4f5a96f0>: Failed to establish a new connection: [Errno 111] Connection refused')': /session/f56441b33094d79dd31a67ffa4ea4e24\n",
            "WARNING:urllib3.connectionpool:Retrying (Retry(total=0, connect=None, read=None, redirect=None, status=None)) after connection broken by 'NewConnectionError('<urllib3.connection.HTTPConnection object at 0x7b3b4f5aabc0>: Failed to establish a new connection: [Errno 111] Connection refused')': /session/f56441b33094d79dd31a67ffa4ea4e24\n"
          ]
        },
        {
          "name": "stdout",
          "output_type": "stream",
          "text": [
            "Techjockey\n",
            "jhattse Related Best Software Solution | Techjockey.com\n",
            "Jhattse Pricing & Reviews 2023 | Techjockey.com\n"
          ]
        },
        {
          "name": "stderr",
          "output_type": "stream",
          "text": [
            "WARNING:urllib3.connectionpool:Retrying (Retry(total=2, connect=None, read=None, redirect=None, status=None)) after connection broken by 'NewConnectionError('<urllib3.connection.HTTPConnection object at 0x7b3b4e5d8220>: Failed to establish a new connection: [Errno 111] Connection refused')': /session/557e36afd1086ab386fd13e2af9658ac\n",
            "WARNING:urllib3.connectionpool:Retrying (Retry(total=1, connect=None, read=None, redirect=None, status=None)) after connection broken by 'NewConnectionError('<urllib3.connection.HTTPConnection object at 0x7b3b4f404c10>: Failed to establish a new connection: [Errno 111] Connection refused')': /session/557e36afd1086ab386fd13e2af9658ac\n",
            "WARNING:urllib3.connectionpool:Retrying (Retry(total=0, connect=None, read=None, redirect=None, status=None)) after connection broken by 'NewConnectionError('<urllib3.connection.HTTPConnection object at 0x7b3b4f406c20>: Failed to establish a new connection: [Errno 111] Connection refused')': /session/557e36afd1086ab386fd13e2af9658ac\n"
          ]
        },
        {
          "name": "stdout",
          "output_type": "stream",
          "text": [
            "Techjockey\n",
            "jhattse Related Best Software Solution | Techjockey.com\n",
            "Jhattse Pricing & Reviews 2023 | Techjockey.com\n"
          ]
        },
        {
          "name": "stderr",
          "output_type": "stream",
          "text": [
            "WARNING:urllib3.connectionpool:Retrying (Retry(total=2, connect=None, read=None, redirect=None, status=None)) after connection broken by 'NewConnectionError('<urllib3.connection.HTTPConnection object at 0x7b3b4f405750>: Failed to establish a new connection: [Errno 111] Connection refused')': /session/4bacfe7d28fb2fdda7fa9b704c2aec3f\n",
            "WARNING:urllib3.connectionpool:Retrying (Retry(total=1, connect=None, read=None, redirect=None, status=None)) after connection broken by 'NewConnectionError('<urllib3.connection.HTTPConnection object at 0x7b3b4f404df0>: Failed to establish a new connection: [Errno 111] Connection refused')': /session/4bacfe7d28fb2fdda7fa9b704c2aec3f\n",
            "WARNING:urllib3.connectionpool:Retrying (Retry(total=0, connect=None, read=None, redirect=None, status=None)) after connection broken by 'NewConnectionError('<urllib3.connection.HTTPConnection object at 0x7b3b4f405540>: Failed to establish a new connection: [Errno 111] Connection refused')': /session/4bacfe7d28fb2fdda7fa9b704c2aec3f\n"
          ]
        },
        {
          "name": "stdout",
          "output_type": "stream",
          "text": [
            "Techjockey\n",
            "jhattse Related Best Software Solution | Techjockey.com\n",
            "Jhattse Pricing & Reviews 2023 | Techjockey.com\n",
            "Techjockey\n"
          ]
        },
        {
          "name": "stderr",
          "output_type": "stream",
          "text": [
            "WARNING:urllib3.connectionpool:Retrying (Retry(total=2, connect=None, read=None, redirect=None, status=None)) after connection broken by 'NewConnectionError('<urllib3.connection.HTTPConnection object at 0x7b3b4f5a8340>: Failed to establish a new connection: [Errno 111] Connection refused')': /session/a42ecc3737661e2bf7d1fefc29613330\n",
            "WARNING:urllib3.connectionpool:Retrying (Retry(total=1, connect=None, read=None, redirect=None, status=None)) after connection broken by 'NewConnectionError('<urllib3.connection.HTTPConnection object at 0x7b3b4f5a9750>: Failed to establish a new connection: [Errno 111] Connection refused')': /session/a42ecc3737661e2bf7d1fefc29613330\n",
            "WARNING:urllib3.connectionpool:Retrying (Retry(total=0, connect=None, read=None, redirect=None, status=None)) after connection broken by 'NewConnectionError('<urllib3.connection.HTTPConnection object at 0x7b3b4f5ab850>: Failed to establish a new connection: [Errno 111] Connection refused')': /session/a42ecc3737661e2bf7d1fefc29613330\n"
          ]
        },
        {
          "name": "stdout",
          "output_type": "stream",
          "text": [
            "jhattse Related Best Software Solution | Techjockey.com\n",
            "Jhattse Pricing & Reviews 2023 | Techjockey.com\n",
            "Techjockey\n"
          ]
        },
        {
          "name": "stderr",
          "output_type": "stream",
          "text": [
            "WARNING:urllib3.connectionpool:Retrying (Retry(total=2, connect=None, read=None, redirect=None, status=None)) after connection broken by 'NewConnectionError('<urllib3.connection.HTTPConnection object at 0x7b3b4e7d99c0>: Failed to establish a new connection: [Errno 111] Connection refused')': /session/34476f73bd1e4b35a36c26b1ff9279f2\n",
            "WARNING:urllib3.connectionpool:Retrying (Retry(total=1, connect=None, read=None, redirect=None, status=None)) after connection broken by 'NewConnectionError('<urllib3.connection.HTTPConnection object at 0x7b3b4e7da110>: Failed to establish a new connection: [Errno 111] Connection refused')': /session/34476f73bd1e4b35a36c26b1ff9279f2\n",
            "WARNING:urllib3.connectionpool:Retrying (Retry(total=0, connect=None, read=None, redirect=None, status=None)) after connection broken by 'NewConnectionError('<urllib3.connection.HTTPConnection object at 0x7b3b4e7db460>: Failed to establish a new connection: [Errno 111] Connection refused')': /session/34476f73bd1e4b35a36c26b1ff9279f2\n"
          ]
        },
        {
          "name": "stdout",
          "output_type": "stream",
          "text": [
            "jhattse Related Best Software Solution | Techjockey.com\n",
            "Jhattse Pricing & Reviews 2023 | Techjockey.com\n"
          ]
        },
        {
          "name": "stderr",
          "output_type": "stream",
          "text": [
            "WARNING:urllib3.connectionpool:Retrying (Retry(total=2, connect=None, read=None, redirect=None, status=None)) after connection broken by 'NewConnectionError('<urllib3.connection.HTTPConnection object at 0x7b3b4f405900>: Failed to establish a new connection: [Errno 111] Connection refused')': /session/dd0b7ccd27d79937fa01e9e8a7043e17\n",
            "WARNING:urllib3.connectionpool:Retrying (Retry(total=1, connect=None, read=None, redirect=None, status=None)) after connection broken by 'NewConnectionError('<urllib3.connection.HTTPConnection object at 0x7b3b4f4055a0>: Failed to establish a new connection: [Errno 111] Connection refused')': /session/dd0b7ccd27d79937fa01e9e8a7043e17\n",
            "WARNING:urllib3.connectionpool:Retrying (Retry(total=0, connect=None, read=None, redirect=None, status=None)) after connection broken by 'NewConnectionError('<urllib3.connection.HTTPConnection object at 0x7b3b4f404550>: Failed to establish a new connection: [Errno 111] Connection refused')': /session/dd0b7ccd27d79937fa01e9e8a7043e17\n"
          ]
        },
        {
          "name": "stdout",
          "output_type": "stream",
          "text": [
            "Techjockey\n",
            "jhattse Related Best Software Solution | Techjockey.com\n",
            "Jhattse Pricing & Reviews 2023 | Techjockey.com\n"
          ]
        },
        {
          "name": "stderr",
          "output_type": "stream",
          "text": [
            "WARNING:urllib3.connectionpool:Retrying (Retry(total=2, connect=None, read=None, redirect=None, status=None)) after connection broken by 'NewConnectionError('<urllib3.connection.HTTPConnection object at 0x7b3b4f4058a0>: Failed to establish a new connection: [Errno 111] Connection refused')': /session/faadab7482ae4e9583c6d85b90a33b84\n",
            "WARNING:urllib3.connectionpool:Retrying (Retry(total=1, connect=None, read=None, redirect=None, status=None)) after connection broken by 'NewConnectionError('<urllib3.connection.HTTPConnection object at 0x7b3b4f406f20>: Failed to establish a new connection: [Errno 111] Connection refused')': /session/faadab7482ae4e9583c6d85b90a33b84\n",
            "WARNING:urllib3.connectionpool:Retrying (Retry(total=0, connect=None, read=None, redirect=None, status=None)) after connection broken by 'NewConnectionError('<urllib3.connection.HTTPConnection object at 0x7b3b4f5a9bd0>: Failed to establish a new connection: [Errno 111] Connection refused')': /session/faadab7482ae4e9583c6d85b90a33b84\n"
          ]
        },
        {
          "name": "stdout",
          "output_type": "stream",
          "text": [
            "Techjockey\n",
            "jhattse Related Best Software Solution | Techjockey.com\n",
            "Jhattse Pricing & Reviews 2023 | Techjockey.com\n"
          ]
        },
        {
          "name": "stderr",
          "output_type": "stream",
          "text": [
            "WARNING:urllib3.connectionpool:Retrying (Retry(total=2, connect=None, read=None, redirect=None, status=None)) after connection broken by 'NewConnectionError('<urllib3.connection.HTTPConnection object at 0x7b3b4e7d9ae0>: Failed to establish a new connection: [Errno 111] Connection refused')': /session/cdaad8f8c6042e34c703f6802208122e\n",
            "WARNING:urllib3.connectionpool:Retrying (Retry(total=1, connect=None, read=None, redirect=None, status=None)) after connection broken by 'NewConnectionError('<urllib3.connection.HTTPConnection object at 0x7b3b4e7d9030>: Failed to establish a new connection: [Errno 111] Connection refused')': /session/cdaad8f8c6042e34c703f6802208122e\n",
            "WARNING:urllib3.connectionpool:Retrying (Retry(total=0, connect=None, read=None, redirect=None, status=None)) after connection broken by 'NewConnectionError('<urllib3.connection.HTTPConnection object at 0x7b3b4e7d88b0>: Failed to establish a new connection: [Errno 111] Connection refused')': /session/cdaad8f8c6042e34c703f6802208122e\n"
          ]
        },
        {
          "name": "stdout",
          "output_type": "stream",
          "text": [
            "Techjockey\n",
            "jhattse Related Best Software Solution | Techjockey.com\n",
            "Jhattse Pricing & Reviews 2023 | Techjockey.com\n"
          ]
        },
        {
          "name": "stderr",
          "output_type": "stream",
          "text": [
            "WARNING:urllib3.connectionpool:Retrying (Retry(total=2, connect=None, read=None, redirect=None, status=None)) after connection broken by 'NewConnectionError('<urllib3.connection.HTTPConnection object at 0x7b3b4f5a9750>: Failed to establish a new connection: [Errno 111] Connection refused')': /session/abfaaa413f7150e74a96f733a6f1a4ee\n",
            "WARNING:urllib3.connectionpool:Retrying (Retry(total=1, connect=None, read=None, redirect=None, status=None)) after connection broken by 'NewConnectionError('<urllib3.connection.HTTPConnection object at 0x7b3b4f5a8e50>: Failed to establish a new connection: [Errno 111] Connection refused')': /session/abfaaa413f7150e74a96f733a6f1a4ee\n",
            "WARNING:urllib3.connectionpool:Retrying (Retry(total=0, connect=None, read=None, redirect=None, status=None)) after connection broken by 'NewConnectionError('<urllib3.connection.HTTPConnection object at 0x7b3b4f405810>: Failed to establish a new connection: [Errno 111] Connection refused')': /session/abfaaa413f7150e74a96f733a6f1a4ee\n"
          ]
        },
        {
          "name": "stdout",
          "output_type": "stream",
          "text": [
            "Techjockey\n",
            "jhattse Related Best Software Solution | Techjockey.com\n",
            "Jhattse Pricing & Reviews 2023 | Techjockey.com\n"
          ]
        },
        {
          "name": "stderr",
          "output_type": "stream",
          "text": [
            "WARNING:urllib3.connectionpool:Retrying (Retry(total=2, connect=None, read=None, redirect=None, status=None)) after connection broken by 'NewConnectionError('<urllib3.connection.HTTPConnection object at 0x7b3b4f404b80>: Failed to establish a new connection: [Errno 111] Connection refused')': /session/4e008f5abddbe9d519165a3efc5cdbd9\n",
            "WARNING:urllib3.connectionpool:Retrying (Retry(total=1, connect=None, read=None, redirect=None, status=None)) after connection broken by 'NewConnectionError('<urllib3.connection.HTTPConnection object at 0x7b3b4f4054e0>: Failed to establish a new connection: [Errno 111] Connection refused')': /session/4e008f5abddbe9d519165a3efc5cdbd9\n",
            "WARNING:urllib3.connectionpool:Retrying (Retry(total=0, connect=None, read=None, redirect=None, status=None)) after connection broken by 'NewConnectionError('<urllib3.connection.HTTPConnection object at 0x7b3b4f405300>: Failed to establish a new connection: [Errno 111] Connection refused')': /session/4e008f5abddbe9d519165a3efc5cdbd9\n"
          ]
        },
        {
          "name": "stdout",
          "output_type": "stream",
          "text": [
            "Techjockey\n",
            "jhattse Related Best Software Solution | Techjockey.com\n",
            "Jhattse Pricing & Reviews 2023 | Techjockey.com\n"
          ]
        },
        {
          "name": "stderr",
          "output_type": "stream",
          "text": [
            "WARNING:urllib3.connectionpool:Retrying (Retry(total=2, connect=None, read=None, redirect=None, status=None)) after connection broken by 'NewConnectionError('<urllib3.connection.HTTPConnection object at 0x7b3b4e9c40a0>: Failed to establish a new connection: [Errno 111] Connection refused')': /session/9d1133ede62aea7ecd3713e758404410\n",
            "WARNING:urllib3.connectionpool:Retrying (Retry(total=1, connect=None, read=None, redirect=None, status=None)) after connection broken by 'NewConnectionError('<urllib3.connection.HTTPConnection object at 0x7b3b4e7dbf40>: Failed to establish a new connection: [Errno 111] Connection refused')': /session/9d1133ede62aea7ecd3713e758404410\n",
            "WARNING:urllib3.connectionpool:Retrying (Retry(total=0, connect=None, read=None, redirect=None, status=None)) after connection broken by 'NewConnectionError('<urllib3.connection.HTTPConnection object at 0x7b3b4e7d89a0>: Failed to establish a new connection: [Errno 111] Connection refused')': /session/9d1133ede62aea7ecd3713e758404410\n"
          ]
        },
        {
          "name": "stdout",
          "output_type": "stream",
          "text": [
            "Techjockey\n",
            "jhattse Related Best Software Solution | Techjockey.com\n",
            "Jhattse Pricing & Reviews 2023 | Techjockey.com\n"
          ]
        },
        {
          "name": "stderr",
          "output_type": "stream",
          "text": [
            "WARNING:urllib3.connectionpool:Retrying (Retry(total=2, connect=None, read=None, redirect=None, status=None)) after connection broken by 'NewConnectionError('<urllib3.connection.HTTPConnection object at 0x7b3b4e7d84f0>: Failed to establish a new connection: [Errno 111] Connection refused')': /session/68fdb4d688f6312623a818934db47ff8\n",
            "WARNING:urllib3.connectionpool:Retrying (Retry(total=1, connect=None, read=None, redirect=None, status=None)) after connection broken by 'NewConnectionError('<urllib3.connection.HTTPConnection object at 0x7b3b4e9c40a0>: Failed to establish a new connection: [Errno 111] Connection refused')': /session/68fdb4d688f6312623a818934db47ff8\n",
            "WARNING:urllib3.connectionpool:Retrying (Retry(total=0, connect=None, read=None, redirect=None, status=None)) after connection broken by 'NewConnectionError('<urllib3.connection.HTTPConnection object at 0x7b3b4e9c74c0>: Failed to establish a new connection: [Errno 111] Connection refused')': /session/68fdb4d688f6312623a818934db47ff8\n"
          ]
        },
        {
          "name": "stdout",
          "output_type": "stream",
          "text": [
            "Techjockey\n",
            "jhattse Related Best Software Solution | Techjockey.com\n",
            "Jhattse Pricing & Reviews 2023 | Techjockey.com\n"
          ]
        },
        {
          "name": "stderr",
          "output_type": "stream",
          "text": [
            "WARNING:urllib3.connectionpool:Retrying (Retry(total=2, connect=None, read=None, redirect=None, status=None)) after connection broken by 'NewConnectionError('<urllib3.connection.HTTPConnection object at 0x7b3b4f406bf0>: Failed to establish a new connection: [Errno 111] Connection refused')': /session/5996f2c628b002c0eb1d2af391ceb1a4\n",
            "WARNING:urllib3.connectionpool:Retrying (Retry(total=1, connect=None, read=None, redirect=None, status=None)) after connection broken by 'NewConnectionError('<urllib3.connection.HTTPConnection object at 0x7b3b4f4070a0>: Failed to establish a new connection: [Errno 111] Connection refused')': /session/5996f2c628b002c0eb1d2af391ceb1a4\n",
            "WARNING:urllib3.connectionpool:Retrying (Retry(total=0, connect=None, read=None, redirect=None, status=None)) after connection broken by 'NewConnectionError('<urllib3.connection.HTTPConnection object at 0x7b3b4f405b70>: Failed to establish a new connection: [Errno 111] Connection refused')': /session/5996f2c628b002c0eb1d2af391ceb1a4\n"
          ]
        },
        {
          "name": "stdout",
          "output_type": "stream",
          "text": [
            "Techjockey\n",
            "jhattse Related Best Software Solution | Techjockey.com\n",
            "Jhattse Pricing & Reviews 2023 | Techjockey.com\n"
          ]
        },
        {
          "name": "stderr",
          "output_type": "stream",
          "text": [
            "WARNING:urllib3.connectionpool:Retrying (Retry(total=2, connect=None, read=None, redirect=None, status=None)) after connection broken by 'NewConnectionError('<urllib3.connection.HTTPConnection object at 0x7b3b4f5a98d0>: Failed to establish a new connection: [Errno 111] Connection refused')': /session/21adce1d534df7ad014034137cb0800c\n",
            "WARNING:urllib3.connectionpool:Retrying (Retry(total=1, connect=None, read=None, redirect=None, status=None)) after connection broken by 'NewConnectionError('<urllib3.connection.HTTPConnection object at 0x7b3b4f5a87c0>: Failed to establish a new connection: [Errno 111] Connection refused')': /session/21adce1d534df7ad014034137cb0800c\n",
            "WARNING:urllib3.connectionpool:Retrying (Retry(total=0, connect=None, read=None, redirect=None, status=None)) after connection broken by 'NewConnectionError('<urllib3.connection.HTTPConnection object at 0x7b3b4f5ab850>: Failed to establish a new connection: [Errno 111] Connection refused')': /session/21adce1d534df7ad014034137cb0800c\n"
          ]
        },
        {
          "name": "stdout",
          "output_type": "stream",
          "text": [
            "Techjockey\n",
            "jhattse Related Best Software Solution | Techjockey.com\n",
            "Jhattse Pricing & Reviews 2023 | Techjockey.com\n"
          ]
        },
        {
          "name": "stderr",
          "output_type": "stream",
          "text": [
            "WARNING:urllib3.connectionpool:Retrying (Retry(total=2, connect=None, read=None, redirect=None, status=None)) after connection broken by 'NewConnectionError('<urllib3.connection.HTTPConnection object at 0x7b3b4e7d9cc0>: Failed to establish a new connection: [Errno 111] Connection refused')': /session/86b7ba32d81aec27fc71becd69986a6f\n",
            "WARNING:urllib3.connectionpool:Retrying (Retry(total=1, connect=None, read=None, redirect=None, status=None)) after connection broken by 'NewConnectionError('<urllib3.connection.HTTPConnection object at 0x7b3b4e7da470>: Failed to establish a new connection: [Errno 111] Connection refused')': /session/86b7ba32d81aec27fc71becd69986a6f\n",
            "WARNING:urllib3.connectionpool:Retrying (Retry(total=0, connect=None, read=None, redirect=None, status=None)) after connection broken by 'NewConnectionError('<urllib3.connection.HTTPConnection object at 0x7b3b4e7d8b80>: Failed to establish a new connection: [Errno 111] Connection refused')': /session/86b7ba32d81aec27fc71becd69986a6f\n"
          ]
        },
        {
          "name": "stdout",
          "output_type": "stream",
          "text": [
            "Techjockey\n",
            "jhattse Related Best Software Solution | Techjockey.com\n",
            "Jhattse Pricing & Reviews 2023 | Techjockey.com\n"
          ]
        },
        {
          "name": "stderr",
          "output_type": "stream",
          "text": [
            "WARNING:urllib3.connectionpool:Retrying (Retry(total=2, connect=None, read=None, redirect=None, status=None)) after connection broken by 'NewConnectionError('<urllib3.connection.HTTPConnection object at 0x7b3b4f405de0>: Failed to establish a new connection: [Errno 111] Connection refused')': /session/e3e07a0a3a1091babd11939928ba5727\n",
            "WARNING:urllib3.connectionpool:Retrying (Retry(total=1, connect=None, read=None, redirect=None, status=None)) after connection broken by 'NewConnectionError('<urllib3.connection.HTTPConnection object at 0x7b3b4f4069e0>: Failed to establish a new connection: [Errno 111] Connection refused')': /session/e3e07a0a3a1091babd11939928ba5727\n",
            "WARNING:urllib3.connectionpool:Retrying (Retry(total=0, connect=None, read=None, redirect=None, status=None)) after connection broken by 'NewConnectionError('<urllib3.connection.HTTPConnection object at 0x7b3b4f405bd0>: Failed to establish a new connection: [Errno 111] Connection refused')': /session/e3e07a0a3a1091babd11939928ba5727\n"
          ]
        },
        {
          "name": "stdout",
          "output_type": "stream",
          "text": [
            "Techjockey\n",
            "jhattse Related Best Software Solution | Techjockey.com\n",
            "Jhattse Pricing & Reviews 2023 | Techjockey.com\n"
          ]
        },
        {
          "name": "stderr",
          "output_type": "stream",
          "text": [
            "WARNING:urllib3.connectionpool:Retrying (Retry(total=2, connect=None, read=None, redirect=None, status=None)) after connection broken by 'NewConnectionError('<urllib3.connection.HTTPConnection object at 0x7b3b4f4042b0>: Failed to establish a new connection: [Errno 111] Connection refused')': /session/dba9ec7c764f27b816dc9f6972c3ce11\n",
            "WARNING:urllib3.connectionpool:Retrying (Retry(total=1, connect=None, read=None, redirect=None, status=None)) after connection broken by 'NewConnectionError('<urllib3.connection.HTTPConnection object at 0x7b3b4f4055a0>: Failed to establish a new connection: [Errno 111] Connection refused')': /session/dba9ec7c764f27b816dc9f6972c3ce11\n",
            "WARNING:urllib3.connectionpool:Retrying (Retry(total=0, connect=None, read=None, redirect=None, status=None)) after connection broken by 'NewConnectionError('<urllib3.connection.HTTPConnection object at 0x7b3b4e9c59f0>: Failed to establish a new connection: [Errno 111] Connection refused')': /session/dba9ec7c764f27b816dc9f6972c3ce11\n"
          ]
        },
        {
          "name": "stdout",
          "output_type": "stream",
          "text": [
            "Techjockey\n",
            "jhattse Related Best Software Solution | Techjockey.com\n",
            "Jhattse Pricing & Reviews 2023 | Techjockey.com\n"
          ]
        },
        {
          "name": "stderr",
          "output_type": "stream",
          "text": [
            "WARNING:urllib3.connectionpool:Retrying (Retry(total=2, connect=None, read=None, redirect=None, status=None)) after connection broken by 'NewConnectionError('<urllib3.connection.HTTPConnection object at 0x7b3b4e7db010>: Failed to establish a new connection: [Errno 111] Connection refused')': /session/cbc84930de337e26d7d8b258f7dfdbec\n",
            "WARNING:urllib3.connectionpool:Retrying (Retry(total=1, connect=None, read=None, redirect=None, status=None)) after connection broken by 'NewConnectionError('<urllib3.connection.HTTPConnection object at 0x7b3b4e7d9660>: Failed to establish a new connection: [Errno 111] Connection refused')': /session/cbc84930de337e26d7d8b258f7dfdbec\n",
            "WARNING:urllib3.connectionpool:Retrying (Retry(total=0, connect=None, read=None, redirect=None, status=None)) after connection broken by 'NewConnectionError('<urllib3.connection.HTTPConnection object at 0x7b3b4e7d9300>: Failed to establish a new connection: [Errno 111] Connection refused')': /session/cbc84930de337e26d7d8b258f7dfdbec\n"
          ]
        },
        {
          "name": "stdout",
          "output_type": "stream",
          "text": [
            "Techjockey\n",
            "jhattse Related Best Software Solution | Techjockey.com\n",
            "Jhattse Pricing & Reviews 2023 | Techjockey.com\n"
          ]
        },
        {
          "name": "stderr",
          "output_type": "stream",
          "text": [
            "WARNING:urllib3.connectionpool:Retrying (Retry(total=2, connect=None, read=None, redirect=None, status=None)) after connection broken by 'NewConnectionError('<urllib3.connection.HTTPConnection object at 0x7b3b4e9c79d0>: Failed to establish a new connection: [Errno 111] Connection refused')': /session/88ab382327c0e5a3b92aadfc11edb2c4\n",
            "WARNING:urllib3.connectionpool:Retrying (Retry(total=1, connect=None, read=None, redirect=None, status=None)) after connection broken by 'NewConnectionError('<urllib3.connection.HTTPConnection object at 0x7b3b4e728760>: Failed to establish a new connection: [Errno 111] Connection refused')': /session/88ab382327c0e5a3b92aadfc11edb2c4\n",
            "WARNING:urllib3.connectionpool:Retrying (Retry(total=0, connect=None, read=None, redirect=None, status=None)) after connection broken by 'NewConnectionError('<urllib3.connection.HTTPConnection object at 0x7b3b4e9c7b20>: Failed to establish a new connection: [Errno 111] Connection refused')': /session/88ab382327c0e5a3b92aadfc11edb2c4\n"
          ]
        },
        {
          "name": "stdout",
          "output_type": "stream",
          "text": [
            "Techjockey\n",
            "jhattse Related Best Software Solution | Techjockey.com\n",
            "Jhattse Pricing & Reviews 2023 | Techjockey.com\n"
          ]
        },
        {
          "name": "stderr",
          "output_type": "stream",
          "text": [
            "WARNING:urllib3.connectionpool:Retrying (Retry(total=2, connect=None, read=None, redirect=None, status=None)) after connection broken by 'NewConnectionError('<urllib3.connection.HTTPConnection object at 0x7b3b4f407dc0>: Failed to establish a new connection: [Errno 111] Connection refused')': /session/f5543f1433ef2484ef72460773e70a30\n",
            "WARNING:urllib3.connectionpool:Retrying (Retry(total=1, connect=None, read=None, redirect=None, status=None)) after connection broken by 'NewConnectionError('<urllib3.connection.HTTPConnection object at 0x7b3b4f405540>: Failed to establish a new connection: [Errno 111] Connection refused')': /session/f5543f1433ef2484ef72460773e70a30\n",
            "WARNING:urllib3.connectionpool:Retrying (Retry(total=0, connect=None, read=None, redirect=None, status=None)) after connection broken by 'NewConnectionError('<urllib3.connection.HTTPConnection object at 0x7b3b4f4070a0>: Failed to establish a new connection: [Errno 111] Connection refused')': /session/f5543f1433ef2484ef72460773e70a30\n"
          ]
        },
        {
          "name": "stdout",
          "output_type": "stream",
          "text": [
            "Techjockey\n",
            "jhattse Related Best Software Solution | Techjockey.com\n",
            "Jhattse Pricing & Reviews 2023 | Techjockey.com\n"
          ]
        },
        {
          "name": "stderr",
          "output_type": "stream",
          "text": [
            "WARNING:urllib3.connectionpool:Retrying (Retry(total=2, connect=None, read=None, redirect=None, status=None)) after connection broken by 'NewConnectionError('<urllib3.connection.HTTPConnection object at 0x7b3b4f5aabc0>: Failed to establish a new connection: [Errno 111] Connection refused')': /session/2c6375d8cd54966b00ae03f8f2772796\n",
            "WARNING:urllib3.connectionpool:Retrying (Retry(total=1, connect=None, read=None, redirect=None, status=None)) after connection broken by 'NewConnectionError('<urllib3.connection.HTTPConnection object at 0x7b3b4e7dbe20>: Failed to establish a new connection: [Errno 111] Connection refused')': /session/2c6375d8cd54966b00ae03f8f2772796\n",
            "WARNING:urllib3.connectionpool:Retrying (Retry(total=0, connect=None, read=None, redirect=None, status=None)) after connection broken by 'NewConnectionError('<urllib3.connection.HTTPConnection object at 0x7b3b4e7d8a90>: Failed to establish a new connection: [Errno 111] Connection refused')': /session/2c6375d8cd54966b00ae03f8f2772796\n"
          ]
        },
        {
          "name": "stdout",
          "output_type": "stream",
          "text": [
            "Techjockey\n",
            "jhattse Related Best Software Solution | Techjockey.com\n",
            "Jhattse Pricing & Reviews 2023 | Techjockey.com\n"
          ]
        },
        {
          "name": "stderr",
          "output_type": "stream",
          "text": [
            "WARNING:urllib3.connectionpool:Retrying (Retry(total=2, connect=None, read=None, redirect=None, status=None)) after connection broken by 'NewConnectionError('<urllib3.connection.HTTPConnection object at 0x7b3b4e7da7a0>: Failed to establish a new connection: [Errno 111] Connection refused')': /session/4f29d26a8a38165e4e31e52fc746e281\n",
            "WARNING:urllib3.connectionpool:Retrying (Retry(total=1, connect=None, read=None, redirect=None, status=None)) after connection broken by 'NewConnectionError('<urllib3.connection.HTTPConnection object at 0x7b3b4f5a9090>: Failed to establish a new connection: [Errno 111] Connection refused')': /session/4f29d26a8a38165e4e31e52fc746e281\n",
            "WARNING:urllib3.connectionpool:Retrying (Retry(total=0, connect=None, read=None, redirect=None, status=None)) after connection broken by 'NewConnectionError('<urllib3.connection.HTTPConnection object at 0x7b3b4f5abc40>: Failed to establish a new connection: [Errno 111] Connection refused')': /session/4f29d26a8a38165e4e31e52fc746e281\n"
          ]
        },
        {
          "name": "stdout",
          "output_type": "stream",
          "text": [
            "Techjockey\n",
            "jhattse Related Best Software Solution | Techjockey.com\n",
            "Jhattse Pricing & Reviews 2023 | Techjockey.com\n"
          ]
        },
        {
          "name": "stderr",
          "output_type": "stream",
          "text": [
            "WARNING:urllib3.connectionpool:Retrying (Retry(total=2, connect=None, read=None, redirect=None, status=None)) after connection broken by 'NewConnectionError('<urllib3.connection.HTTPConnection object at 0x7b3b4f4043a0>: Failed to establish a new connection: [Errno 111] Connection refused')': /session/df60a97ae53ea771036554cd94186f8d\n",
            "WARNING:urllib3.connectionpool:Retrying (Retry(total=1, connect=None, read=None, redirect=None, status=None)) after connection broken by 'NewConnectionError('<urllib3.connection.HTTPConnection object at 0x7b3b4f4058a0>: Failed to establish a new connection: [Errno 111] Connection refused')': /session/df60a97ae53ea771036554cd94186f8d\n",
            "WARNING:urllib3.connectionpool:Retrying (Retry(total=0, connect=None, read=None, redirect=None, status=None)) after connection broken by 'NewConnectionError('<urllib3.connection.HTTPConnection object at 0x7b3b4f4072e0>: Failed to establish a new connection: [Errno 111] Connection refused')': /session/df60a97ae53ea771036554cd94186f8d\n"
          ]
        },
        {
          "name": "stdout",
          "output_type": "stream",
          "text": [
            "Techjockey\n",
            "jhattse Related Best Software Solution | Techjockey.com\n",
            "Jhattse Pricing & Reviews 2023 | Techjockey.com\n"
          ]
        },
        {
          "name": "stderr",
          "output_type": "stream",
          "text": [
            "WARNING:urllib3.connectionpool:Retrying (Retry(total=2, connect=None, read=None, redirect=None, status=None)) after connection broken by 'NewConnectionError('<urllib3.connection.HTTPConnection object at 0x7b3b4e9c6230>: Failed to establish a new connection: [Errno 111] Connection refused')': /session/7ab6318fa75b7d164ba23b58afdabfb6\n",
            "WARNING:urllib3.connectionpool:Retrying (Retry(total=1, connect=None, read=None, redirect=None, status=None)) after connection broken by 'NewConnectionError('<urllib3.connection.HTTPConnection object at 0x7b3b4e9c58a0>: Failed to establish a new connection: [Errno 111] Connection refused')': /session/7ab6318fa75b7d164ba23b58afdabfb6\n",
            "WARNING:urllib3.connectionpool:Retrying (Retry(total=0, connect=None, read=None, redirect=None, status=None)) after connection broken by 'NewConnectionError('<urllib3.connection.HTTPConnection object at 0x7b3b4e9c6e60>: Failed to establish a new connection: [Errno 111] Connection refused')': /session/7ab6318fa75b7d164ba23b58afdabfb6\n"
          ]
        },
        {
          "name": "stdout",
          "output_type": "stream",
          "text": [
            "Techjockey\n",
            "jhattse Related Best Software Solution | Techjockey.com\n",
            "Jhattse Pricing & Reviews 2023 | Techjockey.com\n"
          ]
        },
        {
          "name": "stderr",
          "output_type": "stream",
          "text": [
            "WARNING:urllib3.connectionpool:Retrying (Retry(total=2, connect=None, read=None, redirect=None, status=None)) after connection broken by 'NewConnectionError('<urllib3.connection.HTTPConnection object at 0x7b3b4e7da200>: Failed to establish a new connection: [Errno 111] Connection refused')': /session/b0874e0d68dbd751f4d1fb1c0f329f77\n",
            "WARNING:urllib3.connectionpool:Retrying (Retry(total=1, connect=None, read=None, redirect=None, status=None)) after connection broken by 'NewConnectionError('<urllib3.connection.HTTPConnection object at 0x7b3b4e7db8e0>: Failed to establish a new connection: [Errno 111] Connection refused')': /session/b0874e0d68dbd751f4d1fb1c0f329f77\n",
            "WARNING:urllib3.connectionpool:Retrying (Retry(total=0, connect=None, read=None, redirect=None, status=None)) after connection broken by 'NewConnectionError('<urllib3.connection.HTTPConnection object at 0x7b3b4e7d9060>: Failed to establish a new connection: [Errno 111] Connection refused')': /session/b0874e0d68dbd751f4d1fb1c0f329f77\n"
          ]
        },
        {
          "name": "stdout",
          "output_type": "stream",
          "text": [
            "Techjockey\n",
            "jhattse Related Best Software Solution | Techjockey.com\n",
            "Jhattse Pricing & Reviews 2023 | Techjockey.com\n"
          ]
        },
        {
          "name": "stderr",
          "output_type": "stream",
          "text": [
            "WARNING:urllib3.connectionpool:Retrying (Retry(total=2, connect=None, read=None, redirect=None, status=None)) after connection broken by 'NewConnectionError('<urllib3.connection.HTTPConnection object at 0x7b3b4f406e00>: Failed to establish a new connection: [Errno 111] Connection refused')': /session/a7b31ab1aa7c5b6166631c7211d3ab05\n",
            "WARNING:urllib3.connectionpool:Retrying (Retry(total=1, connect=None, read=None, redirect=None, status=None)) after connection broken by 'NewConnectionError('<urllib3.connection.HTTPConnection object at 0x7b3b4f404370>: Failed to establish a new connection: [Errno 111] Connection refused')': /session/a7b31ab1aa7c5b6166631c7211d3ab05\n",
            "WARNING:urllib3.connectionpool:Retrying (Retry(total=0, connect=None, read=None, redirect=None, status=None)) after connection broken by 'NewConnectionError('<urllib3.connection.HTTPConnection object at 0x7b3b4f4052d0>: Failed to establish a new connection: [Errno 111] Connection refused')': /session/a7b31ab1aa7c5b6166631c7211d3ab05\n"
          ]
        },
        {
          "name": "stdout",
          "output_type": "stream",
          "text": [
            "Techjockey\n",
            "jhattse Related Best Software Solution | Techjockey.com\n",
            "Jhattse Pricing & Reviews 2023 | Techjockey.com\n"
          ]
        },
        {
          "name": "stderr",
          "output_type": "stream",
          "text": [
            "WARNING:urllib3.connectionpool:Retrying (Retry(total=2, connect=None, read=None, redirect=None, status=None)) after connection broken by 'NewConnectionError('<urllib3.connection.HTTPConnection object at 0x7b3b4f5a83a0>: Failed to establish a new connection: [Errno 111] Connection refused')': /session/bc9bd8b0cb1594c1089e9e8d06c497fa\n",
            "WARNING:urllib3.connectionpool:Retrying (Retry(total=1, connect=None, read=None, redirect=None, status=None)) after connection broken by 'NewConnectionError('<urllib3.connection.HTTPConnection object at 0x7b3b4f405de0>: Failed to establish a new connection: [Errno 111] Connection refused')': /session/bc9bd8b0cb1594c1089e9e8d06c497fa\n",
            "WARNING:urllib3.connectionpool:Retrying (Retry(total=0, connect=None, read=None, redirect=None, status=None)) after connection broken by 'NewConnectionError('<urllib3.connection.HTTPConnection object at 0x7b3b4e9c4490>: Failed to establish a new connection: [Errno 111] Connection refused')': /session/bc9bd8b0cb1594c1089e9e8d06c497fa\n"
          ]
        },
        {
          "name": "stdout",
          "output_type": "stream",
          "text": [
            "Techjockey\n",
            "jhattse Related Best Software Solution | Techjockey.com\n",
            "Jhattse Pricing & Reviews 2023 | Techjockey.com\n"
          ]
        },
        {
          "name": "stderr",
          "output_type": "stream",
          "text": [
            "WARNING:urllib3.connectionpool:Retrying (Retry(total=2, connect=None, read=None, redirect=None, status=None)) after connection broken by 'NewConnectionError('<urllib3.connection.HTTPConnection object at 0x7b3b4e7db430>: Failed to establish a new connection: [Errno 111] Connection refused')': /session/df6034f03e66edf78cd140661691d21d\n",
            "WARNING:urllib3.connectionpool:Retrying (Retry(total=1, connect=None, read=None, redirect=None, status=None)) after connection broken by 'NewConnectionError('<urllib3.connection.HTTPConnection object at 0x7b3b4e7d8e80>: Failed to establish a new connection: [Errno 111] Connection refused')': /session/df6034f03e66edf78cd140661691d21d\n",
            "WARNING:urllib3.connectionpool:Retrying (Retry(total=0, connect=None, read=None, redirect=None, status=None)) after connection broken by 'NewConnectionError('<urllib3.connection.HTTPConnection object at 0x7b3b4e7db6a0>: Failed to establish a new connection: [Errno 111] Connection refused')': /session/df6034f03e66edf78cd140661691d21d\n"
          ]
        },
        {
          "name": "stdout",
          "output_type": "stream",
          "text": [
            "Techjockey\n",
            "jhattse Related Best Software Solution | Techjockey.com\n",
            "Jhattse Pricing & Reviews 2023 | Techjockey.com\n"
          ]
        },
        {
          "name": "stderr",
          "output_type": "stream",
          "text": [
            "WARNING:urllib3.connectionpool:Retrying (Retry(total=2, connect=None, read=None, redirect=None, status=None)) after connection broken by 'NewConnectionError('<urllib3.connection.HTTPConnection object at 0x7b3b4e7d8d90>: Failed to establish a new connection: [Errno 111] Connection refused')': /session/d2faf1e3d1c821e86e949bf70ecda26c\n",
            "WARNING:urllib3.connectionpool:Retrying (Retry(total=1, connect=None, read=None, redirect=None, status=None)) after connection broken by 'NewConnectionError('<urllib3.connection.HTTPConnection object at 0x7b3b4e7dab60>: Failed to establish a new connection: [Errno 111] Connection refused')': /session/d2faf1e3d1c821e86e949bf70ecda26c\n",
            "WARNING:urllib3.connectionpool:Retrying (Retry(total=0, connect=None, read=None, redirect=None, status=None)) after connection broken by 'NewConnectionError('<urllib3.connection.HTTPConnection object at 0x7b3b4e7d8d00>: Failed to establish a new connection: [Errno 111] Connection refused')': /session/d2faf1e3d1c821e86e949bf70ecda26c\n"
          ]
        },
        {
          "name": "stdout",
          "output_type": "stream",
          "text": [
            "Techjockey\n",
            "jhattse Related Best Software Solution | Techjockey.com\n",
            "Jhattse Pricing & Reviews 2023 | Techjockey.com\n"
          ]
        },
        {
          "name": "stderr",
          "output_type": "stream",
          "text": [
            "WARNING:urllib3.connectionpool:Retrying (Retry(total=2, connect=None, read=None, redirect=None, status=None)) after connection broken by 'NewConnectionError('<urllib3.connection.HTTPConnection object at 0x7b3b4e9c4490>: Failed to establish a new connection: [Errno 111] Connection refused')': /session/2ec84b2f266ec0d09d9c6698c9f7067d\n",
            "WARNING:urllib3.connectionpool:Retrying (Retry(total=1, connect=None, read=None, redirect=None, status=None)) after connection broken by 'NewConnectionError('<urllib3.connection.HTTPConnection object at 0x7b3b4e7db430>: Failed to establish a new connection: [Errno 111] Connection refused')': /session/2ec84b2f266ec0d09d9c6698c9f7067d\n",
            "WARNING:urllib3.connectionpool:Retrying (Retry(total=0, connect=None, read=None, redirect=None, status=None)) after connection broken by 'NewConnectionError('<urllib3.connection.HTTPConnection object at 0x7b3b4f5a9ae0>: Failed to establish a new connection: [Errno 111] Connection refused')': /session/2ec84b2f266ec0d09d9c6698c9f7067d\n"
          ]
        },
        {
          "name": "stdout",
          "output_type": "stream",
          "text": [
            "Techjockey\n",
            "jhattse Related Best Software Solution | Techjockey.com\n",
            "Jhattse Pricing & Reviews 2023 | Techjockey.com\n"
          ]
        },
        {
          "name": "stderr",
          "output_type": "stream",
          "text": [
            "WARNING:urllib3.connectionpool:Retrying (Retry(total=2, connect=None, read=None, redirect=None, status=None)) after connection broken by 'NewConnectionError('<urllib3.connection.HTTPConnection object at 0x7b3b4f4077c0>: Failed to establish a new connection: [Errno 111] Connection refused')': /session/894bd00c60736d9d4b9e332a5ae4719a\n",
            "WARNING:urllib3.connectionpool:Retrying (Retry(total=1, connect=None, read=None, redirect=None, status=None)) after connection broken by 'NewConnectionError('<urllib3.connection.HTTPConnection object at 0x7b3b4f4072e0>: Failed to establish a new connection: [Errno 111] Connection refused')': /session/894bd00c60736d9d4b9e332a5ae4719a\n",
            "WARNING:urllib3.connectionpool:Retrying (Retry(total=0, connect=None, read=None, redirect=None, status=None)) after connection broken by 'NewConnectionError('<urllib3.connection.HTTPConnection object at 0x7b3b4f404520>: Failed to establish a new connection: [Errno 111] Connection refused')': /session/894bd00c60736d9d4b9e332a5ae4719a\n"
          ]
        },
        {
          "name": "stdout",
          "output_type": "stream",
          "text": [
            "Techjockey\n",
            "jhattse Related Best Software Solution | Techjockey.com\n",
            "Jhattse Pricing & Reviews 2023 | Techjockey.com\n"
          ]
        },
        {
          "name": "stderr",
          "output_type": "stream",
          "text": [
            "WARNING:urllib3.connectionpool:Retrying (Retry(total=2, connect=None, read=None, redirect=None, status=None)) after connection broken by 'NewConnectionError('<urllib3.connection.HTTPConnection object at 0x7b3b4e77e050>: Failed to establish a new connection: [Errno 111] Connection refused')': /session/0bc742a982ecc5ba841d83eb1ccee126\n",
            "WARNING:urllib3.connectionpool:Retrying (Retry(total=1, connect=None, read=None, redirect=None, status=None)) after connection broken by 'NewConnectionError('<urllib3.connection.HTTPConnection object at 0x7b3b4f404b50>: Failed to establish a new connection: [Errno 111] Connection refused')': /session/0bc742a982ecc5ba841d83eb1ccee126\n",
            "WARNING:urllib3.connectionpool:Retrying (Retry(total=0, connect=None, read=None, redirect=None, status=None)) after connection broken by 'NewConnectionError('<urllib3.connection.HTTPConnection object at 0x7b3b4f407820>: Failed to establish a new connection: [Errno 111] Connection refused')': /session/0bc742a982ecc5ba841d83eb1ccee126\n"
          ]
        },
        {
          "name": "stdout",
          "output_type": "stream",
          "text": [
            "Techjockey\n",
            "jhattse Related Best Software Solution | Techjockey.com\n",
            "Jhattse Pricing & Reviews 2023 | Techjockey.com\n"
          ]
        },
        {
          "name": "stderr",
          "output_type": "stream",
          "text": [
            "WARNING:urllib3.connectionpool:Retrying (Retry(total=2, connect=None, read=None, redirect=None, status=None)) after connection broken by 'NewConnectionError('<urllib3.connection.HTTPConnection object at 0x7b3b4f5abc40>: Failed to establish a new connection: [Errno 111] Connection refused')': /session/c04f2554a8f5829e8af8905ffd6aad4d\n",
            "WARNING:urllib3.connectionpool:Retrying (Retry(total=1, connect=None, read=None, redirect=None, status=None)) after connection broken by 'NewConnectionError('<urllib3.connection.HTTPConnection object at 0x7b3b4f4052d0>: Failed to establish a new connection: [Errno 111] Connection refused')': /session/c04f2554a8f5829e8af8905ffd6aad4d\n",
            "WARNING:urllib3.connectionpool:Retrying (Retry(total=0, connect=None, read=None, redirect=None, status=None)) after connection broken by 'NewConnectionError('<urllib3.connection.HTTPConnection object at 0x7b3b4f4079a0>: Failed to establish a new connection: [Errno 111] Connection refused')': /session/c04f2554a8f5829e8af8905ffd6aad4d\n"
          ]
        },
        {
          "name": "stdout",
          "output_type": "stream",
          "text": [
            "Techjockey\n",
            "jhattse Related Best Software Solution | Techjockey.com\n",
            "Jhattse Pricing & Reviews 2023 | Techjockey.com\n"
          ]
        },
        {
          "name": "stderr",
          "output_type": "stream",
          "text": [
            "WARNING:urllib3.connectionpool:Retrying (Retry(total=2, connect=None, read=None, redirect=None, status=None)) after connection broken by 'NewConnectionError('<urllib3.connection.HTTPConnection object at 0x7b3b4e7d8130>: Failed to establish a new connection: [Errno 111] Connection refused')': /session/8e9b9db447cbd0aa0234793cb7779d6f\n",
            "WARNING:urllib3.connectionpool:Retrying (Retry(total=1, connect=None, read=None, redirect=None, status=None)) after connection broken by 'NewConnectionError('<urllib3.connection.HTTPConnection object at 0x7b3b4e7d8730>: Failed to establish a new connection: [Errno 111] Connection refused')': /session/8e9b9db447cbd0aa0234793cb7779d6f\n",
            "WARNING:urllib3.connectionpool:Retrying (Retry(total=0, connect=None, read=None, redirect=None, status=None)) after connection broken by 'NewConnectionError('<urllib3.connection.HTTPConnection object at 0x7b3b4e7d8ca0>: Failed to establish a new connection: [Errno 111] Connection refused')': /session/8e9b9db447cbd0aa0234793cb7779d6f\n"
          ]
        },
        {
          "name": "stdout",
          "output_type": "stream",
          "text": [
            "Techjockey\n",
            "jhattse Related Best Software Solution | Techjockey.com\n",
            "Jhattse Pricing & Reviews 2023 | Techjockey.com\n"
          ]
        },
        {
          "name": "stderr",
          "output_type": "stream",
          "text": [
            "WARNING:urllib3.connectionpool:Retrying (Retry(total=2, connect=None, read=None, redirect=None, status=None)) after connection broken by 'NewConnectionError('<urllib3.connection.HTTPConnection object at 0x7b3b4e7d8880>: Failed to establish a new connection: [Errno 111] Connection refused')': /session/88d99905ea48ec5a001ae67e934fb1ff\n",
            "WARNING:urllib3.connectionpool:Retrying (Retry(total=1, connect=None, read=None, redirect=None, status=None)) after connection broken by 'NewConnectionError('<urllib3.connection.HTTPConnection object at 0x7b3b4e77ec20>: Failed to establish a new connection: [Errno 111] Connection refused')': /session/88d99905ea48ec5a001ae67e934fb1ff\n",
            "WARNING:urllib3.connectionpool:Retrying (Retry(total=0, connect=None, read=None, redirect=None, status=None)) after connection broken by 'NewConnectionError('<urllib3.connection.HTTPConnection object at 0x7b3b4e77f910>: Failed to establish a new connection: [Errno 111] Connection refused')': /session/88d99905ea48ec5a001ae67e934fb1ff\n"
          ]
        },
        {
          "name": "stdout",
          "output_type": "stream",
          "text": [
            "Techjockey\n",
            "jhattse Related Best Software Solution | Techjockey.com\n",
            "Jhattse Pricing & Reviews 2023 | Techjockey.com\n"
          ]
        },
        {
          "name": "stderr",
          "output_type": "stream",
          "text": [
            "WARNING:urllib3.connectionpool:Retrying (Retry(total=2, connect=None, read=None, redirect=None, status=None)) after connection broken by 'NewConnectionError('<urllib3.connection.HTTPConnection object at 0x7b3b4e7da590>: Failed to establish a new connection: [Errno 111] Connection refused')': /session/599ede1cd215e6075a7376045418c8a4\n",
            "WARNING:urllib3.connectionpool:Retrying (Retry(total=1, connect=None, read=None, redirect=None, status=None)) after connection broken by 'NewConnectionError('<urllib3.connection.HTTPConnection object at 0x7b3b4e9c79d0>: Failed to establish a new connection: [Errno 111] Connection refused')': /session/599ede1cd215e6075a7376045418c8a4\n",
            "WARNING:urllib3.connectionpool:Retrying (Retry(total=0, connect=None, read=None, redirect=None, status=None)) after connection broken by 'NewConnectionError('<urllib3.connection.HTTPConnection object at 0x7b3b4e9c72b0>: Failed to establish a new connection: [Errno 111] Connection refused')': /session/599ede1cd215e6075a7376045418c8a4\n"
          ]
        },
        {
          "name": "stdout",
          "output_type": "stream",
          "text": [
            "Techjockey\n",
            "jhattse Related Best Software Solution | Techjockey.com\n",
            "Jhattse Pricing & Reviews 2023 | Techjockey.com\n"
          ]
        },
        {
          "name": "stderr",
          "output_type": "stream",
          "text": [
            "WARNING:urllib3.connectionpool:Retrying (Retry(total=2, connect=None, read=None, redirect=None, status=None)) after connection broken by 'NewConnectionError('<urllib3.connection.HTTPConnection object at 0x7b3b4f5a9090>: Failed to establish a new connection: [Errno 111] Connection refused')': /session/736e6c4857dc51d7a01005de7dbf7142\n",
            "WARNING:urllib3.connectionpool:Retrying (Retry(total=1, connect=None, read=None, redirect=None, status=None)) after connection broken by 'NewConnectionError('<urllib3.connection.HTTPConnection object at 0x7b3b4f405120>: Failed to establish a new connection: [Errno 111] Connection refused')': /session/736e6c4857dc51d7a01005de7dbf7142\n",
            "WARNING:urllib3.connectionpool:Retrying (Retry(total=0, connect=None, read=None, redirect=None, status=None)) after connection broken by 'NewConnectionError('<urllib3.connection.HTTPConnection object at 0x7b3b4f4053c0>: Failed to establish a new connection: [Errno 111] Connection refused')': /session/736e6c4857dc51d7a01005de7dbf7142\n"
          ]
        },
        {
          "name": "stdout",
          "output_type": "stream",
          "text": [
            "Techjockey\n",
            "jhattse Related Best Software Solution | Techjockey.com\n",
            "Jhattse Pricing & Reviews 2023 | Techjockey.com\n"
          ]
        },
        {
          "name": "stderr",
          "output_type": "stream",
          "text": [
            "WARNING:urllib3.connectionpool:Retrying (Retry(total=2, connect=None, read=None, redirect=None, status=None)) after connection broken by 'NewConnectionError('<urllib3.connection.HTTPConnection object at 0x7b3b4f4055a0>: Failed to establish a new connection: [Errno 111] Connection refused')': /session/f8b5495b3abb33e3dd5132bd6079036a\n",
            "WARNING:urllib3.connectionpool:Retrying (Retry(total=1, connect=None, read=None, redirect=None, status=None)) after connection broken by 'NewConnectionError('<urllib3.connection.HTTPConnection object at 0x7b3b4e5d8910>: Failed to establish a new connection: [Errno 111] Connection refused')': /session/f8b5495b3abb33e3dd5132bd6079036a\n",
            "WARNING:urllib3.connectionpool:Retrying (Retry(total=0, connect=None, read=None, redirect=None, status=None)) after connection broken by 'NewConnectionError('<urllib3.connection.HTTPConnection object at 0x7b3b4e5d90c0>: Failed to establish a new connection: [Errno 111] Connection refused')': /session/f8b5495b3abb33e3dd5132bd6079036a\n"
          ]
        },
        {
          "name": "stdout",
          "output_type": "stream",
          "text": [
            "Techjockey\n",
            "jhattse Related Best Software Solution | Techjockey.com\n",
            "Jhattse Pricing & Reviews 2023 | Techjockey.com\n"
          ]
        },
        {
          "name": "stderr",
          "output_type": "stream",
          "text": [
            "WARNING:urllib3.connectionpool:Retrying (Retry(total=2, connect=None, read=None, redirect=None, status=None)) after connection broken by 'NewConnectionError('<urllib3.connection.HTTPConnection object at 0x7b3b4f405750>: Failed to establish a new connection: [Errno 111] Connection refused')': /session/32597a6608599019a58f64fd3c381c83\n",
            "WARNING:urllib3.connectionpool:Retrying (Retry(total=1, connect=None, read=None, redirect=None, status=None)) after connection broken by 'NewConnectionError('<urllib3.connection.HTTPConnection object at 0x7b3b4f407be0>: Failed to establish a new connection: [Errno 111] Connection refused')': /session/32597a6608599019a58f64fd3c381c83\n",
            "WARNING:urllib3.connectionpool:Retrying (Retry(total=0, connect=None, read=None, redirect=None, status=None)) after connection broken by 'NewConnectionError('<urllib3.connection.HTTPConnection object at 0x7b3b4e728bb0>: Failed to establish a new connection: [Errno 111] Connection refused')': /session/32597a6608599019a58f64fd3c381c83\n"
          ]
        },
        {
          "name": "stdout",
          "output_type": "stream",
          "text": [
            "Techjockey\n",
            "jhattse Related Best Software Solution | Techjockey.com\n",
            "Jhattse Pricing & Reviews 2023 | Techjockey.com\n"
          ]
        },
        {
          "name": "stderr",
          "output_type": "stream",
          "text": [
            "WARNING:urllib3.connectionpool:Retrying (Retry(total=2, connect=None, read=None, redirect=None, status=None)) after connection broken by 'NewConnectionError('<urllib3.connection.HTTPConnection object at 0x7b3b4f5a83a0>: Failed to establish a new connection: [Errno 111] Connection refused')': /session/a0eeacd00595603ebf3f0179d00bf0d9\n",
            "WARNING:urllib3.connectionpool:Retrying (Retry(total=1, connect=None, read=None, redirect=None, status=None)) after connection broken by 'NewConnectionError('<urllib3.connection.HTTPConnection object at 0x7b3b4e9c59f0>: Failed to establish a new connection: [Errno 111] Connection refused')': /session/a0eeacd00595603ebf3f0179d00bf0d9\n",
            "WARNING:urllib3.connectionpool:Retrying (Retry(total=0, connect=None, read=None, redirect=None, status=None)) after connection broken by 'NewConnectionError('<urllib3.connection.HTTPConnection object at 0x7b3b4e9c79d0>: Failed to establish a new connection: [Errno 111] Connection refused')': /session/a0eeacd00595603ebf3f0179d00bf0d9\n"
          ]
        },
        {
          "name": "stdout",
          "output_type": "stream",
          "text": [
            "Techjockey\n",
            "jhattse Related Best Software Solution | Techjockey.com\n",
            "Jhattse Pricing & Reviews 2023 | Techjockey.com\n",
            "Techjockey\n"
          ]
        },
        {
          "name": "stderr",
          "output_type": "stream",
          "text": [
            "WARNING:urllib3.connectionpool:Retrying (Retry(total=2, connect=None, read=None, redirect=None, status=None)) after connection broken by 'NewConnectionError('<urllib3.connection.HTTPConnection object at 0x7b3b4e7d9090>: Failed to establish a new connection: [Errno 111] Connection refused')': /session/7e9a173b51dcef7915bf88a8a5bf5f9f\n",
            "WARNING:urllib3.connectionpool:Retrying (Retry(total=1, connect=None, read=None, redirect=None, status=None)) after connection broken by 'NewConnectionError('<urllib3.connection.HTTPConnection object at 0x7b3b4e77ee00>: Failed to establish a new connection: [Errno 111] Connection refused')': /session/7e9a173b51dcef7915bf88a8a5bf5f9f\n",
            "WARNING:urllib3.connectionpool:Retrying (Retry(total=0, connect=None, read=None, redirect=None, status=None)) after connection broken by 'NewConnectionError('<urllib3.connection.HTTPConnection object at 0x7b3b4e77ec80>: Failed to establish a new connection: [Errno 111] Connection refused')': /session/7e9a173b51dcef7915bf88a8a5bf5f9f\n"
          ]
        },
        {
          "name": "stdout",
          "output_type": "stream",
          "text": [
            "jhattse Related Best Software Solution | Techjockey.com\n",
            "Jhattse Pricing & Reviews 2023 | Techjockey.com\n"
          ]
        },
        {
          "name": "stderr",
          "output_type": "stream",
          "text": [
            "WARNING:urllib3.connectionpool:Retrying (Retry(total=2, connect=None, read=None, redirect=None, status=None)) after connection broken by 'NewConnectionError('<urllib3.connection.HTTPConnection object at 0x7b3b4e5d94b0>: Failed to establish a new connection: [Errno 111] Connection refused')': /session/0bb55f2b7b789bb92d854b864ed9df6b\n",
            "WARNING:urllib3.connectionpool:Retrying (Retry(total=1, connect=None, read=None, redirect=None, status=None)) after connection broken by 'NewConnectionError('<urllib3.connection.HTTPConnection object at 0x7b3b4e77fac0>: Failed to establish a new connection: [Errno 111] Connection refused')': /session/0bb55f2b7b789bb92d854b864ed9df6b\n",
            "WARNING:urllib3.connectionpool:Retrying (Retry(total=0, connect=None, read=None, redirect=None, status=None)) after connection broken by 'NewConnectionError('<urllib3.connection.HTTPConnection object at 0x7b3b4e77fdc0>: Failed to establish a new connection: [Errno 111] Connection refused')': /session/0bb55f2b7b789bb92d854b864ed9df6b\n"
          ]
        },
        {
          "name": "stdout",
          "output_type": "stream",
          "text": [
            "Techjockey\n",
            "jhattse Related Best Software Solution | Techjockey.com\n",
            "Jhattse Pricing & Reviews 2023 | Techjockey.com\n"
          ]
        },
        {
          "name": "stderr",
          "output_type": "stream",
          "text": [
            "WARNING:urllib3.connectionpool:Retrying (Retry(total=2, connect=None, read=None, redirect=None, status=None)) after connection broken by 'NewConnectionError('<urllib3.connection.HTTPConnection object at 0x7b3b4f406860>: Failed to establish a new connection: [Errno 111] Connection refused')': /session/6bf8410afe902f4e4a08a12dec3fc439\n",
            "WARNING:urllib3.connectionpool:Retrying (Retry(total=1, connect=None, read=None, redirect=None, status=None)) after connection broken by 'NewConnectionError('<urllib3.connection.HTTPConnection object at 0x7b3b4f406ad0>: Failed to establish a new connection: [Errno 111] Connection refused')': /session/6bf8410afe902f4e4a08a12dec3fc439\n",
            "WARNING:urllib3.connectionpool:Retrying (Retry(total=0, connect=None, read=None, redirect=None, status=None)) after connection broken by 'NewConnectionError('<urllib3.connection.HTTPConnection object at 0x7b3b4f406e00>: Failed to establish a new connection: [Errno 111] Connection refused')': /session/6bf8410afe902f4e4a08a12dec3fc439\n"
          ]
        },
        {
          "name": "stdout",
          "output_type": "stream",
          "text": [
            "Techjockey\n",
            "jhattse Related Best Software Solution | Techjockey.com\n",
            "Jhattse Pricing & Reviews 2023 | Techjockey.com\n"
          ]
        },
        {
          "name": "stderr",
          "output_type": "stream",
          "text": [
            "WARNING:urllib3.connectionpool:Retrying (Retry(total=2, connect=None, read=None, redirect=None, status=None)) after connection broken by 'NewConnectionError('<urllib3.connection.HTTPConnection object at 0x7b3b4f407eb0>: Failed to establish a new connection: [Errno 111] Connection refused')': /session/8c9be8768c1a908c26c7a2a8f72724e8\n",
            "WARNING:urllib3.connectionpool:Retrying (Retry(total=1, connect=None, read=None, redirect=None, status=None)) after connection broken by 'NewConnectionError('<urllib3.connection.HTTPConnection object at 0x7b3b4f5a98d0>: Failed to establish a new connection: [Errno 111] Connection refused')': /session/8c9be8768c1a908c26c7a2a8f72724e8\n",
            "WARNING:urllib3.connectionpool:Retrying (Retry(total=0, connect=None, read=None, redirect=None, status=None)) after connection broken by 'NewConnectionError('<urllib3.connection.HTTPConnection object at 0x7b3b4f5a8070>: Failed to establish a new connection: [Errno 111] Connection refused')': /session/8c9be8768c1a908c26c7a2a8f72724e8\n"
          ]
        },
        {
          "name": "stdout",
          "output_type": "stream",
          "text": [
            "Techjockey\n",
            "jhattse Related Best Software Solution | Techjockey.com\n",
            "Jhattse Pricing & Reviews 2023 | Techjockey.com\n"
          ]
        },
        {
          "name": "stderr",
          "output_type": "stream",
          "text": [
            "WARNING:urllib3.connectionpool:Retrying (Retry(total=2, connect=None, read=None, redirect=None, status=None)) after connection broken by 'NewConnectionError('<urllib3.connection.HTTPConnection object at 0x7b3b4e9c63e0>: Failed to establish a new connection: [Errno 111] Connection refused')': /session/edc6edd7996cce4821799c4ff1e10520\n",
            "WARNING:urllib3.connectionpool:Retrying (Retry(total=1, connect=None, read=None, redirect=None, status=None)) after connection broken by 'NewConnectionError('<urllib3.connection.HTTPConnection object at 0x7b3b4e9c72b0>: Failed to establish a new connection: [Errno 111] Connection refused')': /session/edc6edd7996cce4821799c4ff1e10520\n",
            "WARNING:urllib3.connectionpool:Retrying (Retry(total=0, connect=None, read=None, redirect=None, status=None)) after connection broken by 'NewConnectionError('<urllib3.connection.HTTPConnection object at 0x7b3b4e7db190>: Failed to establish a new connection: [Errno 111] Connection refused')': /session/edc6edd7996cce4821799c4ff1e10520\n"
          ]
        },
        {
          "name": "stdout",
          "output_type": "stream",
          "text": [
            "Techjockey\n",
            "jhattse Related Best Software Solution | Techjockey.com\n",
            "Jhattse Pricing & Reviews 2023 | Techjockey.com\n"
          ]
        },
        {
          "name": "stderr",
          "output_type": "stream",
          "text": [
            "WARNING:urllib3.connectionpool:Retrying (Retry(total=2, connect=None, read=None, redirect=None, status=None)) after connection broken by 'NewConnectionError('<urllib3.connection.HTTPConnection object at 0x7b3b4e9c4490>: Failed to establish a new connection: [Errno 111] Connection refused')': /session/84a3c57e53239d145e6b8fd962ec9105\n",
            "WARNING:urllib3.connectionpool:Retrying (Retry(total=1, connect=None, read=None, redirect=None, status=None)) after connection broken by 'NewConnectionError('<urllib3.connection.HTTPConnection object at 0x7b3b4e9c7400>: Failed to establish a new connection: [Errno 111] Connection refused')': /session/84a3c57e53239d145e6b8fd962ec9105\n",
            "WARNING:urllib3.connectionpool:Retrying (Retry(total=0, connect=None, read=None, redirect=None, status=None)) after connection broken by 'NewConnectionError('<urllib3.connection.HTTPConnection object at 0x7b3b4f5a9de0>: Failed to establish a new connection: [Errno 111] Connection refused')': /session/84a3c57e53239d145e6b8fd962ec9105\n"
          ]
        },
        {
          "name": "stdout",
          "output_type": "stream",
          "text": [
            "Techjockey\n",
            "jhattse Related Best Software Solution | Techjockey.com\n",
            "Jhattse Pricing & Reviews 2023 | Techjockey.com\n"
          ]
        },
        {
          "name": "stderr",
          "output_type": "stream",
          "text": [
            "WARNING:urllib3.connectionpool:Retrying (Retry(total=2, connect=None, read=None, redirect=None, status=None)) after connection broken by 'NewConnectionError('<urllib3.connection.HTTPConnection object at 0x7b3b4f405960>: Failed to establish a new connection: [Errno 111] Connection refused')': /session/8a509e8f59b115d68a68795718765b27\n",
            "WARNING:urllib3.connectionpool:Retrying (Retry(total=1, connect=None, read=None, redirect=None, status=None)) after connection broken by 'NewConnectionError('<urllib3.connection.HTTPConnection object at 0x7b3b4f405570>: Failed to establish a new connection: [Errno 111] Connection refused')': /session/8a509e8f59b115d68a68795718765b27\n",
            "WARNING:urllib3.connectionpool:Retrying (Retry(total=0, connect=None, read=None, redirect=None, status=None)) after connection broken by 'NewConnectionError('<urllib3.connection.HTTPConnection object at 0x7b3b4f407eb0>: Failed to establish a new connection: [Errno 111] Connection refused')': /session/8a509e8f59b115d68a68795718765b27\n"
          ]
        },
        {
          "name": "stdout",
          "output_type": "stream",
          "text": [
            "Techjockey\n",
            "jhattse Related Best Software Solution | Techjockey.com\n",
            "Jhattse Pricing & Reviews 2023 | Techjockey.com\n"
          ]
        },
        {
          "name": "stderr",
          "output_type": "stream",
          "text": [
            "WARNING:urllib3.connectionpool:Retrying (Retry(total=2, connect=None, read=None, redirect=None, status=None)) after connection broken by 'NewConnectionError('<urllib3.connection.HTTPConnection object at 0x7b3b4f406860>: Failed to establish a new connection: [Errno 111] Connection refused')': /session/bbad5fed7411e8e7f6dc6e7d76927f6f\n",
            "WARNING:urllib3.connectionpool:Retrying (Retry(total=1, connect=None, read=None, redirect=None, status=None)) after connection broken by 'NewConnectionError('<urllib3.connection.HTTPConnection object at 0x7b3b4f407820>: Failed to establish a new connection: [Errno 111] Connection refused')': /session/bbad5fed7411e8e7f6dc6e7d76927f6f\n",
            "WARNING:urllib3.connectionpool:Retrying (Retry(total=0, connect=None, read=None, redirect=None, status=None)) after connection broken by 'NewConnectionError('<urllib3.connection.HTTPConnection object at 0x7b3b4e77fd00>: Failed to establish a new connection: [Errno 111] Connection refused')': /session/bbad5fed7411e8e7f6dc6e7d76927f6f\n"
          ]
        },
        {
          "name": "stdout",
          "output_type": "stream",
          "text": [
            "Techjockey\n",
            "jhattse Related Best Software Solution | Techjockey.com\n",
            "Jhattse Pricing & Reviews 2023 | Techjockey.com\n"
          ]
        },
        {
          "name": "stderr",
          "output_type": "stream",
          "text": [
            "WARNING:urllib3.connectionpool:Retrying (Retry(total=2, connect=None, read=None, redirect=None, status=None)) after connection broken by 'NewConnectionError('<urllib3.connection.HTTPConnection object at 0x7b3b4e7dbfa0>: Failed to establish a new connection: [Errno 111] Connection refused')': /session/e16ef69bf34a79ab4d1048331454db9b\n",
            "WARNING:urllib3.connectionpool:Retrying (Retry(total=1, connect=None, read=None, redirect=None, status=None)) after connection broken by 'NewConnectionError('<urllib3.connection.HTTPConnection object at 0x7b3b4e77dff0>: Failed to establish a new connection: [Errno 111] Connection refused')': /session/e16ef69bf34a79ab4d1048331454db9b\n",
            "WARNING:urllib3.connectionpool:Retrying (Retry(total=0, connect=None, read=None, redirect=None, status=None)) after connection broken by 'NewConnectionError('<urllib3.connection.HTTPConnection object at 0x7b3b4e77ed10>: Failed to establish a new connection: [Errno 111] Connection refused')': /session/e16ef69bf34a79ab4d1048331454db9b\n"
          ]
        },
        {
          "name": "stdout",
          "output_type": "stream",
          "text": [
            "Techjockey\n",
            "jhattse Related Best Software Solution | Techjockey.com\n",
            "Jhattse Pricing & Reviews 2023 | Techjockey.com\n"
          ]
        },
        {
          "name": "stderr",
          "output_type": "stream",
          "text": [
            "WARNING:urllib3.connectionpool:Retrying (Retry(total=2, connect=None, read=None, redirect=None, status=None)) after connection broken by 'NewConnectionError('<urllib3.connection.HTTPConnection object at 0x7b3b4f4043a0>: Failed to establish a new connection: [Errno 111] Connection refused')': /session/608b30ea1fdaabc619b6ca215737e957\n",
            "WARNING:urllib3.connectionpool:Retrying (Retry(total=1, connect=None, read=None, redirect=None, status=None)) after connection broken by 'NewConnectionError('<urllib3.connection.HTTPConnection object at 0x7b3b4f405900>: Failed to establish a new connection: [Errno 111] Connection refused')': /session/608b30ea1fdaabc619b6ca215737e957\n",
            "WARNING:urllib3.connectionpool:Retrying (Retry(total=0, connect=None, read=None, redirect=None, status=None)) after connection broken by 'NewConnectionError('<urllib3.connection.HTTPConnection object at 0x7b3b4f404490>: Failed to establish a new connection: [Errno 111] Connection refused')': /session/608b30ea1fdaabc619b6ca215737e957\n"
          ]
        },
        {
          "name": "stdout",
          "output_type": "stream",
          "text": [
            "Techjockey\n",
            "jhattse Related Best Software Solution | Techjockey.com\n",
            "Jhattse Pricing & Reviews 2023 | Techjockey.com\n"
          ]
        },
        {
          "name": "stderr",
          "output_type": "stream",
          "text": [
            "WARNING:urllib3.connectionpool:Retrying (Retry(total=2, connect=None, read=None, redirect=None, status=None)) after connection broken by 'NewConnectionError('<urllib3.connection.HTTPConnection object at 0x7b3b4f5a9090>: Failed to establish a new connection: [Errno 111] Connection refused')': /session/e9a8d20b8fa7e574302b874fe4394967\n",
            "WARNING:urllib3.connectionpool:Retrying (Retry(total=1, connect=None, read=None, redirect=None, status=None)) after connection broken by 'NewConnectionError('<urllib3.connection.HTTPConnection object at 0x7b3b4f5aabc0>: Failed to establish a new connection: [Errno 111] Connection refused')': /session/e9a8d20b8fa7e574302b874fe4394967\n",
            "WARNING:urllib3.connectionpool:Retrying (Retry(total=0, connect=None, read=None, redirect=None, status=None)) after connection broken by 'NewConnectionError('<urllib3.connection.HTTPConnection object at 0x7b3b4f5a9240>: Failed to establish a new connection: [Errno 111] Connection refused')': /session/e9a8d20b8fa7e574302b874fe4394967\n"
          ]
        },
        {
          "name": "stdout",
          "output_type": "stream",
          "text": [
            "Techjockey\n",
            "jhattse Related Best Software Solution | Techjockey.com\n",
            "Jhattse Pricing & Reviews 2023 | Techjockey.com\n"
          ]
        },
        {
          "name": "stderr",
          "output_type": "stream",
          "text": [
            "WARNING:urllib3.connectionpool:Retrying (Retry(total=2, connect=None, read=None, redirect=None, status=None)) after connection broken by 'NewConnectionError('<urllib3.connection.HTTPConnection object at 0x7b3b4e7d8130>: Failed to establish a new connection: [Errno 111] Connection refused')': /session/cc21206f0f1b94ba0059f59af7c98fe8\n",
            "WARNING:urllib3.connectionpool:Retrying (Retry(total=1, connect=None, read=None, redirect=None, status=None)) after connection broken by 'NewConnectionError('<urllib3.connection.HTTPConnection object at 0x7b3b4e7d8250>: Failed to establish a new connection: [Errno 111] Connection refused')': /session/cc21206f0f1b94ba0059f59af7c98fe8\n",
            "WARNING:urllib3.connectionpool:Retrying (Retry(total=0, connect=None, read=None, redirect=None, status=None)) after connection broken by 'NewConnectionError('<urllib3.connection.HTTPConnection object at 0x7b3b4e7d8880>: Failed to establish a new connection: [Errno 111] Connection refused')': /session/cc21206f0f1b94ba0059f59af7c98fe8\n"
          ]
        },
        {
          "name": "stdout",
          "output_type": "stream",
          "text": [
            "Techjockey\n",
            "jhattse Related Best Software Solution | Techjockey.com\n",
            "Jhattse Pricing & Reviews 2023 | Techjockey.com\n"
          ]
        },
        {
          "name": "stderr",
          "output_type": "stream",
          "text": [
            "WARNING:urllib3.connectionpool:Retrying (Retry(total=2, connect=None, read=None, redirect=None, status=None)) after connection broken by 'NewConnectionError('<urllib3.connection.HTTPConnection object at 0x7b3b4f5a9090>: Failed to establish a new connection: [Errno 111] Connection refused')': /session/cae21d18790321e5d29e8889533edc16\n",
            "WARNING:urllib3.connectionpool:Retrying (Retry(total=1, connect=None, read=None, redirect=None, status=None)) after connection broken by 'NewConnectionError('<urllib3.connection.HTTPConnection object at 0x7b3b4f4063e0>: Failed to establish a new connection: [Errno 111] Connection refused')': /session/cae21d18790321e5d29e8889533edc16\n",
            "WARNING:urllib3.connectionpool:Retrying (Retry(total=0, connect=None, read=None, redirect=None, status=None)) after connection broken by 'NewConnectionError('<urllib3.connection.HTTPConnection object at 0x7b3b4f404b50>: Failed to establish a new connection: [Errno 111] Connection refused')': /session/cae21d18790321e5d29e8889533edc16\n"
          ]
        },
        {
          "name": "stdout",
          "output_type": "stream",
          "text": [
            "Techjockey\n",
            "jhattse Related Best Software Solution | Techjockey.com\n",
            "Jhattse Pricing & Reviews 2023 | Techjockey.com\n"
          ]
        },
        {
          "name": "stderr",
          "output_type": "stream",
          "text": [
            "WARNING:urllib3.connectionpool:Retrying (Retry(total=2, connect=None, read=None, redirect=None, status=None)) after connection broken by 'NewConnectionError('<urllib3.connection.HTTPConnection object at 0x7b3b4f404370>: Failed to establish a new connection: [Errno 111] Connection refused')': /session/89652d5f1aca0a2f2aae1d58b905b6af\n",
            "WARNING:urllib3.connectionpool:Retrying (Retry(total=1, connect=None, read=None, redirect=None, status=None)) after connection broken by 'NewConnectionError('<urllib3.connection.HTTPConnection object at 0x7b3b4f4072e0>: Failed to establish a new connection: [Errno 111] Connection refused')': /session/89652d5f1aca0a2f2aae1d58b905b6af\n",
            "WARNING:urllib3.connectionpool:Retrying (Retry(total=0, connect=None, read=None, redirect=None, status=None)) after connection broken by 'NewConnectionError('<urllib3.connection.HTTPConnection object at 0x7b3b4f405570>: Failed to establish a new connection: [Errno 111] Connection refused')': /session/89652d5f1aca0a2f2aae1d58b905b6af\n"
          ]
        },
        {
          "name": "stdout",
          "output_type": "stream",
          "text": [
            "Techjockey\n",
            "jhattse Related Best Software Solution | Techjockey.com\n",
            "Jhattse Pricing & Reviews 2023 | Techjockey.com\n"
          ]
        },
        {
          "name": "stderr",
          "output_type": "stream",
          "text": [
            "WARNING:urllib3.connectionpool:Retrying (Retry(total=2, connect=None, read=None, redirect=None, status=None)) after connection broken by 'NewConnectionError('<urllib3.connection.HTTPConnection object at 0x7b3b4e7d97e0>: Failed to establish a new connection: [Errno 111] Connection refused')': /session/adbd18b6650d61407b044825194c0fdb\n",
            "WARNING:urllib3.connectionpool:Retrying (Retry(total=1, connect=None, read=None, redirect=None, status=None)) after connection broken by 'NewConnectionError('<urllib3.connection.HTTPConnection object at 0x7b3b4e7d88e0>: Failed to establish a new connection: [Errno 111] Connection refused')': /session/adbd18b6650d61407b044825194c0fdb\n",
            "WARNING:urllib3.connectionpool:Retrying (Retry(total=0, connect=None, read=None, redirect=None, status=None)) after connection broken by 'NewConnectionError('<urllib3.connection.HTTPConnection object at 0x7b3b4e7d86a0>: Failed to establish a new connection: [Errno 111] Connection refused')': /session/adbd18b6650d61407b044825194c0fdb\n"
          ]
        },
        {
          "name": "stdout",
          "output_type": "stream",
          "text": [
            "Techjockey\n",
            "jhattse Related Best Software Solution | Techjockey.com\n",
            "Jhattse Pricing & Reviews 2023 | Techjockey.com\n"
          ]
        },
        {
          "name": "stderr",
          "output_type": "stream",
          "text": [
            "WARNING:urllib3.connectionpool:Retrying (Retry(total=2, connect=None, read=None, redirect=None, status=None)) after connection broken by 'NewConnectionError('<urllib3.connection.HTTPConnection object at 0x7b3b4e77dff0>: Failed to establish a new connection: [Errno 111] Connection refused')': /session/a8875ed9ff0c0c755dbe32899072c3df\n",
            "WARNING:urllib3.connectionpool:Retrying (Retry(total=1, connect=None, read=None, redirect=None, status=None)) after connection broken by 'NewConnectionError('<urllib3.connection.HTTPConnection object at 0x7b3b4e77e980>: Failed to establish a new connection: [Errno 111] Connection refused')': /session/a8875ed9ff0c0c755dbe32899072c3df\n",
            "WARNING:urllib3.connectionpool:Retrying (Retry(total=0, connect=None, read=None, redirect=None, status=None)) after connection broken by 'NewConnectionError('<urllib3.connection.HTTPConnection object at 0x7b3b4f404040>: Failed to establish a new connection: [Errno 111] Connection refused')': /session/a8875ed9ff0c0c755dbe32899072c3df\n"
          ]
        },
        {
          "name": "stdout",
          "output_type": "stream",
          "text": [
            "Techjockey\n",
            "jhattse Related Best Software Solution | Techjockey.com\n",
            "Jhattse Pricing & Reviews 2023 | Techjockey.com\n"
          ]
        },
        {
          "name": "stderr",
          "output_type": "stream",
          "text": [
            "WARNING:urllib3.connectionpool:Retrying (Retry(total=2, connect=None, read=None, redirect=None, status=None)) after connection broken by 'NewConnectionError('<urllib3.connection.HTTPConnection object at 0x7b3b4f406200>: Failed to establish a new connection: [Errno 111] Connection refused')': /session/f49de8472bad4c333940cfba4c9e7fc0\n",
            "WARNING:urllib3.connectionpool:Retrying (Retry(total=1, connect=None, read=None, redirect=None, status=None)) after connection broken by 'NewConnectionError('<urllib3.connection.HTTPConnection object at 0x7b3b4f406f20>: Failed to establish a new connection: [Errno 111] Connection refused')': /session/f49de8472bad4c333940cfba4c9e7fc0\n",
            "WARNING:urllib3.connectionpool:Retrying (Retry(total=0, connect=None, read=None, redirect=None, status=None)) after connection broken by 'NewConnectionError('<urllib3.connection.HTTPConnection object at 0x7b3b4f405870>: Failed to establish a new connection: [Errno 111] Connection refused')': /session/f49de8472bad4c333940cfba4c9e7fc0\n"
          ]
        },
        {
          "name": "stdout",
          "output_type": "stream",
          "text": [
            "Techjockey\n",
            "jhattse Related Best Software Solution | Techjockey.com\n",
            "Jhattse Pricing & Reviews 2023 | Techjockey.com\n"
          ]
        },
        {
          "name": "stderr",
          "output_type": "stream",
          "text": [
            "WARNING:urllib3.connectionpool:Retrying (Retry(total=2, connect=None, read=None, redirect=None, status=None)) after connection broken by 'NewConnectionError('<urllib3.connection.HTTPConnection object at 0x7b3b4f5a9900>: Failed to establish a new connection: [Errno 111] Connection refused')': /session/b7c016561cdc3f873d00fff0722dfe32\n",
            "WARNING:urllib3.connectionpool:Retrying (Retry(total=1, connect=None, read=None, redirect=None, status=None)) after connection broken by 'NewConnectionError('<urllib3.connection.HTTPConnection object at 0x7b3b4f5a9240>: Failed to establish a new connection: [Errno 111] Connection refused')': /session/b7c016561cdc3f873d00fff0722dfe32\n",
            "WARNING:urllib3.connectionpool:Retrying (Retry(total=0, connect=None, read=None, redirect=None, status=None)) after connection broken by 'NewConnectionError('<urllib3.connection.HTTPConnection object at 0x7b3b4e7da290>: Failed to establish a new connection: [Errno 111] Connection refused')': /session/b7c016561cdc3f873d00fff0722dfe32\n"
          ]
        },
        {
          "name": "stdout",
          "output_type": "stream",
          "text": [
            "Techjockey\n",
            "jhattse Related Best Software Solution | Techjockey.com\n",
            "Jhattse Pricing & Reviews 2023 | Techjockey.com\n"
          ]
        },
        {
          "name": "stderr",
          "output_type": "stream",
          "text": [
            "WARNING:urllib3.connectionpool:Retrying (Retry(total=2, connect=None, read=None, redirect=None, status=None)) after connection broken by 'NewConnectionError('<urllib3.connection.HTTPConnection object at 0x7b3b4e7d8d00>: Failed to establish a new connection: [Errno 111] Connection refused')': /session/2c8db12d4e37a46c7300c43c5caa8ab0\n",
            "WARNING:urllib3.connectionpool:Retrying (Retry(total=1, connect=None, read=None, redirect=None, status=None)) after connection broken by 'NewConnectionError('<urllib3.connection.HTTPConnection object at 0x7b3b4f5a87c0>: Failed to establish a new connection: [Errno 111] Connection refused')': /session/2c8db12d4e37a46c7300c43c5caa8ab0\n",
            "WARNING:urllib3.connectionpool:Retrying (Retry(total=0, connect=None, read=None, redirect=None, status=None)) after connection broken by 'NewConnectionError('<urllib3.connection.HTTPConnection object at 0x7b3b4f5a9240>: Failed to establish a new connection: [Errno 111] Connection refused')': /session/2c8db12d4e37a46c7300c43c5caa8ab0\n"
          ]
        },
        {
          "name": "stdout",
          "output_type": "stream",
          "text": [
            "Techjockey\n",
            "jhattse Related Best Software Solution | Techjockey.com\n",
            "Jhattse Pricing & Reviews 2023 | Techjockey.com\n"
          ]
        },
        {
          "name": "stderr",
          "output_type": "stream",
          "text": [
            "WARNING:urllib3.connectionpool:Retrying (Retry(total=2, connect=None, read=None, redirect=None, status=None)) after connection broken by 'NewConnectionError('<urllib3.connection.HTTPConnection object at 0x7b3b4f406200>: Failed to establish a new connection: [Errno 111] Connection refused')': /session/616ecded4d852d4d77b95135ebb6ae95\n",
            "WARNING:urllib3.connectionpool:Retrying (Retry(total=1, connect=None, read=None, redirect=None, status=None)) after connection broken by 'NewConnectionError('<urllib3.connection.HTTPConnection object at 0x7b3b4f407ac0>: Failed to establish a new connection: [Errno 111] Connection refused')': /session/616ecded4d852d4d77b95135ebb6ae95\n",
            "WARNING:urllib3.connectionpool:Retrying (Retry(total=0, connect=None, read=None, redirect=None, status=None)) after connection broken by 'NewConnectionError('<urllib3.connection.HTTPConnection object at 0x7b3b4f404c10>: Failed to establish a new connection: [Errno 111] Connection refused')': /session/616ecded4d852d4d77b95135ebb6ae95\n"
          ]
        },
        {
          "name": "stdout",
          "output_type": "stream",
          "text": [
            "Techjockey\n",
            "jhattse Related Best Software Solution | Techjockey.com\n",
            "Jhattse Pricing & Reviews 2023 | Techjockey.com\n"
          ]
        },
        {
          "name": "stderr",
          "output_type": "stream",
          "text": [
            "WARNING:urllib3.connectionpool:Retrying (Retry(total=2, connect=None, read=None, redirect=None, status=None)) after connection broken by 'NewConnectionError('<urllib3.connection.HTTPConnection object at 0x7b3b4f4053c0>: Failed to establish a new connection: [Errno 111] Connection refused')': /session/0ba44c5b424d9768fff2499085256c92\n",
            "WARNING:urllib3.connectionpool:Retrying (Retry(total=1, connect=None, read=None, redirect=None, status=None)) after connection broken by 'NewConnectionError('<urllib3.connection.HTTPConnection object at 0x7b3b4e77faf0>: Failed to establish a new connection: [Errno 111] Connection refused')': /session/0ba44c5b424d9768fff2499085256c92\n",
            "WARNING:urllib3.connectionpool:Retrying (Retry(total=0, connect=None, read=None, redirect=None, status=None)) after connection broken by 'NewConnectionError('<urllib3.connection.HTTPConnection object at 0x7b3b4e77ed10>: Failed to establish a new connection: [Errno 111] Connection refused')': /session/0ba44c5b424d9768fff2499085256c92\n"
          ]
        },
        {
          "name": "stdout",
          "output_type": "stream",
          "text": [
            "Techjockey\n",
            "jhattse Related Best Software Solution | Techjockey.com\n",
            "Jhattse Pricing & Reviews 2023 | Techjockey.com\n"
          ]
        },
        {
          "name": "stderr",
          "output_type": "stream",
          "text": [
            "WARNING:urllib3.connectionpool:Retrying (Retry(total=2, connect=None, read=None, redirect=None, status=None)) after connection broken by 'NewConnectionError('<urllib3.connection.HTTPConnection object at 0x7b3b4e7d9780>: Failed to establish a new connection: [Errno 111] Connection refused')': /session/f773703b7e2eca3fbf4b41ce65bef506\n",
            "WARNING:urllib3.connectionpool:Retrying (Retry(total=1, connect=None, read=None, redirect=None, status=None)) after connection broken by 'NewConnectionError('<urllib3.connection.HTTPConnection object at 0x7b3b4e7dad70>: Failed to establish a new connection: [Errno 111] Connection refused')': /session/f773703b7e2eca3fbf4b41ce65bef506\n",
            "WARNING:urllib3.connectionpool:Retrying (Retry(total=0, connect=None, read=None, redirect=None, status=None)) after connection broken by 'NewConnectionError('<urllib3.connection.HTTPConnection object at 0x7b3b4e7da230>: Failed to establish a new connection: [Errno 111] Connection refused')': /session/f773703b7e2eca3fbf4b41ce65bef506\n"
          ]
        },
        {
          "name": "stdout",
          "output_type": "stream",
          "text": [
            "Techjockey\n",
            "jhattse Related Best Software Solution | Techjockey.com\n",
            "Jhattse Pricing & Reviews 2023 | Techjockey.com\n"
          ]
        },
        {
          "name": "stderr",
          "output_type": "stream",
          "text": [
            "WARNING:urllib3.connectionpool:Retrying (Retry(total=2, connect=None, read=None, redirect=None, status=None)) after connection broken by 'NewConnectionError('<urllib3.connection.HTTPConnection object at 0x7b3b4f404520>: Failed to establish a new connection: [Errno 111] Connection refused')': /session/675caaad147bac4bc7b3d52ff7ddc707\n",
            "WARNING:urllib3.connectionpool:Retrying (Retry(total=1, connect=None, read=None, redirect=None, status=None)) after connection broken by 'NewConnectionError('<urllib3.connection.HTTPConnection object at 0x7b3b4f4060b0>: Failed to establish a new connection: [Errno 111] Connection refused')': /session/675caaad147bac4bc7b3d52ff7ddc707\n",
            "WARNING:urllib3.connectionpool:Retrying (Retry(total=0, connect=None, read=None, redirect=None, status=None)) after connection broken by 'NewConnectionError('<urllib3.connection.HTTPConnection object at 0x7b3b4f404220>: Failed to establish a new connection: [Errno 111] Connection refused')': /session/675caaad147bac4bc7b3d52ff7ddc707\n"
          ]
        },
        {
          "name": "stdout",
          "output_type": "stream",
          "text": [
            "Techjockey\n",
            "jhattse Related Best Software Solution | Techjockey.com\n",
            "Jhattse Pricing & Reviews 2023 | Techjockey.com\n"
          ]
        },
        {
          "name": "stderr",
          "output_type": "stream",
          "text": [
            "WARNING:urllib3.connectionpool:Retrying (Retry(total=2, connect=None, read=None, redirect=None, status=None)) after connection broken by 'NewConnectionError('<urllib3.connection.HTTPConnection object at 0x7b3b4f4056f0>: Failed to establish a new connection: [Errno 111] Connection refused')': /session/9700895661bbce1934576d6641149d95\n",
            "WARNING:urllib3.connectionpool:Retrying (Retry(total=1, connect=None, read=None, redirect=None, status=None)) after connection broken by 'NewConnectionError('<urllib3.connection.HTTPConnection object at 0x7b3b4f5a9900>: Failed to establish a new connection: [Errno 111] Connection refused')': /session/9700895661bbce1934576d6641149d95\n",
            "WARNING:urllib3.connectionpool:Retrying (Retry(total=0, connect=None, read=None, redirect=None, status=None)) after connection broken by 'NewConnectionError('<urllib3.connection.HTTPConnection object at 0x7b3b4f5ab850>: Failed to establish a new connection: [Errno 111] Connection refused')': /session/9700895661bbce1934576d6641149d95\n"
          ]
        },
        {
          "name": "stdout",
          "output_type": "stream",
          "text": [
            "Techjockey\n",
            "jhattse Related Best Software Solution | Techjockey.com\n",
            "Jhattse Pricing & Reviews 2023 | Techjockey.com\n"
          ]
        },
        {
          "name": "stderr",
          "output_type": "stream",
          "text": [
            "WARNING:urllib3.connectionpool:Retrying (Retry(total=2, connect=None, read=None, redirect=None, status=None)) after connection broken by 'NewConnectionError('<urllib3.connection.HTTPConnection object at 0x7b3b4e7dad40>: Failed to establish a new connection: [Errno 111] Connection refused')': /session/edfe710085f451f4dcc1ae063274cd52\n",
            "WARNING:urllib3.connectionpool:Retrying (Retry(total=1, connect=None, read=None, redirect=None, status=None)) after connection broken by 'NewConnectionError('<urllib3.connection.HTTPConnection object at 0x7b3b4e7db310>: Failed to establish a new connection: [Errno 111] Connection refused')': /session/edfe710085f451f4dcc1ae063274cd52\n",
            "WARNING:urllib3.connectionpool:Retrying (Retry(total=0, connect=None, read=None, redirect=None, status=None)) after connection broken by 'NewConnectionError('<urllib3.connection.HTTPConnection object at 0x7b3b4e7d9210>: Failed to establish a new connection: [Errno 111] Connection refused')': /session/edfe710085f451f4dcc1ae063274cd52\n"
          ]
        },
        {
          "name": "stdout",
          "output_type": "stream",
          "text": [
            "Techjockey\n",
            "jhattse Related Best Software Solution | Techjockey.com\n",
            "Jhattse Pricing & Reviews 2023 | Techjockey.com\n"
          ]
        },
        {
          "name": "stderr",
          "output_type": "stream",
          "text": [
            "WARNING:urllib3.connectionpool:Retrying (Retry(total=2, connect=None, read=None, redirect=None, status=None)) after connection broken by 'NewConnectionError('<urllib3.connection.HTTPConnection object at 0x7b3b4f5a9030>: Failed to establish a new connection: [Errno 111] Connection refused')': /session/1ff85240099c30b1aa6952bc2ac7c2fb\n",
            "WARNING:urllib3.connectionpool:Retrying (Retry(total=1, connect=None, read=None, redirect=None, status=None)) after connection broken by 'NewConnectionError('<urllib3.connection.HTTPConnection object at 0x7b3b4f5ab3d0>: Failed to establish a new connection: [Errno 111] Connection refused')': /session/1ff85240099c30b1aa6952bc2ac7c2fb\n",
            "WARNING:urllib3.connectionpool:Retrying (Retry(total=0, connect=None, read=None, redirect=None, status=None)) after connection broken by 'NewConnectionError('<urllib3.connection.HTTPConnection object at 0x7b3b4f5a9090>: Failed to establish a new connection: [Errno 111] Connection refused')': /session/1ff85240099c30b1aa6952bc2ac7c2fb\n"
          ]
        },
        {
          "name": "stdout",
          "output_type": "stream",
          "text": [
            "Techjockey\n",
            "jhattse Related Best Software Solution | Techjockey.com\n",
            "Jhattse Pricing & Reviews 2023 | Techjockey.com\n"
          ]
        },
        {
          "name": "stderr",
          "output_type": "stream",
          "text": [
            "WARNING:urllib3.connectionpool:Retrying (Retry(total=2, connect=None, read=None, redirect=None, status=None)) after connection broken by 'NewConnectionError('<urllib3.connection.HTTPConnection object at 0x7b3b4f4078e0>: Failed to establish a new connection: [Errno 111] Connection refused')': /session/e77c526a993286b2810f94a86de8725f\n",
            "WARNING:urllib3.connectionpool:Retrying (Retry(total=1, connect=None, read=None, redirect=None, status=None)) after connection broken by 'NewConnectionError('<urllib3.connection.HTTPConnection object at 0x7b3b4f404b80>: Failed to establish a new connection: [Errno 111] Connection refused')': /session/e77c526a993286b2810f94a86de8725f\n",
            "WARNING:urllib3.connectionpool:Retrying (Retry(total=0, connect=None, read=None, redirect=None, status=None)) after connection broken by 'NewConnectionError('<urllib3.connection.HTTPConnection object at 0x7b3b4f407ac0>: Failed to establish a new connection: [Errno 111] Connection refused')': /session/e77c526a993286b2810f94a86de8725f\n"
          ]
        },
        {
          "name": "stdout",
          "output_type": "stream",
          "text": [
            "Techjockey\n",
            "jhattse Related Best Software Solution | Techjockey.com\n",
            "Jhattse Pricing & Reviews 2023 | Techjockey.com\n"
          ]
        },
        {
          "name": "stderr",
          "output_type": "stream",
          "text": [
            "WARNING:urllib3.connectionpool:Retrying (Retry(total=2, connect=None, read=None, redirect=None, status=None)) after connection broken by 'NewConnectionError('<urllib3.connection.HTTPConnection object at 0x7b3b4e77e980>: Failed to establish a new connection: [Errno 111] Connection refused')': /session/d6bdff6af6910346b731286f85f1f6b5\n",
            "WARNING:urllib3.connectionpool:Retrying (Retry(total=1, connect=None, read=None, redirect=None, status=None)) after connection broken by 'NewConnectionError('<urllib3.connection.HTTPConnection object at 0x7b3b4e7db340>: Failed to establish a new connection: [Errno 111] Connection refused')': /session/d6bdff6af6910346b731286f85f1f6b5\n",
            "WARNING:urllib3.connectionpool:Retrying (Retry(total=0, connect=None, read=None, redirect=None, status=None)) after connection broken by 'NewConnectionError('<urllib3.connection.HTTPConnection object at 0x7b3b4e7d9a80>: Failed to establish a new connection: [Errno 111] Connection refused')': /session/d6bdff6af6910346b731286f85f1f6b5\n"
          ]
        },
        {
          "name": "stdout",
          "output_type": "stream",
          "text": [
            "Techjockey\n",
            "jhattse Related Best Software Solution | Techjockey.com\n",
            "Jhattse Pricing & Reviews 2023 | Techjockey.com\n"
          ]
        },
        {
          "name": "stderr",
          "output_type": "stream",
          "text": [
            "WARNING:urllib3.connectionpool:Retrying (Retry(total=2, connect=None, read=None, redirect=None, status=None)) after connection broken by 'NewConnectionError('<urllib3.connection.HTTPConnection object at 0x7b3b4e7db9a0>: Failed to establish a new connection: [Errno 111] Connection refused')': /session/e6fbd0e61d698acb0e7bb4ede2fb20a0\n",
            "WARNING:urllib3.connectionpool:Retrying (Retry(total=1, connect=None, read=None, redirect=None, status=None)) after connection broken by 'NewConnectionError('<urllib3.connection.HTTPConnection object at 0x7b3b4e77f490>: Failed to establish a new connection: [Errno 111] Connection refused')': /session/e6fbd0e61d698acb0e7bb4ede2fb20a0\n",
            "WARNING:urllib3.connectionpool:Retrying (Retry(total=0, connect=None, read=None, redirect=None, status=None)) after connection broken by 'NewConnectionError('<urllib3.connection.HTTPConnection object at 0x7b3b4e77f9d0>: Failed to establish a new connection: [Errno 111] Connection refused')': /session/e6fbd0e61d698acb0e7bb4ede2fb20a0\n"
          ]
        },
        {
          "name": "stdout",
          "output_type": "stream",
          "text": [
            "Techjockey\n",
            "jhattse Related Best Software Solution | Techjockey.com\n",
            "Jhattse Pricing & Reviews 2023 | Techjockey.com\n"
          ]
        },
        {
          "name": "stderr",
          "output_type": "stream",
          "text": [
            "WARNING:urllib3.connectionpool:Retrying (Retry(total=2, connect=None, read=None, redirect=None, status=None)) after connection broken by 'NewConnectionError('<urllib3.connection.HTTPConnection object at 0x7b3b4f406cb0>: Failed to establish a new connection: [Errno 111] Connection refused')': /session/71cf9006ffcb8d780a9a039613a801bc\n",
            "WARNING:urllib3.connectionpool:Retrying (Retry(total=1, connect=None, read=None, redirect=None, status=None)) after connection broken by 'NewConnectionError('<urllib3.connection.HTTPConnection object at 0x7b3b4f4078e0>: Failed to establish a new connection: [Errno 111] Connection refused')': /session/71cf9006ffcb8d780a9a039613a801bc\n",
            "WARNING:urllib3.connectionpool:Retrying (Retry(total=0, connect=None, read=None, redirect=None, status=None)) after connection broken by 'NewConnectionError('<urllib3.connection.HTTPConnection object at 0x7b3b4f407bb0>: Failed to establish a new connection: [Errno 111] Connection refused')': /session/71cf9006ffcb8d780a9a039613a801bc\n"
          ]
        },
        {
          "name": "stdout",
          "output_type": "stream",
          "text": [
            "Techjockey\n",
            "jhattse Related Best Software Solution | Techjockey.com\n",
            "Jhattse Pricing & Reviews 2023 | Techjockey.com\n"
          ]
        },
        {
          "name": "stderr",
          "output_type": "stream",
          "text": [
            "WARNING:urllib3.connectionpool:Retrying (Retry(total=2, connect=None, read=None, redirect=None, status=None)) after connection broken by 'NewConnectionError('<urllib3.connection.HTTPConnection object at 0x7b3b4f5a9030>: Failed to establish a new connection: [Errno 111] Connection refused')': /session/5aee699a63553d2e5c8537194a7f5e30\n",
            "WARNING:urllib3.connectionpool:Retrying (Retry(total=1, connect=None, read=None, redirect=None, status=None)) after connection broken by 'NewConnectionError('<urllib3.connection.HTTPConnection object at 0x7b3b4f5a98d0>: Failed to establish a new connection: [Errno 111] Connection refused')': /session/5aee699a63553d2e5c8537194a7f5e30\n",
            "WARNING:urllib3.connectionpool:Retrying (Retry(total=0, connect=None, read=None, redirect=None, status=None)) after connection broken by 'NewConnectionError('<urllib3.connection.HTTPConnection object at 0x7b3b4f5abb20>: Failed to establish a new connection: [Errno 111] Connection refused')': /session/5aee699a63553d2e5c8537194a7f5e30\n"
          ]
        },
        {
          "name": "stdout",
          "output_type": "stream",
          "text": [
            "Techjockey\n",
            "jhattse Related Best Software Solution | Techjockey.com\n",
            "Jhattse Pricing & Reviews 2023 | Techjockey.com\n"
          ]
        },
        {
          "name": "stderr",
          "output_type": "stream",
          "text": [
            "WARNING:urllib3.connectionpool:Retrying (Retry(total=2, connect=None, read=None, redirect=None, status=None)) after connection broken by 'NewConnectionError('<urllib3.connection.HTTPConnection object at 0x7b3b4e7dbe80>: Failed to establish a new connection: [Errno 111] Connection refused')': /session/7cde1277f75a1c0015dc6affecdb64f0\n",
            "WARNING:urllib3.connectionpool:Retrying (Retry(total=1, connect=None, read=None, redirect=None, status=None)) after connection broken by 'NewConnectionError('<urllib3.connection.HTTPConnection object at 0x7b3b4e7d9ed0>: Failed to establish a new connection: [Errno 111] Connection refused')': /session/7cde1277f75a1c0015dc6affecdb64f0\n",
            "WARNING:urllib3.connectionpool:Retrying (Retry(total=0, connect=None, read=None, redirect=None, status=None)) after connection broken by 'NewConnectionError('<urllib3.connection.HTTPConnection object at 0x7b3b4e7d8820>: Failed to establish a new connection: [Errno 111] Connection refused')': /session/7cde1277f75a1c0015dc6affecdb64f0\n"
          ]
        },
        {
          "name": "stdout",
          "output_type": "stream",
          "text": [
            "Techjockey\n",
            "jhattse Related Best Software Solution | Techjockey.com\n",
            "Jhattse Pricing & Reviews 2023 | Techjockey.com\n"
          ]
        },
        {
          "name": "stderr",
          "output_type": "stream",
          "text": [
            "WARNING:urllib3.connectionpool:Retrying (Retry(total=2, connect=None, read=None, redirect=None, status=None)) after connection broken by 'NewConnectionError('<urllib3.connection.HTTPConnection object at 0x7b3b4f5a8340>: Failed to establish a new connection: [Errno 111] Connection refused')': /session/c4a92082cb6339ab6671eb7f84afea59\n",
            "WARNING:urllib3.connectionpool:Retrying (Retry(total=1, connect=None, read=None, redirect=None, status=None)) after connection broken by 'NewConnectionError('<urllib3.connection.HTTPConnection object at 0x7b3b4f405300>: Failed to establish a new connection: [Errno 111] Connection refused')': /session/c4a92082cb6339ab6671eb7f84afea59\n",
            "WARNING:urllib3.connectionpool:Retrying (Retry(total=0, connect=None, read=None, redirect=None, status=None)) after connection broken by 'NewConnectionError('<urllib3.connection.HTTPConnection object at 0x7b3b4f405960>: Failed to establish a new connection: [Errno 111] Connection refused')': /session/c4a92082cb6339ab6671eb7f84afea59\n"
          ]
        },
        {
          "name": "stdout",
          "output_type": "stream",
          "text": [
            "Techjockey\n",
            "jhattse Related Best Software Solution | Techjockey.com\n",
            "Jhattse Pricing & Reviews 2023 | Techjockey.com\n"
          ]
        },
        {
          "name": "stderr",
          "output_type": "stream",
          "text": [
            "WARNING:urllib3.connectionpool:Retrying (Retry(total=2, connect=None, read=None, redirect=None, status=None)) after connection broken by 'NewConnectionError('<urllib3.connection.HTTPConnection object at 0x7b3b4f405a80>: Failed to establish a new connection: [Errno 111] Connection refused')': /session/32030b76352fdc55a2016e661a4b0b2b\n",
            "WARNING:urllib3.connectionpool:Retrying (Retry(total=1, connect=None, read=None, redirect=None, status=None)) after connection broken by 'NewConnectionError('<urllib3.connection.HTTPConnection object at 0x7b3b4f407c10>: Failed to establish a new connection: [Errno 111] Connection refused')': /session/32030b76352fdc55a2016e661a4b0b2b\n",
            "WARNING:urllib3.connectionpool:Retrying (Retry(total=0, connect=None, read=None, redirect=None, status=None)) after connection broken by 'NewConnectionError('<urllib3.connection.HTTPConnection object at 0x7b3b4f4072e0>: Failed to establish a new connection: [Errno 111] Connection refused')': /session/32030b76352fdc55a2016e661a4b0b2b\n"
          ]
        },
        {
          "name": "stdout",
          "output_type": "stream",
          "text": [
            "Techjockey\n",
            "jhattse Related Best Software Solution | Techjockey.com\n",
            "Jhattse Pricing & Reviews 2023 | Techjockey.com\n"
          ]
        },
        {
          "name": "stderr",
          "output_type": "stream",
          "text": [
            "WARNING:urllib3.connectionpool:Retrying (Retry(total=2, connect=None, read=None, redirect=None, status=None)) after connection broken by 'NewConnectionError('<urllib3.connection.HTTPConnection object at 0x7b3b4e7d9630>: Failed to establish a new connection: [Errno 111] Connection refused')': /session/ebe66cea8fc5498a959ddf51e1414f0d\n",
            "WARNING:urllib3.connectionpool:Retrying (Retry(total=1, connect=None, read=None, redirect=None, status=None)) after connection broken by 'NewConnectionError('<urllib3.connection.HTTPConnection object at 0x7b3b4e7d8a30>: Failed to establish a new connection: [Errno 111] Connection refused')': /session/ebe66cea8fc5498a959ddf51e1414f0d\n",
            "WARNING:urllib3.connectionpool:Retrying (Retry(total=0, connect=None, read=None, redirect=None, status=None)) after connection broken by 'NewConnectionError('<urllib3.connection.HTTPConnection object at 0x7b3b4e7d88b0>: Failed to establish a new connection: [Errno 111] Connection refused')': /session/ebe66cea8fc5498a959ddf51e1414f0d\n"
          ]
        },
        {
          "name": "stdout",
          "output_type": "stream",
          "text": [
            "Techjockey\n",
            "jhattse Related Best Software Solution | Techjockey.com\n",
            "Jhattse Pricing & Reviews 2023 | Techjockey.com\n"
          ]
        },
        {
          "name": "stderr",
          "output_type": "stream",
          "text": [
            "WARNING:urllib3.connectionpool:Retrying (Retry(total=2, connect=None, read=None, redirect=None, status=None)) after connection broken by 'NewConnectionError('<urllib3.connection.HTTPConnection object at 0x7b3b4e7dae90>: Failed to establish a new connection: [Errno 111] Connection refused')': /session/125bb0df1d0927d47f8255e0f20f4029\n",
            "WARNING:urllib3.connectionpool:Retrying (Retry(total=1, connect=None, read=None, redirect=None, status=None)) after connection broken by 'NewConnectionError('<urllib3.connection.HTTPConnection object at 0x7b3b4e7dbeb0>: Failed to establish a new connection: [Errno 111] Connection refused')': /session/125bb0df1d0927d47f8255e0f20f4029\n",
            "WARNING:urllib3.connectionpool:Retrying (Retry(total=0, connect=None, read=None, redirect=None, status=None)) after connection broken by 'NewConnectionError('<urllib3.connection.HTTPConnection object at 0x7b3b4e7dacb0>: Failed to establish a new connection: [Errno 111] Connection refused')': /session/125bb0df1d0927d47f8255e0f20f4029\n"
          ]
        },
        {
          "name": "stdout",
          "output_type": "stream",
          "text": [
            "Techjockey\n",
            "jhattse Related Best Software Solution | Techjockey.com\n",
            "Jhattse Pricing & Reviews 2023 | Techjockey.com\n"
          ]
        },
        {
          "name": "stderr",
          "output_type": "stream",
          "text": [
            "WARNING:urllib3.connectionpool:Retrying (Retry(total=2, connect=None, read=None, redirect=None, status=None)) after connection broken by 'NewConnectionError('<urllib3.connection.HTTPConnection object at 0x7b3b4e7dbd90>: Failed to establish a new connection: [Errno 111] Connection refused')': /session/699559bc785eaf70ea477a553ba4cd06\n",
            "WARNING:urllib3.connectionpool:Retrying (Retry(total=1, connect=None, read=None, redirect=None, status=None)) after connection broken by 'NewConnectionError('<urllib3.connection.HTTPConnection object at 0x7b3b4f406b60>: Failed to establish a new connection: [Errno 111] Connection refused')': /session/699559bc785eaf70ea477a553ba4cd06\n",
            "WARNING:urllib3.connectionpool:Retrying (Retry(total=0, connect=None, read=None, redirect=None, status=None)) after connection broken by 'NewConnectionError('<urllib3.connection.HTTPConnection object at 0x7b3b4f406c20>: Failed to establish a new connection: [Errno 111] Connection refused')': /session/699559bc785eaf70ea477a553ba4cd06\n"
          ]
        },
        {
          "name": "stdout",
          "output_type": "stream",
          "text": [
            "Techjockey\n",
            "jhattse Related Best Software Solution | Techjockey.com\n",
            "Jhattse Pricing & Reviews 2023 | Techjockey.com\n"
          ]
        },
        {
          "name": "stderr",
          "output_type": "stream",
          "text": [
            "WARNING:urllib3.connectionpool:Retrying (Retry(total=2, connect=None, read=None, redirect=None, status=None)) after connection broken by 'NewConnectionError('<urllib3.connection.HTTPConnection object at 0x7b3b4f4068c0>: Failed to establish a new connection: [Errno 111] Connection refused')': /session/4039afd5e1a4a957ec1c803cc2fb4491\n",
            "WARNING:urllib3.connectionpool:Retrying (Retry(total=1, connect=None, read=None, redirect=None, status=None)) after connection broken by 'NewConnectionError('<urllib3.connection.HTTPConnection object at 0x7b3b4f4072e0>: Failed to establish a new connection: [Errno 111] Connection refused')': /session/4039afd5e1a4a957ec1c803cc2fb4491\n",
            "WARNING:urllib3.connectionpool:Retrying (Retry(total=0, connect=None, read=None, redirect=None, status=None)) after connection broken by 'NewConnectionError('<urllib3.connection.HTTPConnection object at 0x7b3b4f405a80>: Failed to establish a new connection: [Errno 111] Connection refused')': /session/4039afd5e1a4a957ec1c803cc2fb4491\n"
          ]
        },
        {
          "name": "stdout",
          "output_type": "stream",
          "text": [
            "Techjockey\n",
            "jhattse Related Best Software Solution | Techjockey.com\n",
            "Jhattse Pricing & Reviews 2023 | Techjockey.com\n"
          ]
        },
        {
          "name": "stderr",
          "output_type": "stream",
          "text": [
            "WARNING:urllib3.connectionpool:Retrying (Retry(total=2, connect=None, read=None, redirect=None, status=None)) after connection broken by 'NewConnectionError('<urllib3.connection.HTTPConnection object at 0x7b3b4f5abb20>: Failed to establish a new connection: [Errno 111] Connection refused')': /session/901b75a7a8d992d6b7a6465ccd300203\n",
            "WARNING:urllib3.connectionpool:Retrying (Retry(total=1, connect=None, read=None, redirect=None, status=None)) after connection broken by 'NewConnectionError('<urllib3.connection.HTTPConnection object at 0x7b3b4f4053c0>: Failed to establish a new connection: [Errno 111] Connection refused')': /session/901b75a7a8d992d6b7a6465ccd300203\n",
            "WARNING:urllib3.connectionpool:Retrying (Retry(total=0, connect=None, read=None, redirect=None, status=None)) after connection broken by 'NewConnectionError('<urllib3.connection.HTTPConnection object at 0x7b3b4f5ab910>: Failed to establish a new connection: [Errno 111] Connection refused')': /session/901b75a7a8d992d6b7a6465ccd300203\n"
          ]
        },
        {
          "name": "stdout",
          "output_type": "stream",
          "text": [
            "Techjockey\n",
            "jhattse Related Best Software Solution | Techjockey.com\n",
            "Jhattse Pricing & Reviews 2023 | Techjockey.com\n"
          ]
        },
        {
          "name": "stderr",
          "output_type": "stream",
          "text": [
            "WARNING:urllib3.connectionpool:Retrying (Retry(total=2, connect=None, read=None, redirect=None, status=None)) after connection broken by 'NewConnectionError('<urllib3.connection.HTTPConnection object at 0x7b3b4f407cd0>: Failed to establish a new connection: [Errno 111] Connection refused')': /session/8518e28d89da9430defaa23c1267022f\n",
            "WARNING:urllib3.connectionpool:Retrying (Retry(total=1, connect=None, read=None, redirect=None, status=None)) after connection broken by 'NewConnectionError('<urllib3.connection.HTTPConnection object at 0x7b3b4f4060b0>: Failed to establish a new connection: [Errno 111] Connection refused')': /session/8518e28d89da9430defaa23c1267022f\n",
            "WARNING:urllib3.connectionpool:Retrying (Retry(total=0, connect=None, read=None, redirect=None, status=None)) after connection broken by 'NewConnectionError('<urllib3.connection.HTTPConnection object at 0x7b3b4f404b50>: Failed to establish a new connection: [Errno 111] Connection refused')': /session/8518e28d89da9430defaa23c1267022f\n"
          ]
        },
        {
          "name": "stdout",
          "output_type": "stream",
          "text": [
            "Techjockey\n",
            "jhattse Related Best Software Solution | Techjockey.com\n",
            "Jhattse Pricing & Reviews 2023 | Techjockey.com\n"
          ]
        },
        {
          "name": "stderr",
          "output_type": "stream",
          "text": [
            "WARNING:urllib3.connectionpool:Retrying (Retry(total=2, connect=None, read=None, redirect=None, status=None)) after connection broken by 'NewConnectionError('<urllib3.connection.HTTPConnection object at 0x7b3b4e7db160>: Failed to establish a new connection: [Errno 111] Connection refused')': /session/2657045d4a3aa4af1c340e6d999c1457\n",
            "WARNING:urllib3.connectionpool:Retrying (Retry(total=1, connect=None, read=None, redirect=None, status=None)) after connection broken by 'NewConnectionError('<urllib3.connection.HTTPConnection object at 0x7b3b4e7da740>: Failed to establish a new connection: [Errno 111] Connection refused')': /session/2657045d4a3aa4af1c340e6d999c1457\n",
            "WARNING:urllib3.connectionpool:Retrying (Retry(total=0, connect=None, read=None, redirect=None, status=None)) after connection broken by 'NewConnectionError('<urllib3.connection.HTTPConnection object at 0x7b3b4e7da680>: Failed to establish a new connection: [Errno 111] Connection refused')': /session/2657045d4a3aa4af1c340e6d999c1457\n"
          ]
        },
        {
          "name": "stdout",
          "output_type": "stream",
          "text": [
            "Techjockey\n",
            "jhattse Related Best Software Solution | Techjockey.com\n",
            "Jhattse Pricing & Reviews 2023 | Techjockey.com\n"
          ]
        },
        {
          "name": "stderr",
          "output_type": "stream",
          "text": [
            "WARNING:urllib3.connectionpool:Retrying (Retry(total=2, connect=None, read=None, redirect=None, status=None)) after connection broken by 'NewConnectionError('<urllib3.connection.HTTPConnection object at 0x7b3b4e5d92a0>: Failed to establish a new connection: [Errno 111] Connection refused')': /session/c8c160a90d4842c260430a7f43cab30e\n",
            "WARNING:urllib3.connectionpool:Retrying (Retry(total=1, connect=None, read=None, redirect=None, status=None)) after connection broken by 'NewConnectionError('<urllib3.connection.HTTPConnection object at 0x7b3b4e5d9690>: Failed to establish a new connection: [Errno 111] Connection refused')': /session/c8c160a90d4842c260430a7f43cab30e\n",
            "WARNING:urllib3.connectionpool:Retrying (Retry(total=0, connect=None, read=None, redirect=None, status=None)) after connection broken by 'NewConnectionError('<urllib3.connection.HTTPConnection object at 0x7b3b4e5d9270>: Failed to establish a new connection: [Errno 111] Connection refused')': /session/c8c160a90d4842c260430a7f43cab30e\n"
          ]
        },
        {
          "name": "stdout",
          "output_type": "stream",
          "text": [
            "Techjockey\n",
            "jhattse Related Best Software Solution | Techjockey.com\n",
            "Jhattse Pricing & Reviews 2023 | Techjockey.com\n"
          ]
        },
        {
          "name": "stderr",
          "output_type": "stream",
          "text": [
            "WARNING:urllib3.connectionpool:Retrying (Retry(total=2, connect=None, read=None, redirect=None, status=None)) after connection broken by 'NewConnectionError('<urllib3.connection.HTTPConnection object at 0x7b3b4f4041f0>: Failed to establish a new connection: [Errno 111] Connection refused')': /session/25804ac77fd51211c4a8f7de57870b63\n",
            "WARNING:urllib3.connectionpool:Retrying (Retry(total=1, connect=None, read=None, redirect=None, status=None)) after connection broken by 'NewConnectionError('<urllib3.connection.HTTPConnection object at 0x7b3b4f405570>: Failed to establish a new connection: [Errno 111] Connection refused')': /session/25804ac77fd51211c4a8f7de57870b63\n",
            "WARNING:urllib3.connectionpool:Retrying (Retry(total=0, connect=None, read=None, redirect=None, status=None)) after connection broken by 'NewConnectionError('<urllib3.connection.HTTPConnection object at 0x7b3b4f407bb0>: Failed to establish a new connection: [Errno 111] Connection refused')': /session/25804ac77fd51211c4a8f7de57870b63\n"
          ]
        },
        {
          "name": "stdout",
          "output_type": "stream",
          "text": [
            "Techjockey\n",
            "jhattse Related Best Software Solution | Techjockey.com\n",
            "Jhattse Pricing & Reviews 2023 | Techjockey.com\n"
          ]
        },
        {
          "name": "stderr",
          "output_type": "stream",
          "text": [
            "WARNING:urllib3.connectionpool:Retrying (Retry(total=2, connect=None, read=None, redirect=None, status=None)) after connection broken by 'NewConnectionError('<urllib3.connection.HTTPConnection object at 0x7b3b4f5a9ae0>: Failed to establish a new connection: [Errno 111] Connection refused')': /session/3ac41d734e2337c7ade2960bee5d0213\n",
            "WARNING:urllib3.connectionpool:Retrying (Retry(total=1, connect=None, read=None, redirect=None, status=None)) after connection broken by 'NewConnectionError('<urllib3.connection.HTTPConnection object at 0x7b3b4f407dc0>: Failed to establish a new connection: [Errno 111] Connection refused')': /session/3ac41d734e2337c7ade2960bee5d0213\n",
            "WARNING:urllib3.connectionpool:Retrying (Retry(total=0, connect=None, read=None, redirect=None, status=None)) after connection broken by 'NewConnectionError('<urllib3.connection.HTTPConnection object at 0x7b3b4f5aa9b0>: Failed to establish a new connection: [Errno 111] Connection refused')': /session/3ac41d734e2337c7ade2960bee5d0213\n"
          ]
        },
        {
          "name": "stdout",
          "output_type": "stream",
          "text": [
            "Techjockey\n"
          ]
        }
      ],
      "source": [
        "\n",
        "for _ in range(1000):\n",
        "  try:\n",
        "    with driver_generator() as driver:\n",
        "      driver.get('https://www.techjockey.com/search?keyword=jhattse')\n",
        "      print(driver.title)\n",
        "      time.sleep(5)\n",
        "      driver.get('https://www.techjockey.com/detail/jhattse')\n",
        "      time.sleep(5)\n",
        "      print(driver.title)\n",
        "      driver.get('https://www.techjockey.com/ordernow/jhattse')\n",
        "      time.sleep(5)\n",
        "      print(driver.title)\n",
        "      driver.quit()\n",
        "  except Exception  as e:\n",
        "    pass\n"
      ]
    },
    {
      "cell_type": "code",
      "execution_count": null,
      "metadata": {
        "colab": {
          "base_uri": "https://localhost:8080/"
        },
        "id": "nGLTDWJGW5eH",
        "outputId": "473cf4d2-73d1-4ac3-c348-11b48755bb45"
      },
      "outputs": [
        {
          "name": "stdout",
          "output_type": "stream",
          "text": [
            "jhattse Related Best Software Solution | Techjockey.com\n",
            "Jhattse Pricing & Reviews 2023 | Techjockey.com\n",
            "Techjockey\n",
            "jhattse Related Best Software Solution | Techjockey.com\n",
            "Jhattse Pricing & Reviews 2023 | Techjockey.com\n",
            "Techjockey\n",
            "jhattse Related Best Software Solution | Techjockey.com\n",
            "Jhattse Pricing & Reviews 2023 | Techjockey.com\n",
            "Techjockey\n",
            "jhattse Related Best Software Solution | Techjockey.com\n",
            "Jhattse Pricing & Reviews 2023 | Techjockey.com\n",
            "Techjockey\n",
            "jhattse Related Best Software Solution | Techjockey.com\n",
            "Jhattse Pricing & Reviews 2023 | Techjockey.com\n",
            "Techjockey\n",
            "jhattse Related Best Software Solution | Techjockey.com\n",
            "Jhattse Pricing & Reviews 2023 | Techjockey.com\n",
            "Techjockey\n",
            "An error occurred: Message: session not created\n",
            "from timeout: Timed out receiving message from renderer: 600.000\n",
            "  (Session info: headless chrome=90.0.4430.212)\n",
            "Stacktrace:\n",
            "#0 0x5652ef8f27f9 <unknown>\n",
            "#1 0x5652ef8923b3 <unknown>\n",
            "#2 0x5652ef5da016 <unknown>\n",
            "#3 0x5652ef5c4bd1 <unknown>\n",
            "#4 0x5652ef5c3ae7 <unknown>\n",
            "#5 0x5652ef5c3f51 <unknown>\n",
            "#6 0x5652ef5c34f2 <unknown>\n",
            "#7 0x5652ef5d772c <unknown>\n",
            "#8 0x5652ef5c34a6 <unknown>\n",
            "#9 0x5652ef5c4727 <unknown>\n",
            "#10 0x5652ef5c3ae7 <unknown>\n",
            "#11 0x5652ef5c3f51 <unknown>\n",
            "#12 0x5652ef5c34f2 <unknown>\n",
            "#13 0x5652ef5cb9b5 <unknown>\n",
            "#14 0x5652ef5cba1c <unknown>\n",
            "#15 0x5652ef5c34a6 <unknown>\n",
            "#16 0x5652ef5c4727 <unknown>\n",
            "#17 0x5652ef5c3ae7 <unknown>\n",
            "#18 0x5652ef5c3f51 <unknown>\n",
            "#19 0x5652ef5c34f2 <unknown>\n",
            "#20 0x5652ef5ced2a <unknown>\n",
            "#21 0x5652ef5c34a6 <unknown>\n",
            "#22 0x5652ef5c4727 <unknown>\n",
            "#23 0x5652ef5c3ae7 <unknown>\n",
            "#24 0x5652ef5c3f51 <unknown>\n",
            "#25 0x5652ef5c34f2 <unknown>\n",
            "#26 0x5652ef5cc3a5 <unknown>\n",
            "#27 0x5652ef5c34a6 <unknown>\n",
            "#28 0x5652ef5c4727 <unknown>\n",
            "#29 0x5652ef5c3ae7 <unknown>\n",
            "#30 0x5652ef5c3f51 <unknown>\n",
            "#31 0x5652ef5c34f2 <unknown>\n",
            "#32 0x5652ef5caced <unknown>\n",
            "#33 0x5652ef5c34a6 <unknown>\n",
            "#34 0x5652ef5c4727 <unknown>\n",
            "#35 0x5652ef5c3ae7 <unknown>\n",
            "#36 0x5652ef5c3f51 <unknown>\n",
            "#37 0x5652ef5c34f2 <unknown>\n",
            "#38 0x5652ef5bdee5 <unknown>\n",
            "#39 0x5652ef5c34a6 <unknown>\n",
            "#40 0x5652ef5c3419 <unknown>\n",
            "#41 0x5652ef5c2f03 <unknown>\n",
            "#42 0x5652ef5dba33 <unknown>\n",
            "#43 0x5652ef637eee <unknown>\n",
            "#44 0x5652ef631c93 <unknown>\n",
            "#45 0x5652ef603ce4 <unknown>\n",
            "#46 0x5652ef6054d2 <unknown>\n",
            "#47 0x5652ef8be542 <unknown>\n",
            "#48 0x5652ef8cdce7 <unknown>\n",
            "#49 0x5652ef8cd9e4 <unknown>\n",
            "#50 0x5652ef8d213a <unknown>\n",
            "#51 0x5652ef8ce5b9 <unknown>\n",
            "#52 0x5652ef8b3e00 <unknown>\n",
            "#53 0x5652ef8e55d2 <unknown>\n",
            "#54 0x5652ef8e5778 <unknown>\n",
            "#55 0x5652ef8fda1f <unknown>\n",
            "#56 0x7d3ef953f609 start_thread\n",
            "#57 0x7d3ef8752133 clone\n",
            "\n"
          ]
        }
      ],
      "source": [
        "import sys\n",
        "import time\n",
        "from selenium import webdriver\n",
        "from selenium.webdriver.chrome.service import Service\n",
        "from selenium.webdriver.chrome.options import Options\n",
        "from urllib3.exceptions import NewConnectionError\n",
        "from requests.exceptions import ConnectionError\n",
        "from selenium.common.exceptions import WebDriverException\n",
        "\n",
        "MAX_RETRIES = 3\n",
        "\n",
        "def driver_generator():\n",
        "    sys.path.insert(0, '/usr/lib/chromium-browser/chromedriver')\n",
        "    options = Options()\n",
        "    # options.headless = True\n",
        "    options.add_argument('--headless')\n",
        "    options.add_argument('--no-sandbox')\n",
        "    options.add_argument('--disable-dev-shm-usage')\n",
        "    service = Service('chromedriver')\n",
        "    driver = webdriver.Chrome(service=service, options=options)\n",
        "    return driver\n",
        "\n",
        "def process_page(driver, url):\n",
        "    retries = 0\n",
        "    while retries < MAX_RETRIES:\n",
        "        try:\n",
        "            driver.get(url)\n",
        "            print(driver.title)\n",
        "            time.sleep(5)\n",
        "            return\n",
        "        except (NewConnectionError, ConnectionError) as e:\n",
        "            retries += 10\n",
        "            print(f\"Connection error occurred. Retrying ({retries}/{MAX_RETRIES})...\")\n",
        "            time.sleep(5)\n",
        "        except WebDriverException as e:\n",
        "            retries += 10\n",
        "            print(f\"WebDriver error occurred. Retrying ({retries}/{MAX_RETRIES})...\")\n",
        "            time.sleep(5)\n",
        "    print(\"Failed to establish a connection after multiple retries.\")\n",
        "\n",
        "try:\n",
        "    for _ in range(10000):\n",
        "        with driver_generator() as driver:\n",
        "            process_page(driver, 'https://www.techjockey.com/search?keyword=jhattse')\n",
        "            process_page(driver, 'https://www.techjockey.com/detail/jhattse')\n",
        "            process_page(driver, 'https://www.techjockey.com/ordernow/jhattse')\n",
        "except Exception as e:\n",
        "    print(f\"An error occurred: {str(e)}\")\n"
      ]
    },
    {
      "cell_type": "code",
      "execution_count": null,
      "metadata": {
        "id": "bW5zYnqU8BE9"
      },
      "outputs": [],
      "source": [
        "url = \"https://www.google.com/search?q=all%20restaurants%20in%20dehradun&oq=all+restaurants+in+dehradun\""
      ]
    },
    {
      "cell_type": "code",
      "execution_count": null,
      "metadata": {
        "id": "WKzFq__5DTBW"
      },
      "outputs": [],
      "source": [
        "with driver_generator() as driver:\n",
        "  driver.get(url)\n",
        "  print(driver.title)\n",
        "  driver.find_elements(By.X)\n",
        "  //*[@id=\"tsuid_17\"]/div[2]/div/div/a[1]/div/div/div[1]/span"
      ]
    },
    {
      "cell_type": "code",
      "execution_count": null,
      "metadata": {
        "id": "QaYOP0WhHDpf"
      },
      "outputs": [],
      "source": [
        "https://www.google.com/search?q=all%20restaurants%20in%20dehradun"
      ]
    }
  ],
  "metadata": {
    "colab": {
      "provenance": [],
      "include_colab_link": true
    },
    "kernelspec": {
      "display_name": "Python 3",
      "name": "python3"
    },
    "language_info": {
      "name": "python"
    }
  },
  "nbformat": 4,
  "nbformat_minor": 0
}